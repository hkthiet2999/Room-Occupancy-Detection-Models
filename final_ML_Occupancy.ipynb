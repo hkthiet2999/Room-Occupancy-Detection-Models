{
  "nbformat": 4,
  "nbformat_minor": 0,
  "metadata": {
    "colab": {
      "name": "finalML_Occupancy.ipynb",
      "provenance": [],
      "collapsed_sections": [],
      "toc_visible": true
    },
    "kernelspec": {
      "name": "python3",
      "display_name": "Python 3"
    },
    "language_info": {
      "name": "python"
    }
  },
  "cells": [
    {
      "cell_type": "code",
      "metadata": {
        "id": "5FopXnBtcfo6",
        "colab": {
          "base_uri": "https://localhost:8080/",
          "height": 17
        },
        "outputId": "89abc14a-5fda-480c-bbf1-b713d14e8cb5"
      },
      "source": [
        "#\n",
        "import seaborn as sns; sns.set()\n",
        "import matplotlib.pyplot as plt\n",
        "from plotly.offline import init_notebook_mode, iplot, plot\n",
        "init_notebook_mode(connected=True)\n",
        "import plotly.express as px\n",
        "import plotly.graph_objects as go\n"
      ],
      "execution_count": 96,
      "outputs": [
        {
          "output_type": "display_data",
          "data": {
            "text/html": [
              "        <script type=\"text/javascript\">\n",
              "        window.PlotlyConfig = {MathJaxConfig: 'local'};\n",
              "        if (window.MathJax) {MathJax.Hub.Config({SVG: {font: \"STIX-Web\"}});}\n",
              "        if (typeof require !== 'undefined') {\n",
              "        require.undef(\"plotly\");\n",
              "        requirejs.config({\n",
              "            paths: {\n",
              "                'plotly': ['https://cdn.plot.ly/plotly-latest.min']\n",
              "            }\n",
              "        });\n",
              "        require(['plotly'], function(Plotly) {\n",
              "            window._Plotly = Plotly;\n",
              "        });\n",
              "        }\n",
              "        </script>\n",
              "        "
            ]
          },
          "metadata": {
            "tags": []
          }
        }
      ]
    },
    {
      "cell_type": "markdown",
      "metadata": {
        "id": "Ubyo9EDUOPch"
      },
      "source": [
        "- Hoàng Kiến Thiết\n",
        "- Nguyễn Trọng Nhật\n",
        "- Link download datasets: https://drive.google.com/file/d/1iAQzMQIIP8uVrsMQZJReh2mLaN8P_orZ/view?usp=sharing"
      ]
    },
    {
      "cell_type": "code",
      "metadata": {
        "colab": {
          "base_uri": "https://localhost:8080/"
        },
        "id": "p0_DZYaxOOd6",
        "outputId": "3af20526-cccb-4a41-db4b-6e570d44caf6"
      },
      "source": [
        "!gdown --id 1iAQzMQIIP8uVrsMQZJReh2mLaN8P_orZ"
      ],
      "execution_count": 1,
      "outputs": [
        {
          "output_type": "stream",
          "text": [
            "Downloading...\n",
            "From: https://drive.google.com/uc?id=1iAQzMQIIP8uVrsMQZJReh2mLaN8P_orZ\n",
            "To: /content/occupancy_data.zip\n",
            "\r  0% 0.00/336k [00:00<?, ?B/s]\r100% 336k/336k [00:00<00:00, 49.5MB/s]\n"
          ],
          "name": "stdout"
        }
      ]
    },
    {
      "cell_type": "code",
      "metadata": {
        "colab": {
          "base_uri": "https://localhost:8080/"
        },
        "id": "5o4Ekff-OZmZ",
        "outputId": "cdf3462f-3ff8-4680-de2e-499b22e7ece4"
      },
      "source": [
        "!unzip /content/occupancy_data.zip"
      ],
      "execution_count": 2,
      "outputs": [
        {
          "output_type": "stream",
          "text": [
            "Archive:  /content/occupancy_data.zip\n",
            "  inflating: datatest.txt            \n",
            "  inflating: datatest2.txt           \n",
            "  inflating: datatraining.txt        \n"
          ],
          "name": "stdout"
        }
      ]
    },
    {
      "cell_type": "markdown",
      "metadata": {
        "id": "BDoUzWMzfitP"
      },
      "source": [
        "# Data Description\n",
        "- Source: https://archive.ics.uci.edu/ml/datasets/Occupancy+Detection+\n",
        "- Contents: \"no\",\"date\",\"Temperature\",\"Humidity\",\"Light\",\"CO2\",\"HumidityRatio\",\"Occupancy\"\n",
        "- Attribute Information:\n",
        "  + date time year-month-day hour:minute:second\n",
        "  + Temperature, in Celsius\n",
        "  + Relative Humidity, %\n",
        "  + Light, in Lux\n",
        "  + CO2, in ppm\n",
        "  + Humidity Ratio, Derived quantity from temperature and relative humidity, in kgwater-vapor/kg-air\n",
        "Occupancy, 0 or 1, 0 for not occupied, 1 for occupied status\n",
        "- Details:\n",
        " + Dự đoán trong phòng làm việc đang có người ở hay không bằng cách sử dụng các quan sát môi trường như nhiệt độ, độ ẩm và mức CO2. Dự đoán này có thể giúp ích cho lĩnh vực Hệ thống sưởi, Thông gió và Điều hòa không khí (HVAC). \n"
      ]
    },
    {
      "cell_type": "code",
      "metadata": {
        "id": "uWOze5nVOhNz"
      },
      "source": [
        "import pandas as pd\n",
        "datatest = pd.read_csv(\"datatest.txt\")\n",
        "datatest2 = pd.read_csv(\"datatest2.txt\")\n",
        "datatraining = pd.read_csv(\"datatraining.txt\")"
      ],
      "execution_count": 120,
      "outputs": []
    },
    {
      "cell_type": "code",
      "metadata": {
        "colab": {
          "base_uri": "https://localhost:8080/",
          "height": 459
        },
        "id": "nF4ec-vbT7HI",
        "outputId": "f5060f3f-48a9-4bf6-f535-eb4c90ef6936"
      },
      "source": [
        "print(datatest.info())\n",
        "datatest.head()"
      ],
      "execution_count": null,
      "outputs": [
        {
          "output_type": "stream",
          "text": [
            "<class 'pandas.core.frame.DataFrame'>\n",
            "Int64Index: 2665 entries, 140 to 2804\n",
            "Data columns (total 7 columns):\n",
            " #   Column         Non-Null Count  Dtype  \n",
            "---  ------         --------------  -----  \n",
            " 0   date           2665 non-null   object \n",
            " 1   Temperature    2665 non-null   float64\n",
            " 2   Humidity       2665 non-null   float64\n",
            " 3   Light          2665 non-null   float64\n",
            " 4   CO2            2665 non-null   float64\n",
            " 5   HumidityRatio  2665 non-null   float64\n",
            " 6   Occupancy      2665 non-null   int64  \n",
            "dtypes: float64(5), int64(1), object(1)\n",
            "memory usage: 166.6+ KB\n",
            "None\n"
          ],
          "name": "stdout"
        },
        {
          "output_type": "execute_result",
          "data": {
            "text/html": [
              "<div>\n",
              "<style scoped>\n",
              "    .dataframe tbody tr th:only-of-type {\n",
              "        vertical-align: middle;\n",
              "    }\n",
              "\n",
              "    .dataframe tbody tr th {\n",
              "        vertical-align: top;\n",
              "    }\n",
              "\n",
              "    .dataframe thead th {\n",
              "        text-align: right;\n",
              "    }\n",
              "</style>\n",
              "<table border=\"1\" class=\"dataframe\">\n",
              "  <thead>\n",
              "    <tr style=\"text-align: right;\">\n",
              "      <th></th>\n",
              "      <th>date</th>\n",
              "      <th>Temperature</th>\n",
              "      <th>Humidity</th>\n",
              "      <th>Light</th>\n",
              "      <th>CO2</th>\n",
              "      <th>HumidityRatio</th>\n",
              "      <th>Occupancy</th>\n",
              "    </tr>\n",
              "  </thead>\n",
              "  <tbody>\n",
              "    <tr>\n",
              "      <th>140</th>\n",
              "      <td>2015-02-02 14:19:00</td>\n",
              "      <td>23.7000</td>\n",
              "      <td>26.272</td>\n",
              "      <td>585.200000</td>\n",
              "      <td>749.200000</td>\n",
              "      <td>0.004764</td>\n",
              "      <td>1</td>\n",
              "    </tr>\n",
              "    <tr>\n",
              "      <th>141</th>\n",
              "      <td>2015-02-02 14:19:59</td>\n",
              "      <td>23.7180</td>\n",
              "      <td>26.290</td>\n",
              "      <td>578.400000</td>\n",
              "      <td>760.400000</td>\n",
              "      <td>0.004773</td>\n",
              "      <td>1</td>\n",
              "    </tr>\n",
              "    <tr>\n",
              "      <th>142</th>\n",
              "      <td>2015-02-02 14:21:00</td>\n",
              "      <td>23.7300</td>\n",
              "      <td>26.230</td>\n",
              "      <td>572.666667</td>\n",
              "      <td>769.666667</td>\n",
              "      <td>0.004765</td>\n",
              "      <td>1</td>\n",
              "    </tr>\n",
              "    <tr>\n",
              "      <th>143</th>\n",
              "      <td>2015-02-02 14:22:00</td>\n",
              "      <td>23.7225</td>\n",
              "      <td>26.125</td>\n",
              "      <td>493.750000</td>\n",
              "      <td>774.750000</td>\n",
              "      <td>0.004744</td>\n",
              "      <td>1</td>\n",
              "    </tr>\n",
              "    <tr>\n",
              "      <th>144</th>\n",
              "      <td>2015-02-02 14:23:00</td>\n",
              "      <td>23.7540</td>\n",
              "      <td>26.200</td>\n",
              "      <td>488.600000</td>\n",
              "      <td>779.000000</td>\n",
              "      <td>0.004767</td>\n",
              "      <td>1</td>\n",
              "    </tr>\n",
              "  </tbody>\n",
              "</table>\n",
              "</div>"
            ],
            "text/plain": [
              "                    date  Temperature  ...  HumidityRatio  Occupancy\n",
              "140  2015-02-02 14:19:00      23.7000  ...       0.004764          1\n",
              "141  2015-02-02 14:19:59      23.7180  ...       0.004773          1\n",
              "142  2015-02-02 14:21:00      23.7300  ...       0.004765          1\n",
              "143  2015-02-02 14:22:00      23.7225  ...       0.004744          1\n",
              "144  2015-02-02 14:23:00      23.7540  ...       0.004767          1\n",
              "\n",
              "[5 rows x 7 columns]"
            ]
          },
          "metadata": {
            "tags": []
          },
          "execution_count": 5
        }
      ]
    },
    {
      "cell_type": "code",
      "metadata": {
        "colab": {
          "base_uri": "https://localhost:8080/",
          "height": 459
        },
        "id": "9hUn-XOoT885",
        "outputId": "2a53eadb-24b2-44a7-b6f9-3310e749fb60"
      },
      "source": [
        "print(datatest2.info())\n",
        "datatest2.head()"
      ],
      "execution_count": null,
      "outputs": [
        {
          "output_type": "stream",
          "text": [
            "<class 'pandas.core.frame.DataFrame'>\n",
            "Int64Index: 9752 entries, 1 to 9752\n",
            "Data columns (total 7 columns):\n",
            " #   Column         Non-Null Count  Dtype  \n",
            "---  ------         --------------  -----  \n",
            " 0   date           9752 non-null   object \n",
            " 1   Temperature    9752 non-null   float64\n",
            " 2   Humidity       9752 non-null   float64\n",
            " 3   Light          9752 non-null   float64\n",
            " 4   CO2            9752 non-null   float64\n",
            " 5   HumidityRatio  9752 non-null   float64\n",
            " 6   Occupancy      9752 non-null   int64  \n",
            "dtypes: float64(5), int64(1), object(1)\n",
            "memory usage: 609.5+ KB\n",
            "None\n"
          ],
          "name": "stdout"
        },
        {
          "output_type": "execute_result",
          "data": {
            "text/html": [
              "<div>\n",
              "<style scoped>\n",
              "    .dataframe tbody tr th:only-of-type {\n",
              "        vertical-align: middle;\n",
              "    }\n",
              "\n",
              "    .dataframe tbody tr th {\n",
              "        vertical-align: top;\n",
              "    }\n",
              "\n",
              "    .dataframe thead th {\n",
              "        text-align: right;\n",
              "    }\n",
              "</style>\n",
              "<table border=\"1\" class=\"dataframe\">\n",
              "  <thead>\n",
              "    <tr style=\"text-align: right;\">\n",
              "      <th></th>\n",
              "      <th>date</th>\n",
              "      <th>Temperature</th>\n",
              "      <th>Humidity</th>\n",
              "      <th>Light</th>\n",
              "      <th>CO2</th>\n",
              "      <th>HumidityRatio</th>\n",
              "      <th>Occupancy</th>\n",
              "    </tr>\n",
              "  </thead>\n",
              "  <tbody>\n",
              "    <tr>\n",
              "      <th>1</th>\n",
              "      <td>2015-02-11 14:48:00</td>\n",
              "      <td>21.7600</td>\n",
              "      <td>31.133333</td>\n",
              "      <td>437.333333</td>\n",
              "      <td>1029.666667</td>\n",
              "      <td>0.005021</td>\n",
              "      <td>1</td>\n",
              "    </tr>\n",
              "    <tr>\n",
              "      <th>2</th>\n",
              "      <td>2015-02-11 14:49:00</td>\n",
              "      <td>21.7900</td>\n",
              "      <td>31.000000</td>\n",
              "      <td>437.333333</td>\n",
              "      <td>1000.000000</td>\n",
              "      <td>0.005009</td>\n",
              "      <td>1</td>\n",
              "    </tr>\n",
              "    <tr>\n",
              "      <th>3</th>\n",
              "      <td>2015-02-11 14:50:00</td>\n",
              "      <td>21.7675</td>\n",
              "      <td>31.122500</td>\n",
              "      <td>434.000000</td>\n",
              "      <td>1003.750000</td>\n",
              "      <td>0.005022</td>\n",
              "      <td>1</td>\n",
              "    </tr>\n",
              "    <tr>\n",
              "      <th>4</th>\n",
              "      <td>2015-02-11 14:51:00</td>\n",
              "      <td>21.7675</td>\n",
              "      <td>31.122500</td>\n",
              "      <td>439.000000</td>\n",
              "      <td>1009.500000</td>\n",
              "      <td>0.005022</td>\n",
              "      <td>1</td>\n",
              "    </tr>\n",
              "    <tr>\n",
              "      <th>5</th>\n",
              "      <td>2015-02-11 14:51:59</td>\n",
              "      <td>21.7900</td>\n",
              "      <td>31.133333</td>\n",
              "      <td>437.333333</td>\n",
              "      <td>1005.666667</td>\n",
              "      <td>0.005030</td>\n",
              "      <td>1</td>\n",
              "    </tr>\n",
              "  </tbody>\n",
              "</table>\n",
              "</div>"
            ],
            "text/plain": [
              "                  date  Temperature  ...  HumidityRatio  Occupancy\n",
              "1  2015-02-11 14:48:00      21.7600  ...       0.005021          1\n",
              "2  2015-02-11 14:49:00      21.7900  ...       0.005009          1\n",
              "3  2015-02-11 14:50:00      21.7675  ...       0.005022          1\n",
              "4  2015-02-11 14:51:00      21.7675  ...       0.005022          1\n",
              "5  2015-02-11 14:51:59      21.7900  ...       0.005030          1\n",
              "\n",
              "[5 rows x 7 columns]"
            ]
          },
          "metadata": {
            "tags": []
          },
          "execution_count": 6
        }
      ]
    },
    {
      "cell_type": "code",
      "metadata": {
        "colab": {
          "base_uri": "https://localhost:8080/",
          "height": 459
        },
        "id": "6RjRboTlT_Kg",
        "outputId": "c0245a69-b489-459d-fee8-923fe8b216c7"
      },
      "source": [
        "print(datatraining.info())\n",
        "datatraining.head()"
      ],
      "execution_count": null,
      "outputs": [
        {
          "output_type": "stream",
          "text": [
            "<class 'pandas.core.frame.DataFrame'>\n",
            "Int64Index: 8143 entries, 1 to 8143\n",
            "Data columns (total 7 columns):\n",
            " #   Column         Non-Null Count  Dtype  \n",
            "---  ------         --------------  -----  \n",
            " 0   date           8143 non-null   object \n",
            " 1   Temperature    8143 non-null   float64\n",
            " 2   Humidity       8143 non-null   float64\n",
            " 3   Light          8143 non-null   float64\n",
            " 4   CO2            8143 non-null   float64\n",
            " 5   HumidityRatio  8143 non-null   float64\n",
            " 6   Occupancy      8143 non-null   int64  \n",
            "dtypes: float64(5), int64(1), object(1)\n",
            "memory usage: 508.9+ KB\n",
            "None\n"
          ],
          "name": "stdout"
        },
        {
          "output_type": "execute_result",
          "data": {
            "text/html": [
              "<div>\n",
              "<style scoped>\n",
              "    .dataframe tbody tr th:only-of-type {\n",
              "        vertical-align: middle;\n",
              "    }\n",
              "\n",
              "    .dataframe tbody tr th {\n",
              "        vertical-align: top;\n",
              "    }\n",
              "\n",
              "    .dataframe thead th {\n",
              "        text-align: right;\n",
              "    }\n",
              "</style>\n",
              "<table border=\"1\" class=\"dataframe\">\n",
              "  <thead>\n",
              "    <tr style=\"text-align: right;\">\n",
              "      <th></th>\n",
              "      <th>date</th>\n",
              "      <th>Temperature</th>\n",
              "      <th>Humidity</th>\n",
              "      <th>Light</th>\n",
              "      <th>CO2</th>\n",
              "      <th>HumidityRatio</th>\n",
              "      <th>Occupancy</th>\n",
              "    </tr>\n",
              "  </thead>\n",
              "  <tbody>\n",
              "    <tr>\n",
              "      <th>1</th>\n",
              "      <td>2015-02-04 17:51:00</td>\n",
              "      <td>23.18</td>\n",
              "      <td>27.2720</td>\n",
              "      <td>426.0</td>\n",
              "      <td>721.25</td>\n",
              "      <td>0.004793</td>\n",
              "      <td>1</td>\n",
              "    </tr>\n",
              "    <tr>\n",
              "      <th>2</th>\n",
              "      <td>2015-02-04 17:51:59</td>\n",
              "      <td>23.15</td>\n",
              "      <td>27.2675</td>\n",
              "      <td>429.5</td>\n",
              "      <td>714.00</td>\n",
              "      <td>0.004783</td>\n",
              "      <td>1</td>\n",
              "    </tr>\n",
              "    <tr>\n",
              "      <th>3</th>\n",
              "      <td>2015-02-04 17:53:00</td>\n",
              "      <td>23.15</td>\n",
              "      <td>27.2450</td>\n",
              "      <td>426.0</td>\n",
              "      <td>713.50</td>\n",
              "      <td>0.004779</td>\n",
              "      <td>1</td>\n",
              "    </tr>\n",
              "    <tr>\n",
              "      <th>4</th>\n",
              "      <td>2015-02-04 17:54:00</td>\n",
              "      <td>23.15</td>\n",
              "      <td>27.2000</td>\n",
              "      <td>426.0</td>\n",
              "      <td>708.25</td>\n",
              "      <td>0.004772</td>\n",
              "      <td>1</td>\n",
              "    </tr>\n",
              "    <tr>\n",
              "      <th>5</th>\n",
              "      <td>2015-02-04 17:55:00</td>\n",
              "      <td>23.10</td>\n",
              "      <td>27.2000</td>\n",
              "      <td>426.0</td>\n",
              "      <td>704.50</td>\n",
              "      <td>0.004757</td>\n",
              "      <td>1</td>\n",
              "    </tr>\n",
              "  </tbody>\n",
              "</table>\n",
              "</div>"
            ],
            "text/plain": [
              "                  date  Temperature  Humidity  ...     CO2  HumidityRatio  Occupancy\n",
              "1  2015-02-04 17:51:00        23.18   27.2720  ...  721.25       0.004793          1\n",
              "2  2015-02-04 17:51:59        23.15   27.2675  ...  714.00       0.004783          1\n",
              "3  2015-02-04 17:53:00        23.15   27.2450  ...  713.50       0.004779          1\n",
              "4  2015-02-04 17:54:00        23.15   27.2000  ...  708.25       0.004772          1\n",
              "5  2015-02-04 17:55:00        23.10   27.2000  ...  704.50       0.004757          1\n",
              "\n",
              "[5 rows x 7 columns]"
            ]
          },
          "metadata": {
            "tags": []
          },
          "execution_count": 7
        }
      ]
    },
    {
      "cell_type": "code",
      "metadata": {
        "id": "6xML5TXRUAiQ"
      },
      "source": [
        "datatest['date'] = pd.to_datetime(datatest['date'])\n",
        "datatest2['date'] = pd.to_datetime(datatest2['date'])\n",
        "datatraining['date'] = pd.to_datetime(datatraining['date'])\n",
        "datatest.reset_index(drop=True, inplace=True)\n",
        "datatest2.reset_index(drop=True, inplace=True)\n",
        "datatraining.reset_index(drop=True, inplace=True)"
      ],
      "execution_count": 4,
      "outputs": []
    },
    {
      "cell_type": "code",
      "metadata": {
        "colab": {
          "base_uri": "https://localhost:8080/",
          "height": 297
        },
        "id": "RL-1kAJPUD6w",
        "outputId": "4b0a3245-9b37-454e-9ab0-027dab4b2ef0"
      },
      "source": [
        "datatraining.describe()"
      ],
      "execution_count": null,
      "outputs": [
        {
          "output_type": "execute_result",
          "data": {
            "text/html": [
              "<div>\n",
              "<style scoped>\n",
              "    .dataframe tbody tr th:only-of-type {\n",
              "        vertical-align: middle;\n",
              "    }\n",
              "\n",
              "    .dataframe tbody tr th {\n",
              "        vertical-align: top;\n",
              "    }\n",
              "\n",
              "    .dataframe thead th {\n",
              "        text-align: right;\n",
              "    }\n",
              "</style>\n",
              "<table border=\"1\" class=\"dataframe\">\n",
              "  <thead>\n",
              "    <tr style=\"text-align: right;\">\n",
              "      <th></th>\n",
              "      <th>Temperature</th>\n",
              "      <th>Humidity</th>\n",
              "      <th>Light</th>\n",
              "      <th>CO2</th>\n",
              "      <th>HumidityRatio</th>\n",
              "      <th>Occupancy</th>\n",
              "    </tr>\n",
              "  </thead>\n",
              "  <tbody>\n",
              "    <tr>\n",
              "      <th>count</th>\n",
              "      <td>8143.000000</td>\n",
              "      <td>8143.000000</td>\n",
              "      <td>8143.000000</td>\n",
              "      <td>8143.000000</td>\n",
              "      <td>8143.000000</td>\n",
              "      <td>8143.000000</td>\n",
              "    </tr>\n",
              "    <tr>\n",
              "      <th>mean</th>\n",
              "      <td>20.619084</td>\n",
              "      <td>25.731507</td>\n",
              "      <td>119.519375</td>\n",
              "      <td>606.546243</td>\n",
              "      <td>0.003863</td>\n",
              "      <td>0.212330</td>\n",
              "    </tr>\n",
              "    <tr>\n",
              "      <th>std</th>\n",
              "      <td>1.016916</td>\n",
              "      <td>5.531211</td>\n",
              "      <td>194.755805</td>\n",
              "      <td>314.320877</td>\n",
              "      <td>0.000852</td>\n",
              "      <td>0.408982</td>\n",
              "    </tr>\n",
              "    <tr>\n",
              "      <th>min</th>\n",
              "      <td>19.000000</td>\n",
              "      <td>16.745000</td>\n",
              "      <td>0.000000</td>\n",
              "      <td>412.750000</td>\n",
              "      <td>0.002674</td>\n",
              "      <td>0.000000</td>\n",
              "    </tr>\n",
              "    <tr>\n",
              "      <th>25%</th>\n",
              "      <td>19.700000</td>\n",
              "      <td>20.200000</td>\n",
              "      <td>0.000000</td>\n",
              "      <td>439.000000</td>\n",
              "      <td>0.003078</td>\n",
              "      <td>0.000000</td>\n",
              "    </tr>\n",
              "    <tr>\n",
              "      <th>50%</th>\n",
              "      <td>20.390000</td>\n",
              "      <td>26.222500</td>\n",
              "      <td>0.000000</td>\n",
              "      <td>453.500000</td>\n",
              "      <td>0.003801</td>\n",
              "      <td>0.000000</td>\n",
              "    </tr>\n",
              "    <tr>\n",
              "      <th>75%</th>\n",
              "      <td>21.390000</td>\n",
              "      <td>30.533333</td>\n",
              "      <td>256.375000</td>\n",
              "      <td>638.833333</td>\n",
              "      <td>0.004352</td>\n",
              "      <td>0.000000</td>\n",
              "    </tr>\n",
              "    <tr>\n",
              "      <th>max</th>\n",
              "      <td>23.180000</td>\n",
              "      <td>39.117500</td>\n",
              "      <td>1546.333333</td>\n",
              "      <td>2028.500000</td>\n",
              "      <td>0.006476</td>\n",
              "      <td>1.000000</td>\n",
              "    </tr>\n",
              "  </tbody>\n",
              "</table>\n",
              "</div>"
            ],
            "text/plain": [
              "       Temperature     Humidity  ...  HumidityRatio    Occupancy\n",
              "count  8143.000000  8143.000000  ...    8143.000000  8143.000000\n",
              "mean     20.619084    25.731507  ...       0.003863     0.212330\n",
              "std       1.016916     5.531211  ...       0.000852     0.408982\n",
              "min      19.000000    16.745000  ...       0.002674     0.000000\n",
              "25%      19.700000    20.200000  ...       0.003078     0.000000\n",
              "50%      20.390000    26.222500  ...       0.003801     0.000000\n",
              "75%      21.390000    30.533333  ...       0.004352     0.000000\n",
              "max      23.180000    39.117500  ...       0.006476     1.000000\n",
              "\n",
              "[8 rows x 6 columns]"
            ]
          },
          "metadata": {
            "tags": []
          },
          "execution_count": 9
        }
      ]
    },
    {
      "cell_type": "markdown",
      "metadata": {
        "id": "QkVhfflhfzr1"
      },
      "source": [
        "# Data Visualization"
      ]
    },
    {
      "cell_type": "code",
      "metadata": {
        "id": "HoaqlX8uUFFI"
      },
      "source": [
        "from sklearn.preprocessing import MinMaxScaler\n",
        "import numpy as np\n",
        "#\n",
        "scaler = MinMaxScaler()\n",
        "columns = ['Temperature', 'Humidity', 'Light', 'CO2', 'HumidityRatio']\n",
        "scaler.fit(np.array(datatraining[columns]))\n",
        "datatest[columns] = scaler.transform(np.array(datatest[columns]))\n",
        "datatest2[columns] = scaler.transform(np.array(datatest2[columns]))\n",
        "datatraining[columns] = scaler.transform(np.array(datatraining[columns]))"
      ],
      "execution_count": 5,
      "outputs": []
    },
    {
      "cell_type": "code",
      "metadata": {
        "colab": {
          "base_uri": "https://localhost:8080/",
          "height": 767
        },
        "id": "_Jz0H6KLUP8w",
        "outputId": "ec7b43b5-7a4e-4e3f-cb90-8d97d6465d84"
      },
      "source": [
        "plt.figure(figsize=(10,10))\n",
        "plt.title('Box Plot for Features', fontdict={'fontsize':18})\n",
        "ax = sns.boxplot(data=datatraining.drop(['date', 'Occupancy'],axis=1), orient=\"h\", palette=\"Set2\")\n",
        "print(datatraining.drop(['date', 'Occupancy'],axis=1).describe())"
      ],
      "execution_count": null,
      "outputs": [
        {
          "output_type": "stream",
          "text": [
            "       Temperature     Humidity        Light          CO2  HumidityRatio\n",
            "count  8143.000000  8143.000000  8143.000000  8143.000000    8143.000000\n",
            "mean      0.387341     0.401676     0.077292     0.119942       0.312576\n",
            "std       0.243281     0.247233     0.125947     0.194536       0.224186\n",
            "min       0.000000     0.000000     0.000000     0.000000       0.000000\n",
            "25%       0.167464     0.154431     0.000000     0.016246       0.106304\n",
            "50%       0.332536     0.423623     0.000000     0.025220       0.296338\n",
            "75%       0.571770     0.616307     0.165795     0.139925       0.441308\n",
            "max       1.000000     1.000000     1.000000     1.000000       1.000000\n"
          ],
          "name": "stdout"
        },
        {
          "output_type": "display_data",
          "data": {
            "image/png": "[encoded data removed]",
            "text/plain": [
              "<Figure size 720x720 with 1 Axes>"
            ]
          },
          "metadata": {
            "tags": [],
            "needs_background": "light"
          }
        }
      ]
    },
    {
      "cell_type": "code",
      "metadata": {
        "colab": {
          "base_uri": "https://localhost:8080/",
          "height": 419
        },
        "id": "jsRqSvnR3yXm",
        "outputId": "64d149ad-bb60-479b-812b-e544f08b8bf2"
      },
      "source": [
        "datatraining"
      ],
      "execution_count": 81,
      "outputs": [
        {
          "output_type": "execute_result",
          "data": {
            "text/html": [
              "<div>\n",
              "<style scoped>\n",
              "    .dataframe tbody tr th:only-of-type {\n",
              "        vertical-align: middle;\n",
              "    }\n",
              "\n",
              "    .dataframe tbody tr th {\n",
              "        vertical-align: top;\n",
              "    }\n",
              "\n",
              "    .dataframe thead th {\n",
              "        text-align: right;\n",
              "    }\n",
              "</style>\n",
              "<table border=\"1\" class=\"dataframe\">\n",
              "  <thead>\n",
              "    <tr style=\"text-align: right;\">\n",
              "      <th></th>\n",
              "      <th>date</th>\n",
              "      <th>Temperature</th>\n",
              "      <th>Humidity</th>\n",
              "      <th>Light</th>\n",
              "      <th>CO2</th>\n",
              "      <th>HumidityRatio</th>\n",
              "      <th>Occupancy</th>\n",
              "      <th>period_of_day</th>\n",
              "    </tr>\n",
              "  </thead>\n",
              "  <tbody>\n",
              "    <tr>\n",
              "      <th>0</th>\n",
              "      <td>2015-02-04 17:51:00</td>\n",
              "      <td>1.000000</td>\n",
              "      <td>0.470533</td>\n",
              "      <td>0.275490</td>\n",
              "      <td>0.190933</td>\n",
              "      <td>0.557318</td>\n",
              "      <td>1</td>\n",
              "      <td>1</td>\n",
              "    </tr>\n",
              "    <tr>\n",
              "      <th>1</th>\n",
              "      <td>2015-02-04 17:51:59</td>\n",
              "      <td>0.992823</td>\n",
              "      <td>0.470332</td>\n",
              "      <td>0.277754</td>\n",
              "      <td>0.186446</td>\n",
              "      <td>0.554807</td>\n",
              "      <td>1</td>\n",
              "      <td>1</td>\n",
              "    </tr>\n",
              "    <tr>\n",
              "      <th>2</th>\n",
              "      <td>2015-02-04 17:53:00</td>\n",
              "      <td>0.992823</td>\n",
              "      <td>0.469326</td>\n",
              "      <td>0.275490</td>\n",
              "      <td>0.186136</td>\n",
              "      <td>0.553761</td>\n",
              "      <td>1</td>\n",
              "      <td>1</td>\n",
              "    </tr>\n",
              "    <tr>\n",
              "      <th>3</th>\n",
              "      <td>2015-02-04 17:54:00</td>\n",
              "      <td>0.992823</td>\n",
              "      <td>0.467315</td>\n",
              "      <td>0.275490</td>\n",
              "      <td>0.182887</td>\n",
              "      <td>0.551669</td>\n",
              "      <td>1</td>\n",
              "      <td>1</td>\n",
              "    </tr>\n",
              "    <tr>\n",
              "      <th>4</th>\n",
              "      <td>2015-02-04 17:55:00</td>\n",
              "      <td>0.980861</td>\n",
              "      <td>0.467315</td>\n",
              "      <td>0.275490</td>\n",
              "      <td>0.180566</td>\n",
              "      <td>0.547851</td>\n",
              "      <td>1</td>\n",
              "      <td>1</td>\n",
              "    </tr>\n",
              "    <tr>\n",
              "      <th>...</th>\n",
              "      <td>...</td>\n",
              "      <td>...</td>\n",
              "      <td>...</td>\n",
              "      <td>...</td>\n",
              "      <td>...</td>\n",
              "      <td>...</td>\n",
              "      <td>...</td>\n",
              "      <td>...</td>\n",
              "    </tr>\n",
              "    <tr>\n",
              "      <th>8138</th>\n",
              "      <td>2015-02-10 09:29:00</td>\n",
              "      <td>0.490431</td>\n",
              "      <td>0.865013</td>\n",
              "      <td>0.280017</td>\n",
              "      <td>0.231781</td>\n",
              "      <td>0.763986</td>\n",
              "      <td>1</td>\n",
              "      <td>1</td>\n",
              "    </tr>\n",
              "    <tr>\n",
              "      <th>8139</th>\n",
              "      <td>2015-02-10 09:29:59</td>\n",
              "      <td>0.490431</td>\n",
              "      <td>0.860431</td>\n",
              "      <td>0.280017</td>\n",
              "      <td>0.233173</td>\n",
              "      <td>0.759782</td>\n",
              "      <td>1</td>\n",
              "      <td>1</td>\n",
              "    </tr>\n",
              "    <tr>\n",
              "      <th>8140</th>\n",
              "      <td>2015-02-10 09:30:59</td>\n",
              "      <td>0.502392</td>\n",
              "      <td>0.864901</td>\n",
              "      <td>0.280017</td>\n",
              "      <td>0.238744</td>\n",
              "      <td>0.768438</td>\n",
              "      <td>1</td>\n",
              "      <td>1</td>\n",
              "    </tr>\n",
              "    <tr>\n",
              "      <th>8141</th>\n",
              "      <td>2015-02-10 09:32:00</td>\n",
              "      <td>0.502392</td>\n",
              "      <td>0.872276</td>\n",
              "      <td>0.280017</td>\n",
              "      <td>0.252256</td>\n",
              "      <td>0.775226</td>\n",
              "      <td>1</td>\n",
              "      <td>1</td>\n",
              "    </tr>\n",
              "    <tr>\n",
              "      <th>8142</th>\n",
              "      <td>2015-02-10 09:33:00</td>\n",
              "      <td>0.502392</td>\n",
              "      <td>0.869594</td>\n",
              "      <td>0.289071</td>\n",
              "      <td>0.252669</td>\n",
              "      <td>0.772758</td>\n",
              "      <td>1</td>\n",
              "      <td>1</td>\n",
              "    </tr>\n",
              "  </tbody>\n",
              "</table>\n",
              "<p>8143 rows × 8 columns</p>\n",
              "</div>"
            ],
            "text/plain": [
              "                    date  Temperature  ...  Occupancy  period_of_day\n",
              "0    2015-02-04 17:51:00     1.000000  ...          1              1\n",
              "1    2015-02-04 17:51:59     0.992823  ...          1              1\n",
              "2    2015-02-04 17:53:00     0.992823  ...          1              1\n",
              "3    2015-02-04 17:54:00     0.992823  ...          1              1\n",
              "4    2015-02-04 17:55:00     0.980861  ...          1              1\n",
              "...                  ...          ...  ...        ...            ...\n",
              "8138 2015-02-10 09:29:00     0.490431  ...          1              1\n",
              "8139 2015-02-10 09:29:59     0.490431  ...          1              1\n",
              "8140 2015-02-10 09:30:59     0.502392  ...          1              1\n",
              "8141 2015-02-10 09:32:00     0.502392  ...          1              1\n",
              "8142 2015-02-10 09:33:00     0.502392  ...          1              1\n",
              "\n",
              "[8143 rows x 8 columns]"
            ]
          },
          "metadata": {
            "tags": []
          },
          "execution_count": 81
        }
      ]
    },
    {
      "cell_type": "code",
      "metadata": {
        "colab": {
          "base_uri": "https://localhost:8080/",
          "height": 505
        },
        "id": "MbcWFEgVUa2v",
        "outputId": "93e6eadd-8ac9-45c4-cba2-9c9d4569254d"
      },
      "source": [
        "plt.figure(figsize=(10,8))\n",
        "plt.title('Correlation Table for Features', fontdict={'fontsize':18})\n",
        "ax = sns.heatmap(datatraining.corr(), annot=True, linewidths=.2)"
      ],
      "execution_count": null,
      "outputs": [
        {
          "output_type": "display_data",
          "data": {
            "image/png": "[encoded data removed]",
            "text/plain": [
              "<Figure size 720x576 with 2 Axes>"
            ]
          },
          "metadata": {
            "tags": [],
            "needs_background": "light"
          }
        }
      ]
    },
    {
      "cell_type": "markdown",
      "metadata": {
        "id": "A0EluZbSVVuS"
      },
      "source": [
        "Data imbalance"
      ]
    },
    {
      "cell_type": "code",
      "metadata": {
        "colab": {
          "base_uri": "https://localhost:8080/",
          "height": 305
        },
        "id": "RPRcuRY4U6Y9",
        "outputId": "e8b3581d-4576-4d5a-f8b1-756899102037"
      },
      "source": [
        "sns.set(style=\"darkgrid\")\n",
        "plt.title(\"Occupancy Distribution\", fontdict={'fontsize':18})\n",
        "ax = sns.countplot(x=\"Occupancy\", data=datatraining)"
      ],
      "execution_count": null,
      "outputs": [
        {
          "output_type": "display_data",
          "data": {
            "image/png": "[encoded data removed]",
            "text/plain": [
              "<Figure size 432x288 with 1 Axes>"
            ]
          },
          "metadata": {
            "tags": []
          }
        }
      ]
    },
    {
      "cell_type": "code",
      "metadata": {
        "id": "VBy3Z4DXU9_4"
      },
      "source": [
        "hours_1 = []\n",
        "hours_0 = []\n",
        "for date in datatraining[datatraining['Occupancy'] == 1]['date']:\n",
        "    hours_1.append(date.hour)\n",
        "for date in datatraining[datatraining['Occupancy'] == 0]['date']:\n",
        "    hours_0.append(date.hour)"
      ],
      "execution_count": 6,
      "outputs": []
    },
    {
      "cell_type": "code",
      "metadata": {
        "colab": {
          "base_uri": "https://localhost:8080/",
          "height": 641
        },
        "id": "qLFD_heoVNuw",
        "outputId": "0dba61b4-f8c3-445d-e3a2-a545047f7ce0"
      },
      "source": [
        "plt.figure(figsize=(8,8))\n",
        "ax = sns.distplot(hours_1)\n",
        "ax = sns.distplot(hours_0)"
      ],
      "execution_count": 9,
      "outputs": [
        {
          "output_type": "stream",
          "text": [
            "/usr/local/lib/python3.7/dist-packages/seaborn/distributions.py:2557: FutureWarning:\n",
            "\n",
            "`distplot` is a deprecated function and will be removed in a future version. Please adapt your code to use either `displot` (a figure-level function with similar flexibility) or `histplot` (an axes-level function for histograms).\n",
            "\n",
            "/usr/local/lib/python3.7/dist-packages/seaborn/distributions.py:2557: FutureWarning:\n",
            "\n",
            "`distplot` is a deprecated function and will be removed in a future version. Please adapt your code to use either `displot` (a figure-level function with similar flexibility) or `histplot` (an axes-level function for histograms).\n",
            "\n"
          ],
          "name": "stderr"
        },
        {
          "output_type": "display_data",
          "data": {
            "image/png": "[encoded data removed]",
            "text/plain": [
              "<Figure size 576x576 with 1 Axes>"
            ]
          },
          "metadata": {
            "tags": []
          }
        }
      ]
    },
    {
      "cell_type": "markdown",
      "metadata": {
        "id": "-R4KVF-PVfi3"
      },
      "source": [
        "Trong khoảng thời gian từ 07:00 đến 18:00, có người ở trong văn phòng. Ngoài giờ làm việc đó ra thì có thể xem là ko có người ở. \n",
        "Với thông tin này, em tạo một tính năng mới từ cột ngày là khoảng thời gian trong ngày:\n",
        "\n",
        "- 07:00 - 18:00 giờ làm việc : được dán nhãn là 1\n",
        "- Các giờ còn lại trong ngày không làm việc: được gắn nhãn là 0"
      ]
    },
    {
      "cell_type": "code",
      "metadata": {
        "colab": {
          "base_uri": "https://localhost:8080/",
          "height": 359
        },
        "id": "HmUIffliVQ0C",
        "outputId": "66048b8f-0676-416f-f8ae-23d0c65f1a2e"
      },
      "source": [
        "datatest['period_of_day'] = [1 if (i.hour >= 7 and i.hour <= 17) else 0 for i in datatest['date']]\n",
        "datatest2['period_of_day'] = [1 if (i.hour >= 7 and i.hour <= 17) else 0 for i in datatest2['date']]\n",
        "datatraining['period_of_day'] = [1 if (i.hour >= 7 and i.hour <= 17) else 0 for i in datatraining['date']]\n",
        "datatraining.sample(10)"
      ],
      "execution_count": 10,
      "outputs": [
        {
          "output_type": "execute_result",
          "data": {
            "text/html": [
              "<div>\n",
              "<style scoped>\n",
              "    .dataframe tbody tr th:only-of-type {\n",
              "        vertical-align: middle;\n",
              "    }\n",
              "\n",
              "    .dataframe tbody tr th {\n",
              "        vertical-align: top;\n",
              "    }\n",
              "\n",
              "    .dataframe thead th {\n",
              "        text-align: right;\n",
              "    }\n",
              "</style>\n",
              "<table border=\"1\" class=\"dataframe\">\n",
              "  <thead>\n",
              "    <tr style=\"text-align: right;\">\n",
              "      <th></th>\n",
              "      <th>date</th>\n",
              "      <th>Temperature</th>\n",
              "      <th>Humidity</th>\n",
              "      <th>Light</th>\n",
              "      <th>CO2</th>\n",
              "      <th>HumidityRatio</th>\n",
              "      <th>Occupancy</th>\n",
              "      <th>period_of_day</th>\n",
              "    </tr>\n",
              "  </thead>\n",
              "  <tbody>\n",
              "    <tr>\n",
              "      <th>562</th>\n",
              "      <td>2015-02-05 03:13:00</td>\n",
              "      <td>0.452153</td>\n",
              "      <td>0.364063</td>\n",
              "      <td>0.000000</td>\n",
              "      <td>0.015627</td>\n",
              "      <td>0.295657</td>\n",
              "      <td>0</td>\n",
              "      <td>0</td>\n",
              "    </tr>\n",
              "    <tr>\n",
              "      <th>2271</th>\n",
              "      <td>2015-02-06 07:41:59</td>\n",
              "      <td>0.281100</td>\n",
              "      <td>0.082914</td>\n",
              "      <td>0.280017</td>\n",
              "      <td>0.015318</td>\n",
              "      <td>0.009737</td>\n",
              "      <td>0</td>\n",
              "      <td>1</td>\n",
              "    </tr>\n",
              "    <tr>\n",
              "      <th>8037</th>\n",
              "      <td>2015-02-10 07:47:59</td>\n",
              "      <td>0.308612</td>\n",
              "      <td>0.726562</td>\n",
              "      <td>0.000000</td>\n",
              "      <td>0.024911</td>\n",
              "      <td>0.575232</td>\n",
              "      <td>0</td>\n",
              "      <td>1</td>\n",
              "    </tr>\n",
              "    <tr>\n",
              "      <th>1956</th>\n",
              "      <td>2015-02-06 02:26:59</td>\n",
              "      <td>0.358852</td>\n",
              "      <td>0.115991</td>\n",
              "      <td>0.000000</td>\n",
              "      <td>0.015627</td>\n",
              "      <td>0.053347</td>\n",
              "      <td>0</td>\n",
              "      <td>0</td>\n",
              "    </tr>\n",
              "    <tr>\n",
              "      <th>6801</th>\n",
              "      <td>2015-02-09 11:12:00</td>\n",
              "      <td>0.508373</td>\n",
              "      <td>0.731814</td>\n",
              "      <td>0.300065</td>\n",
              "      <td>0.589200</td>\n",
              "      <td>0.648116</td>\n",
              "      <td>1</td>\n",
              "      <td>1</td>\n",
              "    </tr>\n",
              "    <tr>\n",
              "      <th>6086</th>\n",
              "      <td>2015-02-08 23:17:00</td>\n",
              "      <td>0.119617</td>\n",
              "      <td>0.485194</td>\n",
              "      <td>0.000000</td>\n",
              "      <td>0.025530</td>\n",
              "      <td>0.313277</td>\n",
              "      <td>0</td>\n",
              "      <td>0</td>\n",
              "    </tr>\n",
              "    <tr>\n",
              "      <th>2074</th>\n",
              "      <td>2015-02-06 04:25:00</td>\n",
              "      <td>0.332536</td>\n",
              "      <td>0.087384</td>\n",
              "      <td>0.000000</td>\n",
              "      <td>0.012739</td>\n",
              "      <td>0.023221</td>\n",
              "      <td>0</td>\n",
              "      <td>0</td>\n",
              "    </tr>\n",
              "    <tr>\n",
              "      <th>1119</th>\n",
              "      <td>2015-02-05 12:29:59</td>\n",
              "      <td>0.885167</td>\n",
              "      <td>0.453458</td>\n",
              "      <td>0.345333</td>\n",
              "      <td>0.429058</td>\n",
              "      <td>0.503654</td>\n",
              "      <td>1</td>\n",
              "      <td>1</td>\n",
              "    </tr>\n",
              "    <tr>\n",
              "      <th>3095</th>\n",
              "      <td>2015-02-06 21:26:00</td>\n",
              "      <td>0.275120</td>\n",
              "      <td>0.098335</td>\n",
              "      <td>0.000000</td>\n",
              "      <td>0.017175</td>\n",
              "      <td>0.021895</td>\n",
              "      <td>0</td>\n",
              "      <td>0</td>\n",
              "    </tr>\n",
              "    <tr>\n",
              "      <th>3167</th>\n",
              "      <td>2015-02-06 22:38:00</td>\n",
              "      <td>0.251196</td>\n",
              "      <td>0.095877</td>\n",
              "      <td>0.000000</td>\n",
              "      <td>0.017794</td>\n",
              "      <td>0.015298</td>\n",
              "      <td>0</td>\n",
              "      <td>0</td>\n",
              "    </tr>\n",
              "  </tbody>\n",
              "</table>\n",
              "</div>"
            ],
            "text/plain": [
              "                    date  Temperature  ...  Occupancy  period_of_day\n",
              "562  2015-02-05 03:13:00     0.452153  ...          0              0\n",
              "2271 2015-02-06 07:41:59     0.281100  ...          0              1\n",
              "8037 2015-02-10 07:47:59     0.308612  ...          0              1\n",
              "1956 2015-02-06 02:26:59     0.358852  ...          0              0\n",
              "6801 2015-02-09 11:12:00     0.508373  ...          1              1\n",
              "6086 2015-02-08 23:17:00     0.119617  ...          0              0\n",
              "2074 2015-02-06 04:25:00     0.332536  ...          0              0\n",
              "1119 2015-02-05 12:29:59     0.885167  ...          1              1\n",
              "3095 2015-02-06 21:26:00     0.275120  ...          0              0\n",
              "3167 2015-02-06 22:38:00     0.251196  ...          0              0\n",
              "\n",
              "[10 rows x 8 columns]"
            ]
          },
          "metadata": {
            "tags": []
          },
          "execution_count": 10
        }
      ]
    },
    {
      "cell_type": "code",
      "metadata": {
        "id": "MwrNeluSWH4Z"
      },
      "source": [
        "X_train = datatraining.drop(columns=['date', 'Occupancy'], axis=1)\n",
        "y_train = datatraining['Occupancy']\n",
        "X_validation = datatest.drop(columns=['date', 'Occupancy'], axis=1)\n",
        "y_validation = datatest['Occupancy']\n",
        "X_test = datatest2.drop(columns=['date', 'Occupancy'], axis=1)\n",
        "y_test = datatest2['Occupancy']"
      ],
      "execution_count": 11,
      "outputs": []
    },
    {
      "cell_type": "code",
      "metadata": {
        "colab": {
          "base_uri": "https://localhost:8080/"
        },
        "id": "kLRvUH2MWesQ",
        "outputId": "fe4b00ee-bb3e-488d-dcf7-3ff1cd2d5140"
      },
      "source": [
        "#\n",
        "print('Train:')\n",
        "print(X_train.shape)\n",
        "print(y_train.shape)\n",
        "print('Validation:')\n",
        "print(X_validation.shape)\n",
        "print(y_validation.shape)\n",
        "print('Test:')\n",
        "print(X_test.shape)\n",
        "print(y_test.shape)"
      ],
      "execution_count": 12,
      "outputs": [
        {
          "output_type": "stream",
          "text": [
            "Train:\n",
            "(8143, 6)\n",
            "(8143,)\n",
            "Validation:\n",
            "(2665, 6)\n",
            "(2665,)\n",
            "Test:\n",
            "(9752, 6)\n",
            "(9752,)\n"
          ],
          "name": "stdout"
        }
      ]
    },
    {
      "cell_type": "markdown",
      "metadata": {
        "id": "XKqJt1s3W1i5"
      },
      "source": [
        "# MLP - 4 Models\n",
        "- Model 1\n",
        "  + Hidden layers: 1\n",
        "  + Units: 32, 16, 1\n",
        "  + Activation: ReLU\n",
        "  + Epoch: 50\n",
        "  + Batch Size: 32\n",
        "  + Without Early stopping\n",
        "- Model 2\n",
        "  + Hidden layers: 1\n",
        "  + Units: 32, 16, 1\n",
        "  + Activation: ReLU\n",
        "  + Epoch: 50\n",
        "  + Batch Size: 32\n",
        "  + Early stopping\n",
        "  + Optimizer: rmsprop\n",
        "- Model 3\n",
        "  + Hidden layers: 3\n",
        "  + Units: 100, 64, 32, 16, 1\n",
        "  + Activation: tanh\n",
        "  + Epoch: 50\n",
        "  + Batch Size: 32\n",
        "  + Early stopping\n",
        "  + Optimizer: Adam\n",
        "- Model 4\n",
        "  + Hidden layers: 3\n",
        "  + Units: 100, 64, 32, 16, 1\n",
        "  + Activation: sigmoid\n",
        "  + Epoch: 30\n",
        "  + Batch Size: 12\n",
        "  + Early stopping\n",
        "  + Optimizer: Adam"
      ]
    },
    {
      "cell_type": "code",
      "metadata": {
        "id": "I3T0lh4CW_-6"
      },
      "source": [
        "from keras.models import Sequential\n",
        "from keras.layers import Dense, Activation, Dropout\n",
        "from keras.regularizers import l2, l1\n",
        "from keras.metrics import BinaryAccuracy"
      ],
      "execution_count": null,
      "outputs": []
    },
    {
      "cell_type": "markdown",
      "metadata": {
        "id": "D3FyJ5Kjam_Z"
      },
      "source": [
        "### Model MLP 01"
      ]
    },
    {
      "cell_type": "code",
      "metadata": {
        "colab": {
          "base_uri": "https://localhost:8080/"
        },
        "id": "2Eq-TbUhW56r",
        "outputId": "29d2a2a3-4f22-46a3-fd30-ece3d0292df3"
      },
      "source": [
        "# MLP without early stopping\n",
        "model_MLP_1 = Sequential()\n",
        "model_MLP_1.add(Dense(32, activation='relu', input_dim=6))\n",
        "model_MLP_1.add(Dense(16, activation='relu'))\n",
        "model_MLP_1.add(Dense(1, activation='sigmoid'))\n",
        "model_MLP_1.compile(optimizer='rmsprop',\n",
        "              loss='binary_crossentropy',\n",
        "              metrics=['accuracy'])\n",
        "history_MLP_1 = model_MLP_1.fit(X_train, y_train, epochs=50, batch_size=32, validation_data=(X_validation, y_validation))"
      ],
      "execution_count": null,
      "outputs": [
        {
          "output_type": "stream",
          "text": [
            "Epoch 1/50\n",
            "255/255 [==============================] - 2s 3ms/step - loss: 0.4772 - accuracy: 0.9424 - val_loss: 0.1300 - val_accuracy: 0.9640\n",
            "Epoch 2/50\n",
            "255/255 [==============================] - 0s 1ms/step - loss: 0.1030 - accuracy: 0.9763 - val_loss: 0.0961 - val_accuracy: 0.9670\n",
            "Epoch 3/50\n",
            "255/255 [==============================] - 0s 1ms/step - loss: 0.0701 - accuracy: 0.9827 - val_loss: 0.0856 - val_accuracy: 0.9719\n",
            "Epoch 4/50\n",
            "255/255 [==============================] - 0s 1ms/step - loss: 0.0601 - accuracy: 0.9851 - val_loss: 0.0829 - val_accuracy: 0.9719\n",
            "Epoch 5/50\n",
            "255/255 [==============================] - 0s 1ms/step - loss: 0.0590 - accuracy: 0.9839 - val_loss: 0.0824 - val_accuracy: 0.9771\n",
            "Epoch 6/50\n",
            "255/255 [==============================] - 0s 1ms/step - loss: 0.0538 - accuracy: 0.9867 - val_loss: 0.0792 - val_accuracy: 0.9767\n",
            "Epoch 7/50\n",
            "255/255 [==============================] - 0s 1ms/step - loss: 0.0616 - accuracy: 0.9842 - val_loss: 0.0783 - val_accuracy: 0.9767\n",
            "Epoch 8/50\n",
            "255/255 [==============================] - 0s 1ms/step - loss: 0.0559 - accuracy: 0.9846 - val_loss: 0.0794 - val_accuracy: 0.9771\n",
            "Epoch 9/50\n",
            "255/255 [==============================] - 0s 1ms/step - loss: 0.0505 - accuracy: 0.9880 - val_loss: 0.0783 - val_accuracy: 0.9771\n",
            "Epoch 10/50\n",
            "255/255 [==============================] - 0s 1ms/step - loss: 0.0517 - accuracy: 0.9872 - val_loss: 0.0772 - val_accuracy: 0.9767\n",
            "Epoch 11/50\n",
            "255/255 [==============================] - 0s 1ms/step - loss: 0.0510 - accuracy: 0.9862 - val_loss: 0.0774 - val_accuracy: 0.9786\n",
            "Epoch 12/50\n",
            "255/255 [==============================] - 0s 1ms/step - loss: 0.0501 - accuracy: 0.9863 - val_loss: 0.0793 - val_accuracy: 0.9771\n",
            "Epoch 13/50\n",
            "255/255 [==============================] - 0s 1ms/step - loss: 0.0449 - accuracy: 0.9882 - val_loss: 0.0766 - val_accuracy: 0.9782\n",
            "Epoch 14/50\n",
            "255/255 [==============================] - 0s 1ms/step - loss: 0.0605 - accuracy: 0.9847 - val_loss: 0.0765 - val_accuracy: 0.9786\n",
            "Epoch 15/50\n",
            "255/255 [==============================] - 0s 1ms/step - loss: 0.0504 - accuracy: 0.9870 - val_loss: 0.0785 - val_accuracy: 0.9786\n",
            "Epoch 16/50\n",
            "255/255 [==============================] - 0s 1ms/step - loss: 0.0529 - accuracy: 0.9856 - val_loss: 0.0773 - val_accuracy: 0.9786\n",
            "Epoch 17/50\n",
            "255/255 [==============================] - 0s 1ms/step - loss: 0.0525 - accuracy: 0.9861 - val_loss: 0.0762 - val_accuracy: 0.9786\n",
            "Epoch 18/50\n",
            "255/255 [==============================] - 0s 1ms/step - loss: 0.0502 - accuracy: 0.9869 - val_loss: 0.1295 - val_accuracy: 0.9501\n",
            "Epoch 19/50\n",
            "255/255 [==============================] - 0s 1ms/step - loss: 0.0498 - accuracy: 0.9856 - val_loss: 0.0809 - val_accuracy: 0.9764\n",
            "Epoch 20/50\n",
            "255/255 [==============================] - 0s 1ms/step - loss: 0.0468 - accuracy: 0.9863 - val_loss: 0.0757 - val_accuracy: 0.9782\n",
            "Epoch 21/50\n",
            "255/255 [==============================] - 0s 1ms/step - loss: 0.0471 - accuracy: 0.9867 - val_loss: 0.0760 - val_accuracy: 0.9782\n",
            "Epoch 22/50\n",
            "255/255 [==============================] - 0s 2ms/step - loss: 0.0479 - accuracy: 0.9861 - val_loss: 0.0789 - val_accuracy: 0.9771\n",
            "Epoch 23/50\n",
            "255/255 [==============================] - 0s 1ms/step - loss: 0.0400 - accuracy: 0.9891 - val_loss: 0.0788 - val_accuracy: 0.9775\n",
            "Epoch 24/50\n",
            "255/255 [==============================] - 0s 1ms/step - loss: 0.0450 - accuracy: 0.9867 - val_loss: 0.0786 - val_accuracy: 0.9771\n",
            "Epoch 25/50\n",
            "255/255 [==============================] - 0s 1ms/step - loss: 0.0394 - accuracy: 0.9883 - val_loss: 0.0942 - val_accuracy: 0.9704\n",
            "Epoch 26/50\n",
            "255/255 [==============================] - 0s 1ms/step - loss: 0.0469 - accuracy: 0.9852 - val_loss: 0.1188 - val_accuracy: 0.9587\n",
            "Epoch 27/50\n",
            "255/255 [==============================] - 0s 1ms/step - loss: 0.0434 - accuracy: 0.9858 - val_loss: 0.0833 - val_accuracy: 0.9749\n",
            "Epoch 28/50\n",
            "255/255 [==============================] - 0s 1ms/step - loss: 0.0377 - accuracy: 0.9881 - val_loss: 0.0880 - val_accuracy: 0.9707\n",
            "Epoch 29/50\n",
            "255/255 [==============================] - 0s 1ms/step - loss: 0.0400 - accuracy: 0.9872 - val_loss: 0.0799 - val_accuracy: 0.9779\n",
            "Epoch 30/50\n",
            "255/255 [==============================] - 0s 2ms/step - loss: 0.0411 - accuracy: 0.9879 - val_loss: 0.0857 - val_accuracy: 0.9719\n",
            "Epoch 31/50\n",
            "255/255 [==============================] - 0s 1ms/step - loss: 0.0420 - accuracy: 0.9863 - val_loss: 0.0928 - val_accuracy: 0.9707\n",
            "Epoch 32/50\n",
            "255/255 [==============================] - 0s 2ms/step - loss: 0.0377 - accuracy: 0.9875 - val_loss: 0.0818 - val_accuracy: 0.9745\n",
            "Epoch 33/50\n",
            "255/255 [==============================] - 0s 2ms/step - loss: 0.0383 - accuracy: 0.9878 - val_loss: 0.1221 - val_accuracy: 0.9591\n",
            "Epoch 34/50\n",
            "255/255 [==============================] - 0s 1ms/step - loss: 0.0413 - accuracy: 0.9869 - val_loss: 0.0819 - val_accuracy: 0.9749\n",
            "Epoch 35/50\n",
            "255/255 [==============================] - 0s 1ms/step - loss: 0.0384 - accuracy: 0.9885 - val_loss: 0.0858 - val_accuracy: 0.9711\n",
            "Epoch 36/50\n",
            "255/255 [==============================] - 0s 1ms/step - loss: 0.0389 - accuracy: 0.9873 - val_loss: 0.0852 - val_accuracy: 0.9726\n",
            "Epoch 37/50\n",
            "255/255 [==============================] - 0s 1ms/step - loss: 0.0376 - accuracy: 0.9875 - val_loss: 0.0992 - val_accuracy: 0.9685\n",
            "Epoch 38/50\n",
            "255/255 [==============================] - 0s 1ms/step - loss: 0.0378 - accuracy: 0.9874 - val_loss: 0.1047 - val_accuracy: 0.9647\n",
            "Epoch 39/50\n",
            "255/255 [==============================] - 0s 1ms/step - loss: 0.0387 - accuracy: 0.9864 - val_loss: 0.1070 - val_accuracy: 0.9632\n",
            "Epoch 40/50\n",
            "255/255 [==============================] - 0s 1ms/step - loss: 0.0306 - accuracy: 0.9899 - val_loss: 0.1051 - val_accuracy: 0.9655\n",
            "Epoch 41/50\n",
            "255/255 [==============================] - 0s 1ms/step - loss: 0.0375 - accuracy: 0.9876 - val_loss: 0.0863 - val_accuracy: 0.9719\n",
            "Epoch 42/50\n",
            "255/255 [==============================] - 0s 2ms/step - loss: 0.0333 - accuracy: 0.9889 - val_loss: 0.0948 - val_accuracy: 0.9700\n",
            "Epoch 43/50\n",
            "255/255 [==============================] - 0s 1ms/step - loss: 0.0363 - accuracy: 0.9869 - val_loss: 0.1358 - val_accuracy: 0.9407\n",
            "Epoch 44/50\n",
            "255/255 [==============================] - 0s 1ms/step - loss: 0.0331 - accuracy: 0.9883 - val_loss: 0.1063 - val_accuracy: 0.9659\n",
            "Epoch 45/50\n",
            "255/255 [==============================] - 0s 1ms/step - loss: 0.0321 - accuracy: 0.9893 - val_loss: 0.1329 - val_accuracy: 0.9415\n",
            "Epoch 46/50\n",
            "255/255 [==============================] - 0s 1ms/step - loss: 0.0346 - accuracy: 0.9867 - val_loss: 0.1204 - val_accuracy: 0.9460\n",
            "Epoch 47/50\n",
            "255/255 [==============================] - 0s 1ms/step - loss: 0.0381 - accuracy: 0.9865 - val_loss: 0.1920 - val_accuracy: 0.8998\n",
            "Epoch 48/50\n",
            "255/255 [==============================] - 0s 1ms/step - loss: 0.0367 - accuracy: 0.9870 - val_loss: 0.1240 - val_accuracy: 0.9441\n",
            "Epoch 49/50\n",
            "255/255 [==============================] - 0s 1ms/step - loss: 0.0331 - accuracy: 0.9878 - val_loss: 0.1882 - val_accuracy: 0.9017\n",
            "Epoch 50/50\n",
            "255/255 [==============================] - 0s 1ms/step - loss: 0.0356 - accuracy: 0.9873 - val_loss: 0.1671 - val_accuracy: 0.9189\n"
          ],
          "name": "stdout"
        }
      ]
    },
    {
      "cell_type": "code",
      "metadata": {
        "id": "ofMaiUAcdx7-"
      },
      "source": [
        "accuracy_MLP_1 = history_MLP_1.history['accuracy']\n",
        "val_accuracy_MLP_1 = history_MLP_1.history['val_accuracy']"
      ],
      "execution_count": null,
      "outputs": []
    },
    {
      "cell_type": "code",
      "metadata": {
        "colab": {
          "base_uri": "https://localhost:8080/",
          "height": 17
        },
        "id": "t_y_rvdZnpMx",
        "outputId": "1d841e8b-c77a-41bf-8a03-f270c8cf9972"
      },
      "source": [
        "import plotly.offline as py\n",
        "from plotly.offline import iplot\n",
        "from plotly.graph_objs import Scatter\n",
        "py.init_notebook_mode(connected=True)\n",
        "\n",
        "import plotly.io as pio\n",
        "pio.renderers.default = 'colab'"
      ],
      "execution_count": 97,
      "outputs": [
        {
          "output_type": "display_data",
          "data": {
            "text/html": [
              "        <script type=\"text/javascript\">\n",
              "        window.PlotlyConfig = {MathJaxConfig: 'local'};\n",
              "        if (window.MathJax) {MathJax.Hub.Config({SVG: {font: \"STIX-Web\"}});}\n",
              "        if (typeof require !== 'undefined') {\n",
              "        require.undef(\"plotly\");\n",
              "        requirejs.config({\n",
              "            paths: {\n",
              "                'plotly': ['https://cdn.plot.ly/plotly-latest.min']\n",
              "            }\n",
              "        });\n",
              "        require(['plotly'], function(Plotly) {\n",
              "            window._Plotly = Plotly;\n",
              "        });\n",
              "        }\n",
              "        </script>\n",
              "        "
            ]
          },
          "metadata": {
            "tags": []
          }
        }
      ]
    },
    {
      "cell_type": "code",
      "metadata": {
        "colab": {
          "base_uri": "https://localhost:8080/",
          "height": 542
        },
        "id": "dvgV4ZSzeCua",
        "outputId": "6bf9a52a-4330-40e1-a435-56ffe5f112eb"
      },
      "source": [
        "fig = go.Figure()\n",
        "fig.add_trace(go.Scatter(x=np.arange(len(accuracy_MLP_1)), y=accuracy_MLP_1,\n",
        "                    name='Training Accuracy Model MLP 1', line=dict(color='royalblue')))\n",
        "fig.add_trace(go.Scatter(x=np.arange(len(val_accuracy_MLP_1)), y=val_accuracy_MLP_1,\n",
        "                    name='Validation Accuracy Model MLP 1', line = dict(color='firebrick')))\n",
        "\n",
        "fig.update_layout(xaxis_title='Epochs',\n",
        "                  yaxis_title='Accuracy',\n",
        "                  title={'text': \"Training and Validation Accuracy for Model MLP 1\",\n",
        "                                                'x':0.5,\n",
        "                                                'xanchor': 'center',\n",
        "                                                'yanchor': 'top'})\n",
        "iplot(fig)\n"
      ],
      "execution_count": null,
      "outputs": [
        {
          "output_type": "display_data",
          "data": {
            "text/html": [
              "<html>\n",
              "<head><meta charset=\"utf-8\" /></head>\n",
              "<body>\n",
              "    <div>\n",
              "            <script src=\"https://cdnjs.cloudflare.com/ajax/libs/mathjax/2.7.5/MathJax.js?config=TeX-AMS-MML_SVG\"></script><script type=\"text/javascript\">if (window.MathJax) {MathJax.Hub.Config({SVG: {font: \"STIX-Web\"}});}</script>\n",
              "                <script type=\"text/javascript\">window.PlotlyConfig = {MathJaxConfig: 'local'};</script>\n",
              "        <script src=\"https://cdn.plot.ly/plotly-latest.min.js\"></script>    \n",
              "            <div id=\"02e8497c-a6cf-47e4-8af8-6e96201d43c3\" class=\"plotly-graph-div\" style=\"height:525px; width:100%;\"></div>\n",
              "            <script type=\"text/javascript\">\n",
              "                \n",
              "                    window.PLOTLYENV=window.PLOTLYENV || {};\n",
              "                    \n",
              "                if (document.getElementById(\"02e8497c-a6cf-47e4-8af8-6e96201d43c3\")) {\n",
              "                    Plotly.newPlot(\n",
              "                        '02e8497c-a6cf-47e4-8af8-6e96201d43c3',\n",
              "                        [{\"line\": {\"color\": \"royalblue\"}, \"name\": \"Training Accuracy Model MLP 1\", \"type\": \"scatter\", \"x\": [0, 1, 2, 3, 4, 5, 6, 7, 8, 9, 10, 11, 12, 13, 14, 15, 16, 17, 18, 19, 20, 21, 22, 23, 24, 25, 26, 27, 28, 29, 30, 31, 32, 33, 34, 35, 36, 37, 38, 39, 40, 41, 42, 43, 44, 45, 46, 47, 48, 49], \"y\": [0.9635269641876221, 0.9796143770217896, 0.9832985401153564, 0.9846494197845459, 0.9855090379714966, 0.9853861927986145, 0.9856318235397339, 0.9869827032089233, 0.9869827032089233, 0.9864914417266846, 0.9861230254173279, 0.9866142868995667, 0.9861230254173279, 0.9866142868995667, 0.9866142868995667, 0.9864914417266846, 0.9866142868995667, 0.9866142868995667, 0.9869827032089233, 0.986737072467804, 0.986737072467804, 0.986737072467804, 0.9871054887771606, 0.986737072467804, 0.9868598580360413, 0.9869827032089233, 0.9863686561584473, 0.9868598580360413, 0.9869827032089233, 0.98735111951828, 0.9869827032089233, 0.987228274345398, 0.9875966906547546, 0.9871054887771606, 0.9874739050865173, 0.9877195358276367, 0.9875966906547546, 0.9879651069641113, 0.9875966906547546, 0.9879651069641113, 0.9879651069641113, 0.9880879521369934, 0.9877195358276367, 0.987842321395874, 0.987842321395874, 0.987842321395874, 0.9877195358276367, 0.987842321395874, 0.9880879521369934, 0.9882107377052307]}, {\"line\": {\"color\": \"firebrick\"}, \"name\": \"Validation Accuracy Model MLP 1\", \"type\": \"scatter\", \"x\": [0, 1, 2, 3, 4, 5, 6, 7, 8, 9, 10, 11, 12, 13, 14, 15, 16, 17, 18, 19, 20, 21, 22, 23, 24, 25, 26, 27, 28, 29, 30, 31, 32, 33, 34, 35, 36, 37, 38, 39, 40, 41, 42, 43, 44, 45, 46, 47, 48, 49], \"y\": [0.9639775156974792, 0.9669793844223022, 0.9718574285507202, 0.9718574285507202, 0.9771106839179993, 0.9767354726791382, 0.9767354726791382, 0.9771106839179993, 0.9771106839179993, 0.9767354726791382, 0.9786116480827332, 0.9771106839179993, 0.9782363772392273, 0.9786116480827332, 0.9786116480827332, 0.9786116480827332, 0.9786116480827332, 0.9500938057899475, 0.9763602018356323, 0.9782363772392273, 0.9782363772392273, 0.9771106839179993, 0.9774859547615051, 0.9771106839179993, 0.9703564643859863, 0.9587242007255554, 0.9748592972755432, 0.9707317352294922, 0.9778611660003662, 0.9718574285507202, 0.9707317352294922, 0.9744840264320374, 0.9590994119644165, 0.9748592972755432, 0.9711069464683533, 0.9726078510284424, 0.9684802889823914, 0.9647279381752014, 0.9632270336151123, 0.9654784202575684, 0.9718574285507202, 0.9699812531471252, 0.9407129287719727, 0.9658536314964294, 0.9414634108543396, 0.9459662437438965, 0.8998124003410339, 0.9440900683403015, 0.9016885757446289, 0.9189493656158447]}],\n",
              "                        {\"template\": {\"data\": {\"bar\": [{\"error_x\": {\"color\": \"#2a3f5f\"}, \"error_y\": {\"color\": \"#2a3f5f\"}, \"marker\": {\"line\": {\"color\": \"#E5ECF6\", \"width\": 0.5}}, \"type\": \"bar\"}], \"barpolar\": [{\"marker\": {\"line\": {\"color\": \"#E5ECF6\", \"width\": 0.5}}, \"type\": \"barpolar\"}], \"carpet\": [{\"aaxis\": {\"endlinecolor\": \"#2a3f5f\", \"gridcolor\": \"white\", \"linecolor\": \"white\", \"minorgridcolor\": \"white\", \"startlinecolor\": \"#2a3f5f\"}, \"baxis\": {\"endlinecolor\": \"#2a3f5f\", \"gridcolor\": \"white\", \"linecolor\": \"white\", \"minorgridcolor\": \"white\", \"startlinecolor\": \"#2a3f5f\"}, \"type\": \"carpet\"}], \"choropleth\": [{\"colorbar\": {\"outlinewidth\": 0, \"ticks\": \"\"}, \"type\": \"choropleth\"}], \"contour\": [{\"colorbar\": {\"outlinewidth\": 0, \"ticks\": \"\"}, \"colorscale\": [[0.0, \"#0d0887\"], [0.1111111111111111, \"#46039f\"], [0.2222222222222222, \"#7201a8\"], [0.3333333333333333, \"#9c179e\"], [0.4444444444444444, \"#bd3786\"], [0.5555555555555556, \"#d8576b\"], [0.6666666666666666, \"#ed7953\"], [0.7777777777777778, \"#fb9f3a\"], [0.8888888888888888, \"#fdca26\"], [1.0, \"#f0f921\"]], \"type\": \"contour\"}], \"contourcarpet\": [{\"colorbar\": {\"outlinewidth\": 0, \"ticks\": \"\"}, \"type\": \"contourcarpet\"}], \"heatmap\": [{\"colorbar\": {\"outlinewidth\": 0, \"ticks\": \"\"}, \"colorscale\": [[0.0, \"#0d0887\"], [0.1111111111111111, \"#46039f\"], [0.2222222222222222, \"#7201a8\"], [0.3333333333333333, \"#9c179e\"], [0.4444444444444444, \"#bd3786\"], [0.5555555555555556, \"#d8576b\"], [0.6666666666666666, \"#ed7953\"], [0.7777777777777778, \"#fb9f3a\"], [0.8888888888888888, \"#fdca26\"], [1.0, \"#f0f921\"]], \"type\": \"heatmap\"}], \"heatmapgl\": [{\"colorbar\": {\"outlinewidth\": 0, \"ticks\": \"\"}, \"colorscale\": [[0.0, \"#0d0887\"], [0.1111111111111111, \"#46039f\"], [0.2222222222222222, \"#7201a8\"], [0.3333333333333333, \"#9c179e\"], [0.4444444444444444, \"#bd3786\"], [0.5555555555555556, \"#d8576b\"], [0.6666666666666666, \"#ed7953\"], [0.7777777777777778, \"#fb9f3a\"], [0.8888888888888888, \"#fdca26\"], [1.0, \"#f0f921\"]], \"type\": \"heatmapgl\"}], \"histogram\": [{\"marker\": {\"colorbar\": {\"outlinewidth\": 0, \"ticks\": \"\"}}, \"type\": \"histogram\"}], \"histogram2d\": [{\"colorbar\": {\"outlinewidth\": 0, \"ticks\": \"\"}, \"colorscale\": [[0.0, \"#0d0887\"], [0.1111111111111111, \"#46039f\"], [0.2222222222222222, \"#7201a8\"], [0.3333333333333333, \"#9c179e\"], [0.4444444444444444, \"#bd3786\"], [0.5555555555555556, \"#d8576b\"], [0.6666666666666666, \"#ed7953\"], [0.7777777777777778, \"#fb9f3a\"], [0.8888888888888888, \"#fdca26\"], [1.0, \"#f0f921\"]], \"type\": \"histogram2d\"}], \"histogram2dcontour\": [{\"colorbar\": {\"outlinewidth\": 0, \"ticks\": \"\"}, \"colorscale\": [[0.0, \"#0d0887\"], [0.1111111111111111, \"#46039f\"], [0.2222222222222222, \"#7201a8\"], [0.3333333333333333, \"#9c179e\"], [0.4444444444444444, \"#bd3786\"], [0.5555555555555556, \"#d8576b\"], [0.6666666666666666, \"#ed7953\"], [0.7777777777777778, \"#fb9f3a\"], [0.8888888888888888, \"#fdca26\"], [1.0, \"#f0f921\"]], \"type\": \"histogram2dcontour\"}], \"mesh3d\": [{\"colorbar\": {\"outlinewidth\": 0, \"ticks\": \"\"}, \"type\": \"mesh3d\"}], \"parcoords\": [{\"line\": {\"colorbar\": {\"outlinewidth\": 0, \"ticks\": \"\"}}, \"type\": \"parcoords\"}], \"pie\": [{\"automargin\": true, \"type\": \"pie\"}], \"scatter\": [{\"marker\": {\"colorbar\": {\"outlinewidth\": 0, \"ticks\": \"\"}}, \"type\": \"scatter\"}], \"scatter3d\": [{\"line\": {\"colorbar\": {\"outlinewidth\": 0, \"ticks\": \"\"}}, \"marker\": {\"colorbar\": {\"outlinewidth\": 0, \"ticks\": \"\"}}, \"type\": \"scatter3d\"}], \"scattercarpet\": [{\"marker\": {\"colorbar\": {\"outlinewidth\": 0, \"ticks\": \"\"}}, \"type\": \"scattercarpet\"}], \"scattergeo\": [{\"marker\": {\"colorbar\": {\"outlinewidth\": 0, \"ticks\": \"\"}}, \"type\": \"scattergeo\"}], \"scattergl\": [{\"marker\": {\"colorbar\": {\"outlinewidth\": 0, \"ticks\": \"\"}}, \"type\": \"scattergl\"}], \"scattermapbox\": [{\"marker\": {\"colorbar\": {\"outlinewidth\": 0, \"ticks\": \"\"}}, \"type\": \"scattermapbox\"}], \"scatterpolar\": [{\"marker\": {\"colorbar\": {\"outlinewidth\": 0, \"ticks\": \"\"}}, \"type\": \"scatterpolar\"}], \"scatterpolargl\": [{\"marker\": {\"colorbar\": {\"outlinewidth\": 0, \"ticks\": \"\"}}, \"type\": \"scatterpolargl\"}], \"scatterternary\": [{\"marker\": {\"colorbar\": {\"outlinewidth\": 0, \"ticks\": \"\"}}, \"type\": \"scatterternary\"}], \"surface\": [{\"colorbar\": {\"outlinewidth\": 0, \"ticks\": \"\"}, \"colorscale\": [[0.0, \"#0d0887\"], [0.1111111111111111, \"#46039f\"], [0.2222222222222222, \"#7201a8\"], [0.3333333333333333, \"#9c179e\"], [0.4444444444444444, \"#bd3786\"], [0.5555555555555556, \"#d8576b\"], [0.6666666666666666, \"#ed7953\"], [0.7777777777777778, \"#fb9f3a\"], [0.8888888888888888, \"#fdca26\"], [1.0, \"#f0f921\"]], \"type\": \"surface\"}], \"table\": [{\"cells\": {\"fill\": {\"color\": \"#EBF0F8\"}, \"line\": {\"color\": \"white\"}}, \"header\": {\"fill\": {\"color\": \"#C8D4E3\"}, \"line\": {\"color\": \"white\"}}, \"type\": \"table\"}]}, \"layout\": {\"annotationdefaults\": {\"arrowcolor\": \"#2a3f5f\", \"arrowhead\": 0, \"arrowwidth\": 1}, \"coloraxis\": {\"colorbar\": {\"outlinewidth\": 0, \"ticks\": \"\"}}, \"colorscale\": {\"diverging\": [[0, \"#8e0152\"], [0.1, \"#c51b7d\"], [0.2, \"#de77ae\"], [0.3, \"#f1b6da\"], [0.4, \"#fde0ef\"], [0.5, \"#f7f7f7\"], [0.6, \"#e6f5d0\"], [0.7, \"#b8e186\"], [0.8, \"#7fbc41\"], [0.9, \"#4d9221\"], [1, \"#276419\"]], \"sequential\": [[0.0, \"#0d0887\"], [0.1111111111111111, \"#46039f\"], [0.2222222222222222, \"#7201a8\"], [0.3333333333333333, \"#9c179e\"], [0.4444444444444444, \"#bd3786\"], [0.5555555555555556, \"#d8576b\"], [0.6666666666666666, \"#ed7953\"], [0.7777777777777778, \"#fb9f3a\"], [0.8888888888888888, \"#fdca26\"], [1.0, \"#f0f921\"]], \"sequentialminus\": [[0.0, \"#0d0887\"], [0.1111111111111111, \"#46039f\"], [0.2222222222222222, \"#7201a8\"], [0.3333333333333333, \"#9c179e\"], [0.4444444444444444, \"#bd3786\"], [0.5555555555555556, \"#d8576b\"], [0.6666666666666666, \"#ed7953\"], [0.7777777777777778, \"#fb9f3a\"], [0.8888888888888888, \"#fdca26\"], [1.0, \"#f0f921\"]]}, \"colorway\": [\"#636efa\", \"#EF553B\", \"#00cc96\", \"#ab63fa\", \"#FFA15A\", \"#19d3f3\", \"#FF6692\", \"#B6E880\", \"#FF97FF\", \"#FECB52\"], \"font\": {\"color\": \"#2a3f5f\"}, \"geo\": {\"bgcolor\": \"white\", \"lakecolor\": \"white\", \"landcolor\": \"#E5ECF6\", \"showlakes\": true, \"showland\": true, \"subunitcolor\": \"white\"}, \"hoverlabel\": {\"align\": \"left\"}, \"hovermode\": \"closest\", \"mapbox\": {\"style\": \"light\"}, \"paper_bgcolor\": \"white\", \"plot_bgcolor\": \"#E5ECF6\", \"polar\": {\"angularaxis\": {\"gridcolor\": \"white\", \"linecolor\": \"white\", \"ticks\": \"\"}, \"bgcolor\": \"#E5ECF6\", \"radialaxis\": {\"gridcolor\": \"white\", \"linecolor\": \"white\", \"ticks\": \"\"}}, \"scene\": {\"xaxis\": {\"backgroundcolor\": \"#E5ECF6\", \"gridcolor\": \"white\", \"gridwidth\": 2, \"linecolor\": \"white\", \"showbackground\": true, \"ticks\": \"\", \"zerolinecolor\": \"white\"}, \"yaxis\": {\"backgroundcolor\": \"#E5ECF6\", \"gridcolor\": \"white\", \"gridwidth\": 2, \"linecolor\": \"white\", \"showbackground\": true, \"ticks\": \"\", \"zerolinecolor\": \"white\"}, \"zaxis\": {\"backgroundcolor\": \"#E5ECF6\", \"gridcolor\": \"white\", \"gridwidth\": 2, \"linecolor\": \"white\", \"showbackground\": true, \"ticks\": \"\", \"zerolinecolor\": \"white\"}}, \"shapedefaults\": {\"line\": {\"color\": \"#2a3f5f\"}}, \"ternary\": {\"aaxis\": {\"gridcolor\": \"white\", \"linecolor\": \"white\", \"ticks\": \"\"}, \"baxis\": {\"gridcolor\": \"white\", \"linecolor\": \"white\", \"ticks\": \"\"}, \"bgcolor\": \"#E5ECF6\", \"caxis\": {\"gridcolor\": \"white\", \"linecolor\": \"white\", \"ticks\": \"\"}}, \"title\": {\"x\": 0.05}, \"xaxis\": {\"automargin\": true, \"gridcolor\": \"white\", \"linecolor\": \"white\", \"ticks\": \"\", \"title\": {\"standoff\": 15}, \"zerolinecolor\": \"white\", \"zerolinewidth\": 2}, \"yaxis\": {\"automargin\": true, \"gridcolor\": \"white\", \"linecolor\": \"white\", \"ticks\": \"\", \"title\": {\"standoff\": 15}, \"zerolinecolor\": \"white\", \"zerolinewidth\": 2}}}, \"title\": {\"text\": \"Training and Validation Accuracy for Model MLP 1\", \"x\": 0.5, \"xanchor\": \"center\", \"yanchor\": \"top\"}, \"xaxis\": {\"title\": {\"text\": \"Epochs\"}}, \"yaxis\": {\"title\": {\"text\": \"Accuracy\"}}},\n",
              "                        {\"responsive\": true}\n",
              "                    ).then(function(){\n",
              "                            \n",
              "var gd = document.getElementById('02e8497c-a6cf-47e4-8af8-6e96201d43c3');\n",
              "var x = new MutationObserver(function (mutations, observer) {{\n",
              "        var display = window.getComputedStyle(gd).display;\n",
              "        if (!display || display === 'none') {{\n",
              "            console.log([gd, 'removed!']);\n",
              "            Plotly.purge(gd);\n",
              "            observer.disconnect();\n",
              "        }}\n",
              "}});\n",
              "\n",
              "// Listen for the removal of the full notebook cells\n",
              "var notebookContainer = gd.closest('#notebook-container');\n",
              "if (notebookContainer) {{\n",
              "    x.observe(notebookContainer, {childList: true});\n",
              "}}\n",
              "\n",
              "// Listen for the clearing of the current output cell\n",
              "var outputEl = gd.closest('.output');\n",
              "if (outputEl) {{\n",
              "    x.observe(outputEl, {childList: true});\n",
              "}}\n",
              "\n",
              "                        })\n",
              "                };\n",
              "                \n",
              "            </script>\n",
              "        </div>\n",
              "</body>\n",
              "</html>"
            ]
          },
          "metadata": {
            "tags": []
          }
        }
      ]
    },
    {
      "cell_type": "markdown",
      "metadata": {
        "id": "pHQQmTQ0ajWm"
      },
      "source": [
        "### Model MLP 02"
      ]
    },
    {
      "cell_type": "code",
      "metadata": {
        "id": "brGjjjsyZmZK"
      },
      "source": [
        "from keras import backend as K \n",
        "K.clear_session()"
      ],
      "execution_count": null,
      "outputs": []
    },
    {
      "cell_type": "code",
      "metadata": {
        "id": "yZdH_uVBXgRX"
      },
      "source": [
        "model_MLP_2 = Sequential()\n",
        "model_MLP_2.add(Dense(32, activation='relu', input_dim=6))\n",
        "model_MLP_2.add(Dense(16, activation='relu'))\n",
        "model_MLP_2.add(Dense(1, activation='relu'))\n",
        "model_MLP_2.compile(optimizer='rmsprop',\n",
        "              loss='binary_crossentropy',\n",
        "              metrics=['accuracy'])"
      ],
      "execution_count": null,
      "outputs": []
    },
    {
      "cell_type": "code",
      "metadata": {
        "id": "NILd0A9MXzLf"
      },
      "source": [
        "# simple early stopping\n",
        "from keras.callbacks import EarlyStopping\n",
        "from keras.callbacks import ModelCheckpoint\n",
        "es = EarlyStopping(monitor='val_loss', mode='min', verbose=1)\n",
        "mc = ModelCheckpoint('best_model_MLP_2_.h5', monitor='val_accuracy', mode='auto', verbose=1, save_best_only=True)"
      ],
      "execution_count": null,
      "outputs": []
    },
    {
      "cell_type": "code",
      "metadata": {
        "colab": {
          "base_uri": "https://localhost:8080/"
        },
        "id": "2gQ3Gv6ZX68H",
        "outputId": "da30a67e-55e7-4954-8f69-40543bc80c85"
      },
      "source": [
        "history_MLP_2 = model_MLP_2.fit(X_train, y_train, epochs=50, batch_size=32, validation_data=(X_validation, y_validation), callbacks=[es, mc])"
      ],
      "execution_count": null,
      "outputs": [
        {
          "output_type": "stream",
          "text": [
            "Epoch 1/50\n",
            "255/255 [==============================] - 1s 2ms/step - loss: 0.2097 - accuracy: 0.9219 - val_loss: 0.1861 - val_accuracy: 0.9572\n",
            "\n",
            "Epoch 00001: val_accuracy improved from -inf to 0.95722, saving model to best_model_MLP_2_.h5\n",
            "Epoch 2/50\n",
            "255/255 [==============================] - 0s 1ms/step - loss: 0.1402 - accuracy: 0.9770 - val_loss: 0.1207 - val_accuracy: 0.9779\n",
            "\n",
            "Epoch 00002: val_accuracy improved from 0.95722 to 0.97786, saving model to best_model_MLP_2_.h5\n",
            "Epoch 3/50\n",
            "255/255 [==============================] - 0s 1ms/step - loss: 0.1109 - accuracy: 0.9856 - val_loss: 0.1350 - val_accuracy: 0.9786\n",
            "\n",
            "Epoch 00003: val_accuracy improved from 0.97786 to 0.97861, saving model to best_model_MLP_2_.h5\n",
            "Epoch 00003: early stopping\n"
          ],
          "name": "stdout"
        }
      ]
    },
    {
      "cell_type": "code",
      "metadata": {
        "colab": {
          "base_uri": "https://localhost:8080/",
          "height": 542
        },
        "id": "TsIvTl9se5qj",
        "outputId": "70f072e6-bae7-4312-c842-42e6206373e5"
      },
      "source": [
        "accuracy_MLP_2 = history_MLP_2.history['accuracy']\n",
        "val_accuracy_MLP_2 = history_MLP_2.history['val_accuracy']\n",
        "fig = go.Figure()\n",
        "fig.add_trace(go.Scatter(x=np.arange(len(accuracy_MLP_2)), y=accuracy_MLP_2,\n",
        "                    name='Training Accuracy Model MLP 2', line=dict(color='royalblue')))\n",
        "fig.add_trace(go.Scatter(x=np.arange(len(val_accuracy_MLP_2)), y=val_accuracy_MLP_2,\n",
        "                    name='Validation Accuracy Model MLP 2', line = dict(color='firebrick')))\n",
        "\n",
        "fig.update_layout(xaxis_title='Epochs',\n",
        "                  yaxis_title='Accuracy',\n",
        "                  title={'text': \"Training and Validation Accuracy for Model MLP 2\",\n",
        "                                                'x':0.5,\n",
        "                                                'xanchor': 'center',\n",
        "                                                'yanchor': 'top'})\n",
        "iplot(fig)"
      ],
      "execution_count": null,
      "outputs": [
        {
          "output_type": "display_data",
          "data": {
            "text/html": [
              "<html>\n",
              "<head><meta charset=\"utf-8\" /></head>\n",
              "<body>\n",
              "    <div>\n",
              "            <script src=\"https://cdnjs.cloudflare.com/ajax/libs/mathjax/2.7.5/MathJax.js?config=TeX-AMS-MML_SVG\"></script><script type=\"text/javascript\">if (window.MathJax) {MathJax.Hub.Config({SVG: {font: \"STIX-Web\"}});}</script>\n",
              "                <script type=\"text/javascript\">window.PlotlyConfig = {MathJaxConfig: 'local'};</script>\n",
              "        <script src=\"https://cdn.plot.ly/plotly-latest.min.js\"></script>    \n",
              "            <div id=\"3ae5a3b4-1218-4840-b08b-0d552237e086\" class=\"plotly-graph-div\" style=\"height:525px; width:100%;\"></div>\n",
              "            <script type=\"text/javascript\">\n",
              "                \n",
              "                    window.PLOTLYENV=window.PLOTLYENV || {};\n",
              "                    \n",
              "                if (document.getElementById(\"3ae5a3b4-1218-4840-b08b-0d552237e086\")) {\n",
              "                    Plotly.newPlot(\n",
              "                        '3ae5a3b4-1218-4840-b08b-0d552237e086',\n",
              "                        [{\"line\": {\"color\": \"royalblue\"}, \"name\": \"Training Accuracy Model MLP 2\", \"type\": \"scatter\", \"x\": [0, 1, 2], \"y\": [0.9545621871948242, 0.9792459607124329, 0.9856318235397339]}, {\"line\": {\"color\": \"firebrick\"}, \"name\": \"Validation Accuracy Model MLP 2\", \"type\": \"scatter\", \"x\": [0, 1, 2], \"y\": [0.9572232365608215, 0.9778611660003662, 0.9786116480827332]}],\n",
              "                        {\"template\": {\"data\": {\"bar\": [{\"error_x\": {\"color\": \"#2a3f5f\"}, \"error_y\": {\"color\": \"#2a3f5f\"}, \"marker\": {\"line\": {\"color\": \"#E5ECF6\", \"width\": 0.5}}, \"type\": \"bar\"}], \"barpolar\": [{\"marker\": {\"line\": {\"color\": \"#E5ECF6\", \"width\": 0.5}}, \"type\": \"barpolar\"}], \"carpet\": [{\"aaxis\": {\"endlinecolor\": \"#2a3f5f\", \"gridcolor\": \"white\", \"linecolor\": \"white\", \"minorgridcolor\": \"white\", \"startlinecolor\": \"#2a3f5f\"}, \"baxis\": {\"endlinecolor\": \"#2a3f5f\", \"gridcolor\": \"white\", \"linecolor\": \"white\", \"minorgridcolor\": \"white\", \"startlinecolor\": \"#2a3f5f\"}, \"type\": \"carpet\"}], \"choropleth\": [{\"colorbar\": {\"outlinewidth\": 0, \"ticks\": \"\"}, \"type\": \"choropleth\"}], \"contour\": [{\"colorbar\": {\"outlinewidth\": 0, \"ticks\": \"\"}, \"colorscale\": [[0.0, \"#0d0887\"], [0.1111111111111111, \"#46039f\"], [0.2222222222222222, \"#7201a8\"], [0.3333333333333333, \"#9c179e\"], [0.4444444444444444, \"#bd3786\"], [0.5555555555555556, \"#d8576b\"], [0.6666666666666666, \"#ed7953\"], [0.7777777777777778, \"#fb9f3a\"], [0.8888888888888888, \"#fdca26\"], [1.0, \"#f0f921\"]], \"type\": \"contour\"}], \"contourcarpet\": [{\"colorbar\": {\"outlinewidth\": 0, \"ticks\": \"\"}, \"type\": \"contourcarpet\"}], \"heatmap\": [{\"colorbar\": {\"outlinewidth\": 0, \"ticks\": \"\"}, \"colorscale\": [[0.0, \"#0d0887\"], [0.1111111111111111, \"#46039f\"], [0.2222222222222222, \"#7201a8\"], [0.3333333333333333, \"#9c179e\"], [0.4444444444444444, \"#bd3786\"], [0.5555555555555556, \"#d8576b\"], [0.6666666666666666, \"#ed7953\"], [0.7777777777777778, \"#fb9f3a\"], [0.8888888888888888, \"#fdca26\"], [1.0, \"#f0f921\"]], \"type\": \"heatmap\"}], \"heatmapgl\": [{\"colorbar\": {\"outlinewidth\": 0, \"ticks\": \"\"}, \"colorscale\": [[0.0, \"#0d0887\"], [0.1111111111111111, \"#46039f\"], [0.2222222222222222, \"#7201a8\"], [0.3333333333333333, \"#9c179e\"], [0.4444444444444444, \"#bd3786\"], [0.5555555555555556, \"#d8576b\"], [0.6666666666666666, \"#ed7953\"], [0.7777777777777778, \"#fb9f3a\"], [0.8888888888888888, \"#fdca26\"], [1.0, \"#f0f921\"]], \"type\": \"heatmapgl\"}], \"histogram\": [{\"marker\": {\"colorbar\": {\"outlinewidth\": 0, \"ticks\": \"\"}}, \"type\": \"histogram\"}], \"histogram2d\": [{\"colorbar\": {\"outlinewidth\": 0, \"ticks\": \"\"}, \"colorscale\": [[0.0, \"#0d0887\"], [0.1111111111111111, \"#46039f\"], [0.2222222222222222, \"#7201a8\"], [0.3333333333333333, \"#9c179e\"], [0.4444444444444444, \"#bd3786\"], [0.5555555555555556, \"#d8576b\"], [0.6666666666666666, \"#ed7953\"], [0.7777777777777778, \"#fb9f3a\"], [0.8888888888888888, \"#fdca26\"], [1.0, \"#f0f921\"]], \"type\": \"histogram2d\"}], \"histogram2dcontour\": [{\"colorbar\": {\"outlinewidth\": 0, \"ticks\": \"\"}, \"colorscale\": [[0.0, \"#0d0887\"], [0.1111111111111111, \"#46039f\"], [0.2222222222222222, \"#7201a8\"], [0.3333333333333333, \"#9c179e\"], [0.4444444444444444, \"#bd3786\"], [0.5555555555555556, \"#d8576b\"], [0.6666666666666666, \"#ed7953\"], [0.7777777777777778, \"#fb9f3a\"], [0.8888888888888888, \"#fdca26\"], [1.0, \"#f0f921\"]], \"type\": \"histogram2dcontour\"}], \"mesh3d\": [{\"colorbar\": {\"outlinewidth\": 0, \"ticks\": \"\"}, \"type\": \"mesh3d\"}], \"parcoords\": [{\"line\": {\"colorbar\": {\"outlinewidth\": 0, \"ticks\": \"\"}}, \"type\": \"parcoords\"}], \"pie\": [{\"automargin\": true, \"type\": \"pie\"}], \"scatter\": [{\"marker\": {\"colorbar\": {\"outlinewidth\": 0, \"ticks\": \"\"}}, \"type\": \"scatter\"}], \"scatter3d\": [{\"line\": {\"colorbar\": {\"outlinewidth\": 0, \"ticks\": \"\"}}, \"marker\": {\"colorbar\": {\"outlinewidth\": 0, \"ticks\": \"\"}}, \"type\": \"scatter3d\"}], \"scattercarpet\": [{\"marker\": {\"colorbar\": {\"outlinewidth\": 0, \"ticks\": \"\"}}, \"type\": \"scattercarpet\"}], \"scattergeo\": [{\"marker\": {\"colorbar\": {\"outlinewidth\": 0, \"ticks\": \"\"}}, \"type\": \"scattergeo\"}], \"scattergl\": [{\"marker\": {\"colorbar\": {\"outlinewidth\": 0, \"ticks\": \"\"}}, \"type\": \"scattergl\"}], \"scattermapbox\": [{\"marker\": {\"colorbar\": {\"outlinewidth\": 0, \"ticks\": \"\"}}, \"type\": \"scattermapbox\"}], \"scatterpolar\": [{\"marker\": {\"colorbar\": {\"outlinewidth\": 0, \"ticks\": \"\"}}, \"type\": \"scatterpolar\"}], \"scatterpolargl\": [{\"marker\": {\"colorbar\": {\"outlinewidth\": 0, \"ticks\": \"\"}}, \"type\": \"scatterpolargl\"}], \"scatterternary\": [{\"marker\": {\"colorbar\": {\"outlinewidth\": 0, \"ticks\": \"\"}}, \"type\": \"scatterternary\"}], \"surface\": [{\"colorbar\": {\"outlinewidth\": 0, \"ticks\": \"\"}, \"colorscale\": [[0.0, \"#0d0887\"], [0.1111111111111111, \"#46039f\"], [0.2222222222222222, \"#7201a8\"], [0.3333333333333333, \"#9c179e\"], [0.4444444444444444, \"#bd3786\"], [0.5555555555555556, \"#d8576b\"], [0.6666666666666666, \"#ed7953\"], [0.7777777777777778, \"#fb9f3a\"], [0.8888888888888888, \"#fdca26\"], [1.0, \"#f0f921\"]], \"type\": \"surface\"}], \"table\": [{\"cells\": {\"fill\": {\"color\": \"#EBF0F8\"}, \"line\": {\"color\": \"white\"}}, \"header\": {\"fill\": {\"color\": \"#C8D4E3\"}, \"line\": {\"color\": \"white\"}}, \"type\": \"table\"}]}, \"layout\": {\"annotationdefaults\": {\"arrowcolor\": \"#2a3f5f\", \"arrowhead\": 0, \"arrowwidth\": 1}, \"coloraxis\": {\"colorbar\": {\"outlinewidth\": 0, \"ticks\": \"\"}}, \"colorscale\": {\"diverging\": [[0, \"#8e0152\"], [0.1, \"#c51b7d\"], [0.2, \"#de77ae\"], [0.3, \"#f1b6da\"], [0.4, \"#fde0ef\"], [0.5, \"#f7f7f7\"], [0.6, \"#e6f5d0\"], [0.7, \"#b8e186\"], [0.8, \"#7fbc41\"], [0.9, \"#4d9221\"], [1, \"#276419\"]], \"sequential\": [[0.0, \"#0d0887\"], [0.1111111111111111, \"#46039f\"], [0.2222222222222222, \"#7201a8\"], [0.3333333333333333, \"#9c179e\"], [0.4444444444444444, \"#bd3786\"], [0.5555555555555556, \"#d8576b\"], [0.6666666666666666, \"#ed7953\"], [0.7777777777777778, \"#fb9f3a\"], [0.8888888888888888, \"#fdca26\"], [1.0, \"#f0f921\"]], \"sequentialminus\": [[0.0, \"#0d0887\"], [0.1111111111111111, \"#46039f\"], [0.2222222222222222, \"#7201a8\"], [0.3333333333333333, \"#9c179e\"], [0.4444444444444444, \"#bd3786\"], [0.5555555555555556, \"#d8576b\"], [0.6666666666666666, \"#ed7953\"], [0.7777777777777778, \"#fb9f3a\"], [0.8888888888888888, \"#fdca26\"], [1.0, \"#f0f921\"]]}, \"colorway\": [\"#636efa\", \"#EF553B\", \"#00cc96\", \"#ab63fa\", \"#FFA15A\", \"#19d3f3\", \"#FF6692\", \"#B6E880\", \"#FF97FF\", \"#FECB52\"], \"font\": {\"color\": \"#2a3f5f\"}, \"geo\": {\"bgcolor\": \"white\", \"lakecolor\": \"white\", \"landcolor\": \"#E5ECF6\", \"showlakes\": true, \"showland\": true, \"subunitcolor\": \"white\"}, \"hoverlabel\": {\"align\": \"left\"}, \"hovermode\": \"closest\", \"mapbox\": {\"style\": \"light\"}, \"paper_bgcolor\": \"white\", \"plot_bgcolor\": \"#E5ECF6\", \"polar\": {\"angularaxis\": {\"gridcolor\": \"white\", \"linecolor\": \"white\", \"ticks\": \"\"}, \"bgcolor\": \"#E5ECF6\", \"radialaxis\": {\"gridcolor\": \"white\", \"linecolor\": \"white\", \"ticks\": \"\"}}, \"scene\": {\"xaxis\": {\"backgroundcolor\": \"#E5ECF6\", \"gridcolor\": \"white\", \"gridwidth\": 2, \"linecolor\": \"white\", \"showbackground\": true, \"ticks\": \"\", \"zerolinecolor\": \"white\"}, \"yaxis\": {\"backgroundcolor\": \"#E5ECF6\", \"gridcolor\": \"white\", \"gridwidth\": 2, \"linecolor\": \"white\", \"showbackground\": true, \"ticks\": \"\", \"zerolinecolor\": \"white\"}, \"zaxis\": {\"backgroundcolor\": \"#E5ECF6\", \"gridcolor\": \"white\", \"gridwidth\": 2, \"linecolor\": \"white\", \"showbackground\": true, \"ticks\": \"\", \"zerolinecolor\": \"white\"}}, \"shapedefaults\": {\"line\": {\"color\": \"#2a3f5f\"}}, \"ternary\": {\"aaxis\": {\"gridcolor\": \"white\", \"linecolor\": \"white\", \"ticks\": \"\"}, \"baxis\": {\"gridcolor\": \"white\", \"linecolor\": \"white\", \"ticks\": \"\"}, \"bgcolor\": \"#E5ECF6\", \"caxis\": {\"gridcolor\": \"white\", \"linecolor\": \"white\", \"ticks\": \"\"}}, \"title\": {\"x\": 0.05}, \"xaxis\": {\"automargin\": true, \"gridcolor\": \"white\", \"linecolor\": \"white\", \"ticks\": \"\", \"title\": {\"standoff\": 15}, \"zerolinecolor\": \"white\", \"zerolinewidth\": 2}, \"yaxis\": {\"automargin\": true, \"gridcolor\": \"white\", \"linecolor\": \"white\", \"ticks\": \"\", \"title\": {\"standoff\": 15}, \"zerolinecolor\": \"white\", \"zerolinewidth\": 2}}}, \"title\": {\"text\": \"Training and Validation Accuracy for Model MLP 2\", \"x\": 0.5, \"xanchor\": \"center\", \"yanchor\": \"top\"}, \"xaxis\": {\"title\": {\"text\": \"Epochs\"}}, \"yaxis\": {\"title\": {\"text\": \"Accuracy\"}}},\n",
              "                        {\"responsive\": true}\n",
              "                    ).then(function(){\n",
              "                            \n",
              "var gd = document.getElementById('3ae5a3b4-1218-4840-b08b-0d552237e086');\n",
              "var x = new MutationObserver(function (mutations, observer) {{\n",
              "        var display = window.getComputedStyle(gd).display;\n",
              "        if (!display || display === 'none') {{\n",
              "            console.log([gd, 'removed!']);\n",
              "            Plotly.purge(gd);\n",
              "            observer.disconnect();\n",
              "        }}\n",
              "}});\n",
              "\n",
              "// Listen for the removal of the full notebook cells\n",
              "var notebookContainer = gd.closest('#notebook-container');\n",
              "if (notebookContainer) {{\n",
              "    x.observe(notebookContainer, {childList: true});\n",
              "}}\n",
              "\n",
              "// Listen for the clearing of the current output cell\n",
              "var outputEl = gd.closest('.output');\n",
              "if (outputEl) {{\n",
              "    x.observe(outputEl, {childList: true});\n",
              "}}\n",
              "\n",
              "                        })\n",
              "                };\n",
              "                \n",
              "            </script>\n",
              "        </div>\n",
              "</body>\n",
              "</html>"
            ]
          },
          "metadata": {
            "tags": []
          }
        }
      ]
    },
    {
      "cell_type": "markdown",
      "metadata": {
        "id": "j7xZ_xF3aW6N"
      },
      "source": [
        "### Model MLP 03"
      ]
    },
    {
      "cell_type": "code",
      "metadata": {
        "id": "ZxsGLmnMYU5H"
      },
      "source": [
        "K.clear_session()\n",
        "#\n",
        "model_MLP_3 = Sequential()\n",
        "model_MLP_3.add(Dense(100, activation='tanh', input_dim=6, kernel_regularizer=l1(l=0.01)))\n",
        "model_MLP_3.add(Dense(64, activation='tanh', kernel_regularizer=l1(l=0.01)))\n",
        "model_MLP_3.add(Dense(32, activation='tanh', kernel_regularizer=l1(l=0.01)))\n",
        "model_MLP_3.add(Dense(16, activation='tanh', kernel_regularizer=l1(l=0.01)))\n",
        "model_MLP_3.add(Dense(1, activation='tanh'))\n",
        "model_MLP_3.compile(optimizer='adam',\n",
        "              loss='binary_crossentropy',\n",
        "              metrics=['accuracy'])"
      ],
      "execution_count": null,
      "outputs": []
    },
    {
      "cell_type": "code",
      "metadata": {
        "colab": {
          "base_uri": "https://localhost:8080/"
        },
        "id": "Ll7Q182UY7Z0",
        "outputId": "50004c3b-459a-48c1-aa86-fec24fe14bfc"
      },
      "source": [
        "es = EarlyStopping(monitor='val_loss', mode='min', verbose=1)\n",
        "mc = ModelCheckpoint('best_model_MLP_3_.h5', monitor='val_accuracy', mode='auto', verbose=1, save_best_only=True)\n",
        "#\n",
        "history_MLP_3 = model_MLP_3.fit(X_train, y_train, epochs=50, batch_size=32, validation_data=(X_validation, y_validation), callbacks=[es, mc])"
      ],
      "execution_count": null,
      "outputs": [
        {
          "output_type": "stream",
          "text": [
            "Epoch 1/50\n",
            "255/255 [==============================] - 1s 3ms/step - loss: 6.6517 - accuracy: 0.9095 - val_loss: 0.6718 - val_accuracy: 0.9422\n",
            "\n",
            "Epoch 00001: val_accuracy improved from -inf to 0.94221, saving model to best_model_MLP_3_.h5\n",
            "Epoch 2/50\n",
            "255/255 [==============================] - 0s 2ms/step - loss: 0.4799 - accuracy: 0.9745 - val_loss: 0.3290 - val_accuracy: 0.9700\n",
            "\n",
            "Epoch 00002: val_accuracy improved from 0.94221 to 0.96998, saving model to best_model_MLP_3_.h5\n",
            "Epoch 3/50\n",
            "255/255 [==============================] - 1s 2ms/step - loss: 0.2954 - accuracy: 0.9836 - val_loss: 0.2806 - val_accuracy: 0.9767\n",
            "\n",
            "Epoch 00003: val_accuracy improved from 0.96998 to 0.97674, saving model to best_model_MLP_3_.h5\n",
            "Epoch 4/50\n",
            "255/255 [==============================] - 1s 2ms/step - loss: 0.2514 - accuracy: 0.9872 - val_loss: 0.2533 - val_accuracy: 0.9779\n",
            "\n",
            "Epoch 00004: val_accuracy improved from 0.97674 to 0.97786, saving model to best_model_MLP_3_.h5\n",
            "Epoch 5/50\n",
            "255/255 [==============================] - 0s 2ms/step - loss: 0.2287 - accuracy: 0.9865 - val_loss: 0.2387 - val_accuracy: 0.9782\n",
            "\n",
            "Epoch 00005: val_accuracy improved from 0.97786 to 0.97824, saving model to best_model_MLP_3_.h5\n",
            "Epoch 6/50\n",
            "255/255 [==============================] - 0s 2ms/step - loss: 0.2061 - accuracy: 0.9878 - val_loss: 0.2168 - val_accuracy: 0.9782\n",
            "\n",
            "Epoch 00006: val_accuracy did not improve from 0.97824\n",
            "Epoch 7/50\n",
            "255/255 [==============================] - 1s 2ms/step - loss: 0.1846 - accuracy: 0.9883 - val_loss: 0.2093 - val_accuracy: 0.9782\n",
            "\n",
            "Epoch 00007: val_accuracy did not improve from 0.97824\n",
            "Epoch 8/50\n",
            "255/255 [==============================] - 1s 2ms/step - loss: 0.1751 - accuracy: 0.9855 - val_loss: 0.1841 - val_accuracy: 0.9786\n",
            "\n",
            "Epoch 00008: val_accuracy improved from 0.97824 to 0.97861, saving model to best_model_MLP_3_.h5\n",
            "Epoch 9/50\n",
            "255/255 [==============================] - 0s 2ms/step - loss: 0.1573 - accuracy: 0.9892 - val_loss: 0.1872 - val_accuracy: 0.9782\n",
            "\n",
            "Epoch 00009: val_accuracy did not improve from 0.97861\n",
            "Epoch 00009: early stopping\n"
          ],
          "name": "stdout"
        }
      ]
    },
    {
      "cell_type": "code",
      "metadata": {
        "colab": {
          "base_uri": "https://localhost:8080/",
          "height": 542
        },
        "id": "tgwaanyCfMA_",
        "outputId": "351dd4ec-1760-42c0-bcb6-bac2db209bd4"
      },
      "source": [
        "accuracy_MLP_3 = history_MLP_3.history['accuracy']\n",
        "val_accuracy_MLP_3 = history_MLP_3.history['val_accuracy']\n",
        "fig = go.Figure()\n",
        "fig.add_trace(go.Scatter(x=np.arange(len(accuracy_MLP_3)), y=accuracy_MLP_3,\n",
        "                    name='Training Accuracy Model MLP 3', line=dict(color='royalblue')))\n",
        "fig.add_trace(go.Scatter(x=np.arange(len(val_accuracy_MLP_3)), y=val_accuracy_MLP_3,\n",
        "                    name='Validation Accuracy Model MLP 3', line = dict(color='firebrick')))\n",
        "\n",
        "fig.update_layout(xaxis_title='Epochs',\n",
        "                  yaxis_title='Accuracy',\n",
        "                  title={'text': \"Training and Validation Accuracy for Model MLP 3\",\n",
        "                                                'x':0.5,\n",
        "                                                'xanchor': 'center',\n",
        "                                                'yanchor': 'top'})\n",
        "iplot(fig)"
      ],
      "execution_count": null,
      "outputs": [
        {
          "output_type": "display_data",
          "data": {
            "text/html": [
              "<html>\n",
              "<head><meta charset=\"utf-8\" /></head>\n",
              "<body>\n",
              "    <div>\n",
              "            <script src=\"https://cdnjs.cloudflare.com/ajax/libs/mathjax/2.7.5/MathJax.js?config=TeX-AMS-MML_SVG\"></script><script type=\"text/javascript\">if (window.MathJax) {MathJax.Hub.Config({SVG: {font: \"STIX-Web\"}});}</script>\n",
              "                <script type=\"text/javascript\">window.PlotlyConfig = {MathJaxConfig: 'local'};</script>\n",
              "        <script src=\"https://cdn.plot.ly/plotly-latest.min.js\"></script>    \n",
              "            <div id=\"a7e90fa6-47d9-4740-bc02-5852d321b694\" class=\"plotly-graph-div\" style=\"height:525px; width:100%;\"></div>\n",
              "            <script type=\"text/javascript\">\n",
              "                \n",
              "                    window.PLOTLYENV=window.PLOTLYENV || {};\n",
              "                    \n",
              "                if (document.getElementById(\"a7e90fa6-47d9-4740-bc02-5852d321b694\")) {\n",
              "                    Plotly.newPlot(\n",
              "                        'a7e90fa6-47d9-4740-bc02-5852d321b694',\n",
              "                        [{\"line\": {\"color\": \"royalblue\"}, \"name\": \"Training Accuracy Model MLP 3\", \"type\": \"scatter\", \"x\": [0, 1, 2, 3, 4, 5, 6, 7, 8], \"y\": [0.9341765642166138, 0.9738425612449646, 0.9839125871658325, 0.9863686561584473, 0.9869827032089233, 0.987228274345398, 0.9871054887771606, 0.98735111951828, 0.9874739050865173]}, {\"line\": {\"color\": \"firebrick\"}, \"name\": \"Validation Accuracy Model MLP 3\", \"type\": \"scatter\", \"x\": [0, 1, 2, 3, 4, 5, 6, 7, 8], \"y\": [0.9422138929367065, 0.9699812531471252, 0.9767354726791382, 0.9778611660003662, 0.9782363772392273, 0.9782363772392273, 0.9782363772392273, 0.9786116480827332, 0.9782363772392273]}],\n",
              "                        {\"template\": {\"data\": {\"bar\": [{\"error_x\": {\"color\": \"#2a3f5f\"}, \"error_y\": {\"color\": \"#2a3f5f\"}, \"marker\": {\"line\": {\"color\": \"#E5ECF6\", \"width\": 0.5}}, \"type\": \"bar\"}], \"barpolar\": [{\"marker\": {\"line\": {\"color\": \"#E5ECF6\", \"width\": 0.5}}, \"type\": \"barpolar\"}], \"carpet\": [{\"aaxis\": {\"endlinecolor\": \"#2a3f5f\", \"gridcolor\": \"white\", \"linecolor\": \"white\", \"minorgridcolor\": \"white\", \"startlinecolor\": \"#2a3f5f\"}, \"baxis\": {\"endlinecolor\": \"#2a3f5f\", \"gridcolor\": \"white\", \"linecolor\": \"white\", \"minorgridcolor\": \"white\", \"startlinecolor\": \"#2a3f5f\"}, \"type\": \"carpet\"}], \"choropleth\": [{\"colorbar\": {\"outlinewidth\": 0, \"ticks\": \"\"}, \"type\": \"choropleth\"}], \"contour\": [{\"colorbar\": {\"outlinewidth\": 0, \"ticks\": \"\"}, \"colorscale\": [[0.0, \"#0d0887\"], [0.1111111111111111, \"#46039f\"], [0.2222222222222222, \"#7201a8\"], [0.3333333333333333, \"#9c179e\"], [0.4444444444444444, \"#bd3786\"], [0.5555555555555556, \"#d8576b\"], [0.6666666666666666, \"#ed7953\"], [0.7777777777777778, \"#fb9f3a\"], [0.8888888888888888, \"#fdca26\"], [1.0, \"#f0f921\"]], \"type\": \"contour\"}], \"contourcarpet\": [{\"colorbar\": {\"outlinewidth\": 0, \"ticks\": \"\"}, \"type\": \"contourcarpet\"}], \"heatmap\": [{\"colorbar\": {\"outlinewidth\": 0, \"ticks\": \"\"}, \"colorscale\": [[0.0, \"#0d0887\"], [0.1111111111111111, \"#46039f\"], [0.2222222222222222, \"#7201a8\"], [0.3333333333333333, \"#9c179e\"], [0.4444444444444444, \"#bd3786\"], [0.5555555555555556, \"#d8576b\"], [0.6666666666666666, \"#ed7953\"], [0.7777777777777778, \"#fb9f3a\"], [0.8888888888888888, \"#fdca26\"], [1.0, \"#f0f921\"]], \"type\": \"heatmap\"}], \"heatmapgl\": [{\"colorbar\": {\"outlinewidth\": 0, \"ticks\": \"\"}, \"colorscale\": [[0.0, \"#0d0887\"], [0.1111111111111111, \"#46039f\"], [0.2222222222222222, \"#7201a8\"], [0.3333333333333333, \"#9c179e\"], [0.4444444444444444, \"#bd3786\"], [0.5555555555555556, \"#d8576b\"], [0.6666666666666666, \"#ed7953\"], [0.7777777777777778, \"#fb9f3a\"], [0.8888888888888888, \"#fdca26\"], [1.0, \"#f0f921\"]], \"type\": \"heatmapgl\"}], \"histogram\": [{\"marker\": {\"colorbar\": {\"outlinewidth\": 0, \"ticks\": \"\"}}, \"type\": \"histogram\"}], \"histogram2d\": [{\"colorbar\": {\"outlinewidth\": 0, \"ticks\": \"\"}, \"colorscale\": [[0.0, \"#0d0887\"], [0.1111111111111111, \"#46039f\"], [0.2222222222222222, \"#7201a8\"], [0.3333333333333333, \"#9c179e\"], [0.4444444444444444, \"#bd3786\"], [0.5555555555555556, \"#d8576b\"], [0.6666666666666666, \"#ed7953\"], [0.7777777777777778, \"#fb9f3a\"], [0.8888888888888888, \"#fdca26\"], [1.0, \"#f0f921\"]], \"type\": \"histogram2d\"}], \"histogram2dcontour\": [{\"colorbar\": {\"outlinewidth\": 0, \"ticks\": \"\"}, \"colorscale\": [[0.0, \"#0d0887\"], [0.1111111111111111, \"#46039f\"], [0.2222222222222222, \"#7201a8\"], [0.3333333333333333, \"#9c179e\"], [0.4444444444444444, \"#bd3786\"], [0.5555555555555556, \"#d8576b\"], [0.6666666666666666, \"#ed7953\"], [0.7777777777777778, \"#fb9f3a\"], [0.8888888888888888, \"#fdca26\"], [1.0, \"#f0f921\"]], \"type\": \"histogram2dcontour\"}], \"mesh3d\": [{\"colorbar\": {\"outlinewidth\": 0, \"ticks\": \"\"}, \"type\": \"mesh3d\"}], \"parcoords\": [{\"line\": {\"colorbar\": {\"outlinewidth\": 0, \"ticks\": \"\"}}, \"type\": \"parcoords\"}], \"pie\": [{\"automargin\": true, \"type\": \"pie\"}], \"scatter\": [{\"marker\": {\"colorbar\": {\"outlinewidth\": 0, \"ticks\": \"\"}}, \"type\": \"scatter\"}], \"scatter3d\": [{\"line\": {\"colorbar\": {\"outlinewidth\": 0, \"ticks\": \"\"}}, \"marker\": {\"colorbar\": {\"outlinewidth\": 0, \"ticks\": \"\"}}, \"type\": \"scatter3d\"}], \"scattercarpet\": [{\"marker\": {\"colorbar\": {\"outlinewidth\": 0, \"ticks\": \"\"}}, \"type\": \"scattercarpet\"}], \"scattergeo\": [{\"marker\": {\"colorbar\": {\"outlinewidth\": 0, \"ticks\": \"\"}}, \"type\": \"scattergeo\"}], \"scattergl\": [{\"marker\": {\"colorbar\": {\"outlinewidth\": 0, \"ticks\": \"\"}}, \"type\": \"scattergl\"}], \"scattermapbox\": [{\"marker\": {\"colorbar\": {\"outlinewidth\": 0, \"ticks\": \"\"}}, \"type\": \"scattermapbox\"}], \"scatterpolar\": [{\"marker\": {\"colorbar\": {\"outlinewidth\": 0, \"ticks\": \"\"}}, \"type\": \"scatterpolar\"}], \"scatterpolargl\": [{\"marker\": {\"colorbar\": {\"outlinewidth\": 0, \"ticks\": \"\"}}, \"type\": \"scatterpolargl\"}], \"scatterternary\": [{\"marker\": {\"colorbar\": {\"outlinewidth\": 0, \"ticks\": \"\"}}, \"type\": \"scatterternary\"}], \"surface\": [{\"colorbar\": {\"outlinewidth\": 0, \"ticks\": \"\"}, \"colorscale\": [[0.0, \"#0d0887\"], [0.1111111111111111, \"#46039f\"], [0.2222222222222222, \"#7201a8\"], [0.3333333333333333, \"#9c179e\"], [0.4444444444444444, \"#bd3786\"], [0.5555555555555556, \"#d8576b\"], [0.6666666666666666, \"#ed7953\"], [0.7777777777777778, \"#fb9f3a\"], [0.8888888888888888, \"#fdca26\"], [1.0, \"#f0f921\"]], \"type\": \"surface\"}], \"table\": [{\"cells\": {\"fill\": {\"color\": \"#EBF0F8\"}, \"line\": {\"color\": \"white\"}}, \"header\": {\"fill\": {\"color\": \"#C8D4E3\"}, \"line\": {\"color\": \"white\"}}, \"type\": \"table\"}]}, \"layout\": {\"annotationdefaults\": {\"arrowcolor\": \"#2a3f5f\", \"arrowhead\": 0, \"arrowwidth\": 1}, \"coloraxis\": {\"colorbar\": {\"outlinewidth\": 0, \"ticks\": \"\"}}, \"colorscale\": {\"diverging\": [[0, \"#8e0152\"], [0.1, \"#c51b7d\"], [0.2, \"#de77ae\"], [0.3, \"#f1b6da\"], [0.4, \"#fde0ef\"], [0.5, \"#f7f7f7\"], [0.6, \"#e6f5d0\"], [0.7, \"#b8e186\"], [0.8, \"#7fbc41\"], [0.9, \"#4d9221\"], [1, \"#276419\"]], \"sequential\": [[0.0, \"#0d0887\"], [0.1111111111111111, \"#46039f\"], [0.2222222222222222, \"#7201a8\"], [0.3333333333333333, \"#9c179e\"], [0.4444444444444444, \"#bd3786\"], [0.5555555555555556, \"#d8576b\"], [0.6666666666666666, \"#ed7953\"], [0.7777777777777778, \"#fb9f3a\"], [0.8888888888888888, \"#fdca26\"], [1.0, \"#f0f921\"]], \"sequentialminus\": [[0.0, \"#0d0887\"], [0.1111111111111111, \"#46039f\"], [0.2222222222222222, \"#7201a8\"], [0.3333333333333333, \"#9c179e\"], [0.4444444444444444, \"#bd3786\"], [0.5555555555555556, \"#d8576b\"], [0.6666666666666666, \"#ed7953\"], [0.7777777777777778, \"#fb9f3a\"], [0.8888888888888888, \"#fdca26\"], [1.0, \"#f0f921\"]]}, \"colorway\": [\"#636efa\", \"#EF553B\", \"#00cc96\", \"#ab63fa\", \"#FFA15A\", \"#19d3f3\", \"#FF6692\", \"#B6E880\", \"#FF97FF\", \"#FECB52\"], \"font\": {\"color\": \"#2a3f5f\"}, \"geo\": {\"bgcolor\": \"white\", \"lakecolor\": \"white\", \"landcolor\": \"#E5ECF6\", \"showlakes\": true, \"showland\": true, \"subunitcolor\": \"white\"}, \"hoverlabel\": {\"align\": \"left\"}, \"hovermode\": \"closest\", \"mapbox\": {\"style\": \"light\"}, \"paper_bgcolor\": \"white\", \"plot_bgcolor\": \"#E5ECF6\", \"polar\": {\"angularaxis\": {\"gridcolor\": \"white\", \"linecolor\": \"white\", \"ticks\": \"\"}, \"bgcolor\": \"#E5ECF6\", \"radialaxis\": {\"gridcolor\": \"white\", \"linecolor\": \"white\", \"ticks\": \"\"}}, \"scene\": {\"xaxis\": {\"backgroundcolor\": \"#E5ECF6\", \"gridcolor\": \"white\", \"gridwidth\": 2, \"linecolor\": \"white\", \"showbackground\": true, \"ticks\": \"\", \"zerolinecolor\": \"white\"}, \"yaxis\": {\"backgroundcolor\": \"#E5ECF6\", \"gridcolor\": \"white\", \"gridwidth\": 2, \"linecolor\": \"white\", \"showbackground\": true, \"ticks\": \"\", \"zerolinecolor\": \"white\"}, \"zaxis\": {\"backgroundcolor\": \"#E5ECF6\", \"gridcolor\": \"white\", \"gridwidth\": 2, \"linecolor\": \"white\", \"showbackground\": true, \"ticks\": \"\", \"zerolinecolor\": \"white\"}}, \"shapedefaults\": {\"line\": {\"color\": \"#2a3f5f\"}}, \"ternary\": {\"aaxis\": {\"gridcolor\": \"white\", \"linecolor\": \"white\", \"ticks\": \"\"}, \"baxis\": {\"gridcolor\": \"white\", \"linecolor\": \"white\", \"ticks\": \"\"}, \"bgcolor\": \"#E5ECF6\", \"caxis\": {\"gridcolor\": \"white\", \"linecolor\": \"white\", \"ticks\": \"\"}}, \"title\": {\"x\": 0.05}, \"xaxis\": {\"automargin\": true, \"gridcolor\": \"white\", \"linecolor\": \"white\", \"ticks\": \"\", \"title\": {\"standoff\": 15}, \"zerolinecolor\": \"white\", \"zerolinewidth\": 2}, \"yaxis\": {\"automargin\": true, \"gridcolor\": \"white\", \"linecolor\": \"white\", \"ticks\": \"\", \"title\": {\"standoff\": 15}, \"zerolinecolor\": \"white\", \"zerolinewidth\": 2}}}, \"title\": {\"text\": \"Training and Validation Accuracy for Model MLP 3\", \"x\": 0.5, \"xanchor\": \"center\", \"yanchor\": \"top\"}, \"xaxis\": {\"title\": {\"text\": \"Epochs\"}}, \"yaxis\": {\"title\": {\"text\": \"Accuracy\"}}},\n",
              "                        {\"responsive\": true}\n",
              "                    ).then(function(){\n",
              "                            \n",
              "var gd = document.getElementById('a7e90fa6-47d9-4740-bc02-5852d321b694');\n",
              "var x = new MutationObserver(function (mutations, observer) {{\n",
              "        var display = window.getComputedStyle(gd).display;\n",
              "        if (!display || display === 'none') {{\n",
              "            console.log([gd, 'removed!']);\n",
              "            Plotly.purge(gd);\n",
              "            observer.disconnect();\n",
              "        }}\n",
              "}});\n",
              "\n",
              "// Listen for the removal of the full notebook cells\n",
              "var notebookContainer = gd.closest('#notebook-container');\n",
              "if (notebookContainer) {{\n",
              "    x.observe(notebookContainer, {childList: true});\n",
              "}}\n",
              "\n",
              "// Listen for the clearing of the current output cell\n",
              "var outputEl = gd.closest('.output');\n",
              "if (outputEl) {{\n",
              "    x.observe(outputEl, {childList: true});\n",
              "}}\n",
              "\n",
              "                        })\n",
              "                };\n",
              "                \n",
              "            </script>\n",
              "        </div>\n",
              "</body>\n",
              "</html>"
            ]
          },
          "metadata": {
            "tags": []
          }
        }
      ]
    },
    {
      "cell_type": "markdown",
      "metadata": {
        "id": "DXwF7RZBbXoe"
      },
      "source": [
        "### Model MLP 04"
      ]
    },
    {
      "cell_type": "code",
      "metadata": {
        "id": "6M3-WGs5ZjTF"
      },
      "source": [
        "from keras import backend as K \n",
        "K.clear_session()"
      ],
      "execution_count": null,
      "outputs": []
    },
    {
      "cell_type": "code",
      "metadata": {
        "id": "uNAOrlwoZB8k"
      },
      "source": [
        "# Structures kahsc\n",
        "model_MLP_4 = Sequential()\n",
        "model_MLP_4.add(Dense(100, activation='sigmoid', input_dim=6, kernel_regularizer=l1(l=0.01)))\n",
        "model_MLP_4.add(Dense(64, activation='sigmoid', kernel_regularizer=l1(l=0.01)))\n",
        "model_MLP_4.add(Dense(32, activation='sigmoid', kernel_regularizer=l1(l=0.01)))\n",
        "model_MLP_4.add(Dense(16, activation='sigmoid', kernel_regularizer=l1(l=0.01)))\n",
        "model_MLP_4.add(Dense(1, activation='sigmoid'))\n",
        "model_MLP_4.compile(optimizer='adam',\n",
        "              loss='binary_crossentropy',\n",
        "              metrics=['accuracy'])"
      ],
      "execution_count": null,
      "outputs": []
    },
    {
      "cell_type": "code",
      "metadata": {
        "colab": {
          "base_uri": "https://localhost:8080/"
        },
        "id": "ZMLv4R_iZvRL",
        "outputId": "a838e755-10b2-4bfa-8bb1-c1fa14576780"
      },
      "source": [
        "es = EarlyStopping(monitor='val_loss', mode='min', verbose=1)\n",
        "mc = ModelCheckpoint('best_model_MLP_4_.h5', monitor='val_accuracy', mode='auto', verbose=1, save_best_only=True)\n",
        "#\n",
        "history_MLP_4 = model_MLP_4.fit(X_train, y_train, epochs=30, batch_size=12, validation_data=(X_validation, y_validation), callbacks=[es, mc])"
      ],
      "execution_count": null,
      "outputs": [
        {
          "output_type": "stream",
          "text": [
            "Epoch 1/30\n",
            "679/679 [==============================] - 2s 2ms/step - loss: 3.9290 - accuracy: 0.7766 - val_loss: 0.7438 - val_accuracy: 0.6353\n",
            "\n",
            "Epoch 00001: val_accuracy improved from -inf to 0.63527, saving model to best_model_MLP_4_.h5\n",
            "Epoch 2/30\n",
            "679/679 [==============================] - 1s 2ms/step - loss: 0.5237 - accuracy: 0.7918 - val_loss: 0.7281 - val_accuracy: 0.6353\n",
            "\n",
            "Epoch 00002: val_accuracy did not improve from 0.63527\n",
            "Epoch 3/30\n",
            "679/679 [==============================] - 1s 2ms/step - loss: 0.5240 - accuracy: 0.7915 - val_loss: 0.7213 - val_accuracy: 0.6353\n",
            "\n",
            "Epoch 00003: val_accuracy did not improve from 0.63527\n",
            "Epoch 4/30\n",
            "679/679 [==============================] - 1s 2ms/step - loss: 0.5229 - accuracy: 0.7927 - val_loss: 0.7154 - val_accuracy: 0.6353\n",
            "\n",
            "Epoch 00004: val_accuracy did not improve from 0.63527\n",
            "Epoch 5/30\n",
            "679/679 [==============================] - 1s 2ms/step - loss: 0.5387 - accuracy: 0.7805 - val_loss: 0.7272 - val_accuracy: 0.6353\n",
            "\n",
            "Epoch 00005: val_accuracy did not improve from 0.63527\n",
            "Epoch 00005: early stopping\n"
          ],
          "name": "stdout"
        }
      ]
    },
    {
      "cell_type": "code",
      "metadata": {
        "colab": {
          "base_uri": "https://localhost:8080/",
          "height": 542
        },
        "id": "FwLhA2pZfdeb",
        "outputId": "aaf190fc-83d6-42d0-c306-aaa9a667aca8"
      },
      "source": [
        "accuracy_MLP_4 = history_MLP_4.history['accuracy']\n",
        "val_accuracy_MLP_4 = history_MLP_4.history['val_accuracy']\n",
        "fig = go.Figure()\n",
        "fig.add_trace(go.Scatter(x=np.arange(len(accuracy_MLP_4)), y=accuracy_MLP_4,\n",
        "                    name='Training Accuracy Model MLP 4', line=dict(color='royalblue')))\n",
        "fig.add_trace(go.Scatter(x=np.arange(len(val_accuracy_MLP_4)), y=val_accuracy_MLP_4,\n",
        "                    name='Validation Accuracy Model MLP 4', line = dict(color='firebrick')))\n",
        "\n",
        "fig.update_layout(xaxis_title='Epochs',\n",
        "                  yaxis_title='Accuracy',\n",
        "                  title={'text': \"Training and Validation Accuracy for Model MLP 4\",\n",
        "                                                'x':0.5,\n",
        "                                                'xanchor': 'center',\n",
        "                                                'yanchor': 'top'})\n",
        "iplot(fig)"
      ],
      "execution_count": null,
      "outputs": [
        {
          "output_type": "display_data",
          "data": {
            "text/html": [
              "<html>\n",
              "<head><meta charset=\"utf-8\" /></head>\n",
              "<body>\n",
              "    <div>\n",
              "            <script src=\"https://cdnjs.cloudflare.com/ajax/libs/mathjax/2.7.5/MathJax.js?config=TeX-AMS-MML_SVG\"></script><script type=\"text/javascript\">if (window.MathJax) {MathJax.Hub.Config({SVG: {font: \"STIX-Web\"}});}</script>\n",
              "                <script type=\"text/javascript\">window.PlotlyConfig = {MathJaxConfig: 'local'};</script>\n",
              "        <script src=\"https://cdn.plot.ly/plotly-latest.min.js\"></script>    \n",
              "            <div id=\"600c9976-c296-4967-9b08-ce23a484cb74\" class=\"plotly-graph-div\" style=\"height:525px; width:100%;\"></div>\n",
              "            <script type=\"text/javascript\">\n",
              "                \n",
              "                    window.PLOTLYENV=window.PLOTLYENV || {};\n",
              "                    \n",
              "                if (document.getElementById(\"600c9976-c296-4967-9b08-ce23a484cb74\")) {\n",
              "                    Plotly.newPlot(\n",
              "                        '600c9976-c296-4967-9b08-ce23a484cb74',\n",
              "                        [{\"line\": {\"color\": \"royalblue\"}, \"name\": \"Training Accuracy Model MLP 4\", \"type\": \"scatter\", \"x\": [0, 1, 2, 3, 4], \"y\": [0.787670373916626, 0.787670373916626, 0.787670373916626, 0.787670373916626, 0.787670373916626]}, {\"line\": {\"color\": \"firebrick\"}, \"name\": \"Validation Accuracy Model MLP 4\", \"type\": \"scatter\", \"x\": [0, 1, 2, 3, 4], \"y\": [0.6352720260620117, 0.6352720260620117, 0.6352720260620117, 0.6352720260620117, 0.6352720260620117]}],\n",
              "                        {\"template\": {\"data\": {\"bar\": [{\"error_x\": {\"color\": \"#2a3f5f\"}, \"error_y\": {\"color\": \"#2a3f5f\"}, \"marker\": {\"line\": {\"color\": \"#E5ECF6\", \"width\": 0.5}}, \"type\": \"bar\"}], \"barpolar\": [{\"marker\": {\"line\": {\"color\": \"#E5ECF6\", \"width\": 0.5}}, \"type\": \"barpolar\"}], \"carpet\": [{\"aaxis\": {\"endlinecolor\": \"#2a3f5f\", \"gridcolor\": \"white\", \"linecolor\": \"white\", \"minorgridcolor\": \"white\", \"startlinecolor\": \"#2a3f5f\"}, \"baxis\": {\"endlinecolor\": \"#2a3f5f\", \"gridcolor\": \"white\", \"linecolor\": \"white\", \"minorgridcolor\": \"white\", \"startlinecolor\": \"#2a3f5f\"}, \"type\": \"carpet\"}], \"choropleth\": [{\"colorbar\": {\"outlinewidth\": 0, \"ticks\": \"\"}, \"type\": \"choropleth\"}], \"contour\": [{\"colorbar\": {\"outlinewidth\": 0, \"ticks\": \"\"}, \"colorscale\": [[0.0, \"#0d0887\"], [0.1111111111111111, \"#46039f\"], [0.2222222222222222, \"#7201a8\"], [0.3333333333333333, \"#9c179e\"], [0.4444444444444444, \"#bd3786\"], [0.5555555555555556, \"#d8576b\"], [0.6666666666666666, \"#ed7953\"], [0.7777777777777778, \"#fb9f3a\"], [0.8888888888888888, \"#fdca26\"], [1.0, \"#f0f921\"]], \"type\": \"contour\"}], \"contourcarpet\": [{\"colorbar\": {\"outlinewidth\": 0, \"ticks\": \"\"}, \"type\": \"contourcarpet\"}], \"heatmap\": [{\"colorbar\": {\"outlinewidth\": 0, \"ticks\": \"\"}, \"colorscale\": [[0.0, \"#0d0887\"], [0.1111111111111111, \"#46039f\"], [0.2222222222222222, \"#7201a8\"], [0.3333333333333333, \"#9c179e\"], [0.4444444444444444, \"#bd3786\"], [0.5555555555555556, \"#d8576b\"], [0.6666666666666666, \"#ed7953\"], [0.7777777777777778, \"#fb9f3a\"], [0.8888888888888888, \"#fdca26\"], [1.0, \"#f0f921\"]], \"type\": \"heatmap\"}], \"heatmapgl\": [{\"colorbar\": {\"outlinewidth\": 0, \"ticks\": \"\"}, \"colorscale\": [[0.0, \"#0d0887\"], [0.1111111111111111, \"#46039f\"], [0.2222222222222222, \"#7201a8\"], [0.3333333333333333, \"#9c179e\"], [0.4444444444444444, \"#bd3786\"], [0.5555555555555556, \"#d8576b\"], [0.6666666666666666, \"#ed7953\"], [0.7777777777777778, \"#fb9f3a\"], [0.8888888888888888, \"#fdca26\"], [1.0, \"#f0f921\"]], \"type\": \"heatmapgl\"}], \"histogram\": [{\"marker\": {\"colorbar\": {\"outlinewidth\": 0, \"ticks\": \"\"}}, \"type\": \"histogram\"}], \"histogram2d\": [{\"colorbar\": {\"outlinewidth\": 0, \"ticks\": \"\"}, \"colorscale\": [[0.0, \"#0d0887\"], [0.1111111111111111, \"#46039f\"], [0.2222222222222222, \"#7201a8\"], [0.3333333333333333, \"#9c179e\"], [0.4444444444444444, \"#bd3786\"], [0.5555555555555556, \"#d8576b\"], [0.6666666666666666, \"#ed7953\"], [0.7777777777777778, \"#fb9f3a\"], [0.8888888888888888, \"#fdca26\"], [1.0, \"#f0f921\"]], \"type\": \"histogram2d\"}], \"histogram2dcontour\": [{\"colorbar\": {\"outlinewidth\": 0, \"ticks\": \"\"}, \"colorscale\": [[0.0, \"#0d0887\"], [0.1111111111111111, \"#46039f\"], [0.2222222222222222, \"#7201a8\"], [0.3333333333333333, \"#9c179e\"], [0.4444444444444444, \"#bd3786\"], [0.5555555555555556, \"#d8576b\"], [0.6666666666666666, \"#ed7953\"], [0.7777777777777778, \"#fb9f3a\"], [0.8888888888888888, \"#fdca26\"], [1.0, \"#f0f921\"]], \"type\": \"histogram2dcontour\"}], \"mesh3d\": [{\"colorbar\": {\"outlinewidth\": 0, \"ticks\": \"\"}, \"type\": \"mesh3d\"}], \"parcoords\": [{\"line\": {\"colorbar\": {\"outlinewidth\": 0, \"ticks\": \"\"}}, \"type\": \"parcoords\"}], \"pie\": [{\"automargin\": true, \"type\": \"pie\"}], \"scatter\": [{\"marker\": {\"colorbar\": {\"outlinewidth\": 0, \"ticks\": \"\"}}, \"type\": \"scatter\"}], \"scatter3d\": [{\"line\": {\"colorbar\": {\"outlinewidth\": 0, \"ticks\": \"\"}}, \"marker\": {\"colorbar\": {\"outlinewidth\": 0, \"ticks\": \"\"}}, \"type\": \"scatter3d\"}], \"scattercarpet\": [{\"marker\": {\"colorbar\": {\"outlinewidth\": 0, \"ticks\": \"\"}}, \"type\": \"scattercarpet\"}], \"scattergeo\": [{\"marker\": {\"colorbar\": {\"outlinewidth\": 0, \"ticks\": \"\"}}, \"type\": \"scattergeo\"}], \"scattergl\": [{\"marker\": {\"colorbar\": {\"outlinewidth\": 0, \"ticks\": \"\"}}, \"type\": \"scattergl\"}], \"scattermapbox\": [{\"marker\": {\"colorbar\": {\"outlinewidth\": 0, \"ticks\": \"\"}}, \"type\": \"scattermapbox\"}], \"scatterpolar\": [{\"marker\": {\"colorbar\": {\"outlinewidth\": 0, \"ticks\": \"\"}}, \"type\": \"scatterpolar\"}], \"scatterpolargl\": [{\"marker\": {\"colorbar\": {\"outlinewidth\": 0, \"ticks\": \"\"}}, \"type\": \"scatterpolargl\"}], \"scatterternary\": [{\"marker\": {\"colorbar\": {\"outlinewidth\": 0, \"ticks\": \"\"}}, \"type\": \"scatterternary\"}], \"surface\": [{\"colorbar\": {\"outlinewidth\": 0, \"ticks\": \"\"}, \"colorscale\": [[0.0, \"#0d0887\"], [0.1111111111111111, \"#46039f\"], [0.2222222222222222, \"#7201a8\"], [0.3333333333333333, \"#9c179e\"], [0.4444444444444444, \"#bd3786\"], [0.5555555555555556, \"#d8576b\"], [0.6666666666666666, \"#ed7953\"], [0.7777777777777778, \"#fb9f3a\"], [0.8888888888888888, \"#fdca26\"], [1.0, \"#f0f921\"]], \"type\": \"surface\"}], \"table\": [{\"cells\": {\"fill\": {\"color\": \"#EBF0F8\"}, \"line\": {\"color\": \"white\"}}, \"header\": {\"fill\": {\"color\": \"#C8D4E3\"}, \"line\": {\"color\": \"white\"}}, \"type\": \"table\"}]}, \"layout\": {\"annotationdefaults\": {\"arrowcolor\": \"#2a3f5f\", \"arrowhead\": 0, \"arrowwidth\": 1}, \"coloraxis\": {\"colorbar\": {\"outlinewidth\": 0, \"ticks\": \"\"}}, \"colorscale\": {\"diverging\": [[0, \"#8e0152\"], [0.1, \"#c51b7d\"], [0.2, \"#de77ae\"], [0.3, \"#f1b6da\"], [0.4, \"#fde0ef\"], [0.5, \"#f7f7f7\"], [0.6, \"#e6f5d0\"], [0.7, \"#b8e186\"], [0.8, \"#7fbc41\"], [0.9, \"#4d9221\"], [1, \"#276419\"]], \"sequential\": [[0.0, \"#0d0887\"], [0.1111111111111111, \"#46039f\"], [0.2222222222222222, \"#7201a8\"], [0.3333333333333333, \"#9c179e\"], [0.4444444444444444, \"#bd3786\"], [0.5555555555555556, \"#d8576b\"], [0.6666666666666666, \"#ed7953\"], [0.7777777777777778, \"#fb9f3a\"], [0.8888888888888888, \"#fdca26\"], [1.0, \"#f0f921\"]], \"sequentialminus\": [[0.0, \"#0d0887\"], [0.1111111111111111, \"#46039f\"], [0.2222222222222222, \"#7201a8\"], [0.3333333333333333, \"#9c179e\"], [0.4444444444444444, \"#bd3786\"], [0.5555555555555556, \"#d8576b\"], [0.6666666666666666, \"#ed7953\"], [0.7777777777777778, \"#fb9f3a\"], [0.8888888888888888, \"#fdca26\"], [1.0, \"#f0f921\"]]}, \"colorway\": [\"#636efa\", \"#EF553B\", \"#00cc96\", \"#ab63fa\", \"#FFA15A\", \"#19d3f3\", \"#FF6692\", \"#B6E880\", \"#FF97FF\", \"#FECB52\"], \"font\": {\"color\": \"#2a3f5f\"}, \"geo\": {\"bgcolor\": \"white\", \"lakecolor\": \"white\", \"landcolor\": \"#E5ECF6\", \"showlakes\": true, \"showland\": true, \"subunitcolor\": \"white\"}, \"hoverlabel\": {\"align\": \"left\"}, \"hovermode\": \"closest\", \"mapbox\": {\"style\": \"light\"}, \"paper_bgcolor\": \"white\", \"plot_bgcolor\": \"#E5ECF6\", \"polar\": {\"angularaxis\": {\"gridcolor\": \"white\", \"linecolor\": \"white\", \"ticks\": \"\"}, \"bgcolor\": \"#E5ECF6\", \"radialaxis\": {\"gridcolor\": \"white\", \"linecolor\": \"white\", \"ticks\": \"\"}}, \"scene\": {\"xaxis\": {\"backgroundcolor\": \"#E5ECF6\", \"gridcolor\": \"white\", \"gridwidth\": 2, \"linecolor\": \"white\", \"showbackground\": true, \"ticks\": \"\", \"zerolinecolor\": \"white\"}, \"yaxis\": {\"backgroundcolor\": \"#E5ECF6\", \"gridcolor\": \"white\", \"gridwidth\": 2, \"linecolor\": \"white\", \"showbackground\": true, \"ticks\": \"\", \"zerolinecolor\": \"white\"}, \"zaxis\": {\"backgroundcolor\": \"#E5ECF6\", \"gridcolor\": \"white\", \"gridwidth\": 2, \"linecolor\": \"white\", \"showbackground\": true, \"ticks\": \"\", \"zerolinecolor\": \"white\"}}, \"shapedefaults\": {\"line\": {\"color\": \"#2a3f5f\"}}, \"ternary\": {\"aaxis\": {\"gridcolor\": \"white\", \"linecolor\": \"white\", \"ticks\": \"\"}, \"baxis\": {\"gridcolor\": \"white\", \"linecolor\": \"white\", \"ticks\": \"\"}, \"bgcolor\": \"#E5ECF6\", \"caxis\": {\"gridcolor\": \"white\", \"linecolor\": \"white\", \"ticks\": \"\"}}, \"title\": {\"x\": 0.05}, \"xaxis\": {\"automargin\": true, \"gridcolor\": \"white\", \"linecolor\": \"white\", \"ticks\": \"\", \"title\": {\"standoff\": 15}, \"zerolinecolor\": \"white\", \"zerolinewidth\": 2}, \"yaxis\": {\"automargin\": true, \"gridcolor\": \"white\", \"linecolor\": \"white\", \"ticks\": \"\", \"title\": {\"standoff\": 15}, \"zerolinecolor\": \"white\", \"zerolinewidth\": 2}}}, \"title\": {\"text\": \"Training and Validation Accuracy for Model MLP 4\", \"x\": 0.5, \"xanchor\": \"center\", \"yanchor\": \"top\"}, \"xaxis\": {\"title\": {\"text\": \"Epochs\"}}, \"yaxis\": {\"title\": {\"text\": \"Accuracy\"}}},\n",
              "                        {\"responsive\": true}\n",
              "                    ).then(function(){\n",
              "                            \n",
              "var gd = document.getElementById('600c9976-c296-4967-9b08-ce23a484cb74');\n",
              "var x = new MutationObserver(function (mutations, observer) {{\n",
              "        var display = window.getComputedStyle(gd).display;\n",
              "        if (!display || display === 'none') {{\n",
              "            console.log([gd, 'removed!']);\n",
              "            Plotly.purge(gd);\n",
              "            observer.disconnect();\n",
              "        }}\n",
              "}});\n",
              "\n",
              "// Listen for the removal of the full notebook cells\n",
              "var notebookContainer = gd.closest('#notebook-container');\n",
              "if (notebookContainer) {{\n",
              "    x.observe(notebookContainer, {childList: true});\n",
              "}}\n",
              "\n",
              "// Listen for the clearing of the current output cell\n",
              "var outputEl = gd.closest('.output');\n",
              "if (outputEl) {{\n",
              "    x.observe(outputEl, {childList: true});\n",
              "}}\n",
              "\n",
              "                        })\n",
              "                };\n",
              "                \n",
              "            </script>\n",
              "        </div>\n",
              "</body>\n",
              "</html>"
            ]
          },
          "metadata": {
            "tags": []
          }
        }
      ]
    },
    {
      "cell_type": "code",
      "metadata": {
        "colab": {
          "base_uri": "https://localhost:8080/",
          "height": 542
        },
        "id": "d2lyOkD0Z9md",
        "outputId": "6171fad3-881b-4126-9f92-1d14b0705d16"
      },
      "source": [
        "loss1 = history_MLP_1.history['loss']\n",
        "val_loss1 = history_MLP_1.history['val_loss']\n",
        "loss2 = history_MLP_2.history['loss']\n",
        "val_loss2 = history_MLP_2.history['val_loss']\n",
        "loss3 = history_MLP_3.history['loss']\n",
        "val_loss3 = history_MLP_3.history['val_loss']\n",
        "loss4 = history_MLP_4.history['loss']\n",
        "val_loss4 = history_MLP_4.history['val_loss']\n",
        "\n",
        "\n",
        "fig = go.Figure()\n",
        "fig.add_trace(go.Scatter(x=np.arange(len(loss1)), y=loss1,\n",
        "                    name='Training Loss Model MLP 1', line=dict(color='royalblue')))\n",
        "fig.add_trace(go.Scatter(x=np.arange(len(val_loss1)), y=val_loss1,\n",
        "                    name='Validation Loss Model MLP 1', line = dict(color='firebrick')))\n",
        "\n",
        "fig.add_trace(go.Scatter(x=np.arange(len(loss2)), y=loss2,\n",
        "                    name='Training Loss Model MLP 2', line=dict(color='royalblue', dash='dash')))\n",
        "fig.add_trace(go.Scatter(x=np.arange(len(val_loss2)), y=val_loss2,\n",
        "                    name='Validation Loss Model MLP 2', line = dict(color='firebrick', dash='dash')))\n",
        "\n",
        "fig.add_trace(go.Scatter(x=np.arange(len(loss3)), y=loss3,\n",
        "                    name='Training Loss Model MLP 3', line=dict(color='royalblue', dash='dot')))\n",
        "fig.add_trace(go.Scatter(x=np.arange(len(val_loss3)), y=val_loss3,\n",
        "                    name='Validation Loss Model MLP 3', line = dict(color='firebrick', dash='dot')))\n",
        "\n",
        "fig.add_trace(go.Scatter(x=np.arange(len(loss4)), y=loss4,\n",
        "                    name='Training Loss Model MLP 4', line=dict(color='royalblue', dash='longdashdot')))\n",
        "fig.add_trace(go.Scatter(x=np.arange(len(val_loss4)), y=val_loss4,\n",
        "                    name='Validation Loss Model MLP 4', line = dict(color='firebrick', dash='longdashdot')))\n",
        "\n",
        "\n",
        "fig.update_layout(xaxis_title='Epochs',\n",
        "                  yaxis_title='Loss',\n",
        "                  title={'text': \"Training and Validation Losses for Different MLP Models\",\n",
        "                                                'x':0.5,\n",
        "                                                'xanchor': 'center',\n",
        "                                                'yanchor': 'top'})\n",
        "iplot(fig)"
      ],
      "execution_count": null,
      "outputs": [
        {
          "output_type": "display_data",
          "data": {
            "text/html": [
              "<html>\n",
              "<head><meta charset=\"utf-8\" /></head>\n",
              "<body>\n",
              "    <div>\n",
              "            <script src=\"https://cdnjs.cloudflare.com/ajax/libs/mathjax/2.7.5/MathJax.js?config=TeX-AMS-MML_SVG\"></script><script type=\"text/javascript\">if (window.MathJax) {MathJax.Hub.Config({SVG: {font: \"STIX-Web\"}});}</script>\n",
              "                <script type=\"text/javascript\">window.PlotlyConfig = {MathJaxConfig: 'local'};</script>\n",
              "        <script src=\"https://cdn.plot.ly/plotly-latest.min.js\"></script>    \n",
              "            <div id=\"c3d2a6fd-be7e-44ad-a695-7b947d575296\" class=\"plotly-graph-div\" style=\"height:525px; width:100%;\"></div>\n",
              "            <script type=\"text/javascript\">\n",
              "                \n",
              "                    window.PLOTLYENV=window.PLOTLYENV || {};\n",
              "                    \n",
              "                if (document.getElementById(\"c3d2a6fd-be7e-44ad-a695-7b947d575296\")) {\n",
              "                    Plotly.newPlot(\n",
              "                        'c3d2a6fd-be7e-44ad-a695-7b947d575296',\n",
              "                        [{\"line\": {\"color\": \"royalblue\"}, \"name\": \"Training Loss Model MLP 1\", \"type\": \"scatter\", \"x\": [0, 1, 2, 3, 4, 5, 6, 7, 8, 9, 10, 11, 12, 13, 14, 15, 16, 17, 18, 19, 20, 21, 22, 23, 24, 25, 26, 27, 28, 29, 30, 31, 32, 33, 34, 35, 36, 37, 38, 39, 40, 41, 42, 43, 44, 45, 46, 47, 48, 49], \"y\": [0.3242320716381073, 0.083712637424469, 0.06533017009496689, 0.06031285971403122, 0.0578385591506958, 0.05648473650217056, 0.055272359400987625, 0.054422128945589066, 0.05321619659662247, 0.052864689379930496, 0.051335014402866364, 0.05120164901018143, 0.05080965906381607, 0.04958299174904823, 0.04970216006040573, 0.04914666339755058, 0.04843563959002495, 0.048066865652799606, 0.047209467738866806, 0.04607804864645004, 0.045619819313287735, 0.04531491920351982, 0.044309742748737335, 0.04374039173126221, 0.04312324896454811, 0.0428813099861145, 0.04262882471084595, 0.04202514886856079, 0.0418211929500103, 0.04097538813948631, 0.040999915450811386, 0.039932459592819214, 0.03983732685446739, 0.03931919112801552, 0.038986511528491974, 0.038409262895584106, 0.03743743523955345, 0.03681766241788864, 0.03695804625749588, 0.03644568473100662, 0.03569503501057625, 0.03564506024122238, 0.03513447567820549, 0.03471043333411217, 0.035165123641490936, 0.033601436764001846, 0.034075286239385605, 0.033985573798418045, 0.03311428055167198, 0.0329565703868866]}, {\"line\": {\"color\": \"firebrick\"}, \"name\": \"Validation Loss Model MLP 1\", \"type\": \"scatter\", \"x\": [0, 1, 2, 3, 4, 5, 6, 7, 8, 9, 10, 11, 12, 13, 14, 15, 16, 17, 18, 19, 20, 21, 22, 23, 24, 25, 26, 27, 28, 29, 30, 31, 32, 33, 34, 35, 36, 37, 38, 39, 40, 41, 42, 43, 44, 45, 46, 47, 48, 49], \"y\": [0.13002239167690277, 0.09608787298202515, 0.08562848716974258, 0.08292544633150101, 0.08239367604255676, 0.07915684580802917, 0.0782574713230133, 0.07942595332860947, 0.07828395813703537, 0.07724814862012863, 0.0774231031537056, 0.07930975407361984, 0.07656019926071167, 0.07651615887880325, 0.07853791862726212, 0.0772629976272583, 0.0761842429637909, 0.12948954105377197, 0.08091455698013306, 0.07568321377038956, 0.0759880393743515, 0.0789414718747139, 0.07884567975997925, 0.07862541079521179, 0.09418413043022156, 0.11875315755605698, 0.08331800997257233, 0.08800739794969559, 0.07985672354698181, 0.08572092652320862, 0.09278146177530289, 0.08175027370452881, 0.12205052375793457, 0.08192279934883118, 0.08575624972581863, 0.08524154871702194, 0.09918922930955887, 0.10470730811357498, 0.10700076818466187, 0.10513146221637726, 0.08634442836046219, 0.09479445964097977, 0.13584335148334503, 0.1062653437256813, 0.13286620378494263, 0.12041809409856796, 0.192006915807724, 0.12401213496923447, 0.18822136521339417, 0.1671023815870285]}, {\"line\": {\"color\": \"royalblue\", \"dash\": \"dash\"}, \"name\": \"Training Loss Model MLP 2\", \"type\": \"scatter\", \"x\": [0, 1, 2], \"y\": [0.1720651090145111, 0.12576957046985626, 0.10240373015403748]}, {\"line\": {\"color\": \"firebrick\", \"dash\": \"dash\"}, \"name\": \"Validation Loss Model MLP 2\", \"type\": \"scatter\", \"x\": [0, 1, 2], \"y\": [0.1861211210489273, 0.12072084844112396, 0.13496573269367218]}, {\"line\": {\"color\": \"royalblue\", \"dash\": \"dot\"}, \"name\": \"Training Loss Model MLP 3\", \"type\": \"scatter\", \"x\": [0, 1, 2, 3, 4, 5, 6, 7, 8], \"y\": [3.8768885135650635, 0.40119969844818115, 0.2818654775619507, 0.24400919675827026, 0.22163595259189606, 0.20301483571529388, 0.1848773956298828, 0.1691315621137619, 0.16204135119915009]}, {\"line\": {\"color\": \"firebrick\", \"dash\": \"dot\"}, \"name\": \"Validation Loss Model MLP 3\", \"type\": \"scatter\", \"x\": [0, 1, 2, 3, 4, 5, 6, 7, 8], \"y\": [0.6717620491981506, 0.32902491092681885, 0.2806228995323181, 0.2533353865146637, 0.238682359457016, 0.21681533753871918, 0.20931440591812134, 0.18409529328346252, 0.18718336522579193]}, {\"line\": {\"color\": \"royalblue\", \"dash\": \"longdashdot\"}, \"name\": \"Training Loss Model MLP 4\", \"type\": \"scatter\", \"x\": [0, 1, 2, 3, 4], \"y\": [1.7094957828521729, 0.5296169519424438, 0.529197633266449, 0.5295770168304443, 0.5294243693351746]}, {\"line\": {\"color\": \"firebrick\", \"dash\": \"longdashdot\"}, \"name\": \"Validation Loss Model MLP 4\", \"type\": \"scatter\", \"x\": [0, 1, 2, 3, 4], \"y\": [0.743809163570404, 0.7280684113502502, 0.7212530970573425, 0.7154443264007568, 0.7271612882614136]}],\n",
              "                        {\"template\": {\"data\": {\"bar\": [{\"error_x\": {\"color\": \"#2a3f5f\"}, \"error_y\": {\"color\": \"#2a3f5f\"}, \"marker\": {\"line\": {\"color\": \"#E5ECF6\", \"width\": 0.5}}, \"type\": \"bar\"}], \"barpolar\": [{\"marker\": {\"line\": {\"color\": \"#E5ECF6\", \"width\": 0.5}}, \"type\": \"barpolar\"}], \"carpet\": [{\"aaxis\": {\"endlinecolor\": \"#2a3f5f\", \"gridcolor\": \"white\", \"linecolor\": \"white\", \"minorgridcolor\": \"white\", \"startlinecolor\": \"#2a3f5f\"}, \"baxis\": {\"endlinecolor\": \"#2a3f5f\", \"gridcolor\": \"white\", \"linecolor\": \"white\", \"minorgridcolor\": \"white\", \"startlinecolor\": \"#2a3f5f\"}, \"type\": \"carpet\"}], \"choropleth\": [{\"colorbar\": {\"outlinewidth\": 0, \"ticks\": \"\"}, \"type\": \"choropleth\"}], \"contour\": [{\"colorbar\": {\"outlinewidth\": 0, \"ticks\": \"\"}, \"colorscale\": [[0.0, \"#0d0887\"], [0.1111111111111111, \"#46039f\"], [0.2222222222222222, \"#7201a8\"], [0.3333333333333333, \"#9c179e\"], [0.4444444444444444, \"#bd3786\"], [0.5555555555555556, \"#d8576b\"], [0.6666666666666666, \"#ed7953\"], [0.7777777777777778, \"#fb9f3a\"], [0.8888888888888888, \"#fdca26\"], [1.0, \"#f0f921\"]], \"type\": \"contour\"}], \"contourcarpet\": [{\"colorbar\": {\"outlinewidth\": 0, \"ticks\": \"\"}, \"type\": \"contourcarpet\"}], \"heatmap\": [{\"colorbar\": {\"outlinewidth\": 0, \"ticks\": \"\"}, \"colorscale\": [[0.0, \"#0d0887\"], [0.1111111111111111, \"#46039f\"], [0.2222222222222222, \"#7201a8\"], [0.3333333333333333, \"#9c179e\"], [0.4444444444444444, \"#bd3786\"], [0.5555555555555556, \"#d8576b\"], [0.6666666666666666, \"#ed7953\"], [0.7777777777777778, \"#fb9f3a\"], [0.8888888888888888, \"#fdca26\"], [1.0, \"#f0f921\"]], \"type\": \"heatmap\"}], \"heatmapgl\": [{\"colorbar\": {\"outlinewidth\": 0, \"ticks\": \"\"}, \"colorscale\": [[0.0, \"#0d0887\"], [0.1111111111111111, \"#46039f\"], [0.2222222222222222, \"#7201a8\"], [0.3333333333333333, \"#9c179e\"], [0.4444444444444444, \"#bd3786\"], [0.5555555555555556, \"#d8576b\"], [0.6666666666666666, \"#ed7953\"], [0.7777777777777778, \"#fb9f3a\"], [0.8888888888888888, \"#fdca26\"], [1.0, \"#f0f921\"]], \"type\": \"heatmapgl\"}], \"histogram\": [{\"marker\": {\"colorbar\": {\"outlinewidth\": 0, \"ticks\": \"\"}}, \"type\": \"histogram\"}], \"histogram2d\": [{\"colorbar\": {\"outlinewidth\": 0, \"ticks\": \"\"}, \"colorscale\": [[0.0, \"#0d0887\"], [0.1111111111111111, \"#46039f\"], [0.2222222222222222, \"#7201a8\"], [0.3333333333333333, \"#9c179e\"], [0.4444444444444444, \"#bd3786\"], [0.5555555555555556, \"#d8576b\"], [0.6666666666666666, \"#ed7953\"], [0.7777777777777778, \"#fb9f3a\"], [0.8888888888888888, \"#fdca26\"], [1.0, \"#f0f921\"]], \"type\": \"histogram2d\"}], \"histogram2dcontour\": [{\"colorbar\": {\"outlinewidth\": 0, \"ticks\": \"\"}, \"colorscale\": [[0.0, \"#0d0887\"], [0.1111111111111111, \"#46039f\"], [0.2222222222222222, \"#7201a8\"], [0.3333333333333333, \"#9c179e\"], [0.4444444444444444, \"#bd3786\"], [0.5555555555555556, \"#d8576b\"], [0.6666666666666666, \"#ed7953\"], [0.7777777777777778, \"#fb9f3a\"], [0.8888888888888888, \"#fdca26\"], [1.0, \"#f0f921\"]], \"type\": \"histogram2dcontour\"}], \"mesh3d\": [{\"colorbar\": {\"outlinewidth\": 0, \"ticks\": \"\"}, \"type\": \"mesh3d\"}], \"parcoords\": [{\"line\": {\"colorbar\": {\"outlinewidth\": 0, \"ticks\": \"\"}}, \"type\": \"parcoords\"}], \"pie\": [{\"automargin\": true, \"type\": \"pie\"}], \"scatter\": [{\"marker\": {\"colorbar\": {\"outlinewidth\": 0, \"ticks\": \"\"}}, \"type\": \"scatter\"}], \"scatter3d\": [{\"line\": {\"colorbar\": {\"outlinewidth\": 0, \"ticks\": \"\"}}, \"marker\": {\"colorbar\": {\"outlinewidth\": 0, \"ticks\": \"\"}}, \"type\": \"scatter3d\"}], \"scattercarpet\": [{\"marker\": {\"colorbar\": {\"outlinewidth\": 0, \"ticks\": \"\"}}, \"type\": \"scattercarpet\"}], \"scattergeo\": [{\"marker\": {\"colorbar\": {\"outlinewidth\": 0, \"ticks\": \"\"}}, \"type\": \"scattergeo\"}], \"scattergl\": [{\"marker\": {\"colorbar\": {\"outlinewidth\": 0, \"ticks\": \"\"}}, \"type\": \"scattergl\"}], \"scattermapbox\": [{\"marker\": {\"colorbar\": {\"outlinewidth\": 0, \"ticks\": \"\"}}, \"type\": \"scattermapbox\"}], \"scatterpolar\": [{\"marker\": {\"colorbar\": {\"outlinewidth\": 0, \"ticks\": \"\"}}, \"type\": \"scatterpolar\"}], \"scatterpolargl\": [{\"marker\": {\"colorbar\": {\"outlinewidth\": 0, \"ticks\": \"\"}}, \"type\": \"scatterpolargl\"}], \"scatterternary\": [{\"marker\": {\"colorbar\": {\"outlinewidth\": 0, \"ticks\": \"\"}}, \"type\": \"scatterternary\"}], \"surface\": [{\"colorbar\": {\"outlinewidth\": 0, \"ticks\": \"\"}, \"colorscale\": [[0.0, \"#0d0887\"], [0.1111111111111111, \"#46039f\"], [0.2222222222222222, \"#7201a8\"], [0.3333333333333333, \"#9c179e\"], [0.4444444444444444, \"#bd3786\"], [0.5555555555555556, \"#d8576b\"], [0.6666666666666666, \"#ed7953\"], [0.7777777777777778, \"#fb9f3a\"], [0.8888888888888888, \"#fdca26\"], [1.0, \"#f0f921\"]], \"type\": \"surface\"}], \"table\": [{\"cells\": {\"fill\": {\"color\": \"#EBF0F8\"}, \"line\": {\"color\": \"white\"}}, \"header\": {\"fill\": {\"color\": \"#C8D4E3\"}, \"line\": {\"color\": \"white\"}}, \"type\": \"table\"}]}, \"layout\": {\"annotationdefaults\": {\"arrowcolor\": \"#2a3f5f\", \"arrowhead\": 0, \"arrowwidth\": 1}, \"coloraxis\": {\"colorbar\": {\"outlinewidth\": 0, \"ticks\": \"\"}}, \"colorscale\": {\"diverging\": [[0, \"#8e0152\"], [0.1, \"#c51b7d\"], [0.2, \"#de77ae\"], [0.3, \"#f1b6da\"], [0.4, \"#fde0ef\"], [0.5, \"#f7f7f7\"], [0.6, \"#e6f5d0\"], [0.7, \"#b8e186\"], [0.8, \"#7fbc41\"], [0.9, \"#4d9221\"], [1, \"#276419\"]], \"sequential\": [[0.0, \"#0d0887\"], [0.1111111111111111, \"#46039f\"], [0.2222222222222222, \"#7201a8\"], [0.3333333333333333, \"#9c179e\"], [0.4444444444444444, \"#bd3786\"], [0.5555555555555556, \"#d8576b\"], [0.6666666666666666, \"#ed7953\"], [0.7777777777777778, \"#fb9f3a\"], [0.8888888888888888, \"#fdca26\"], [1.0, \"#f0f921\"]], \"sequentialminus\": [[0.0, \"#0d0887\"], [0.1111111111111111, \"#46039f\"], [0.2222222222222222, \"#7201a8\"], [0.3333333333333333, \"#9c179e\"], [0.4444444444444444, \"#bd3786\"], [0.5555555555555556, \"#d8576b\"], [0.6666666666666666, \"#ed7953\"], [0.7777777777777778, \"#fb9f3a\"], [0.8888888888888888, \"#fdca26\"], [1.0, \"#f0f921\"]]}, \"colorway\": [\"#636efa\", \"#EF553B\", \"#00cc96\", \"#ab63fa\", \"#FFA15A\", \"#19d3f3\", \"#FF6692\", \"#B6E880\", \"#FF97FF\", \"#FECB52\"], \"font\": {\"color\": \"#2a3f5f\"}, \"geo\": {\"bgcolor\": \"white\", \"lakecolor\": \"white\", \"landcolor\": \"#E5ECF6\", \"showlakes\": true, \"showland\": true, \"subunitcolor\": \"white\"}, \"hoverlabel\": {\"align\": \"left\"}, \"hovermode\": \"closest\", \"mapbox\": {\"style\": \"light\"}, \"paper_bgcolor\": \"white\", \"plot_bgcolor\": \"#E5ECF6\", \"polar\": {\"angularaxis\": {\"gridcolor\": \"white\", \"linecolor\": \"white\", \"ticks\": \"\"}, \"bgcolor\": \"#E5ECF6\", \"radialaxis\": {\"gridcolor\": \"white\", \"linecolor\": \"white\", \"ticks\": \"\"}}, \"scene\": {\"xaxis\": {\"backgroundcolor\": \"#E5ECF6\", \"gridcolor\": \"white\", \"gridwidth\": 2, \"linecolor\": \"white\", \"showbackground\": true, \"ticks\": \"\", \"zerolinecolor\": \"white\"}, \"yaxis\": {\"backgroundcolor\": \"#E5ECF6\", \"gridcolor\": \"white\", \"gridwidth\": 2, \"linecolor\": \"white\", \"showbackground\": true, \"ticks\": \"\", \"zerolinecolor\": \"white\"}, \"zaxis\": {\"backgroundcolor\": \"#E5ECF6\", \"gridcolor\": \"white\", \"gridwidth\": 2, \"linecolor\": \"white\", \"showbackground\": true, \"ticks\": \"\", \"zerolinecolor\": \"white\"}}, \"shapedefaults\": {\"line\": {\"color\": \"#2a3f5f\"}}, \"ternary\": {\"aaxis\": {\"gridcolor\": \"white\", \"linecolor\": \"white\", \"ticks\": \"\"}, \"baxis\": {\"gridcolor\": \"white\", \"linecolor\": \"white\", \"ticks\": \"\"}, \"bgcolor\": \"#E5ECF6\", \"caxis\": {\"gridcolor\": \"white\", \"linecolor\": \"white\", \"ticks\": \"\"}}, \"title\": {\"x\": 0.05}, \"xaxis\": {\"automargin\": true, \"gridcolor\": \"white\", \"linecolor\": \"white\", \"ticks\": \"\", \"title\": {\"standoff\": 15}, \"zerolinecolor\": \"white\", \"zerolinewidth\": 2}, \"yaxis\": {\"automargin\": true, \"gridcolor\": \"white\", \"linecolor\": \"white\", \"ticks\": \"\", \"title\": {\"standoff\": 15}, \"zerolinecolor\": \"white\", \"zerolinewidth\": 2}}}, \"title\": {\"text\": \"Training and Validation Losses for Different MLP Models\", \"x\": 0.5, \"xanchor\": \"center\", \"yanchor\": \"top\"}, \"xaxis\": {\"title\": {\"text\": \"Epochs\"}}, \"yaxis\": {\"title\": {\"text\": \"Loss\"}}},\n",
              "                        {\"responsive\": true}\n",
              "                    ).then(function(){\n",
              "                            \n",
              "var gd = document.getElementById('c3d2a6fd-be7e-44ad-a695-7b947d575296');\n",
              "var x = new MutationObserver(function (mutations, observer) {{\n",
              "        var display = window.getComputedStyle(gd).display;\n",
              "        if (!display || display === 'none') {{\n",
              "            console.log([gd, 'removed!']);\n",
              "            Plotly.purge(gd);\n",
              "            observer.disconnect();\n",
              "        }}\n",
              "}});\n",
              "\n",
              "// Listen for the removal of the full notebook cells\n",
              "var notebookContainer = gd.closest('#notebook-container');\n",
              "if (notebookContainer) {{\n",
              "    x.observe(notebookContainer, {childList: true});\n",
              "}}\n",
              "\n",
              "// Listen for the clearing of the current output cell\n",
              "var outputEl = gd.closest('.output');\n",
              "if (outputEl) {{\n",
              "    x.observe(outputEl, {childList: true});\n",
              "}}\n",
              "\n",
              "                        })\n",
              "                };\n",
              "                \n",
              "            </script>\n",
              "        </div>\n",
              "</body>\n",
              "</html>"
            ]
          },
          "metadata": {
            "tags": []
          }
        }
      ]
    },
    {
      "cell_type": "markdown",
      "metadata": {
        "id": "H1mcn45GhU3e"
      },
      "source": [
        "# Prediction and Evaluation"
      ]
    },
    {
      "cell_type": "markdown",
      "metadata": {
        "id": "GbsoNG8psH_G"
      },
      "source": [
        "#### Prediction Model MLP 1"
      ]
    },
    {
      "cell_type": "code",
      "metadata": {
        "colab": {
          "base_uri": "https://localhost:8080/",
          "height": 288
        },
        "id": "BTrkXgNDsLzG",
        "outputId": "b0a8e49e-1276-4d35-ae99-116b07040f78"
      },
      "source": [
        "from sklearn.metrics import confusion_matrix\n",
        "y_pred = model_MLP_1.predict(X_test)\n",
        "threshold = 0.6\n",
        "y_pred = [1 if i >= threshold else 0 for i in y_pred]\n",
        "plt.title(\"MLP Model 1 Confusion Matrix for Test Data\", fontdict={'fontsize':18})\n",
        "ax = sns.heatmap(confusion_matrix(y_test, y_pred), annot=True, fmt=\"d\")"
      ],
      "execution_count": null,
      "outputs": [
        {
          "output_type": "display_data",
          "data": {
            "image/png": "[encoded data removed]",
            "text/plain": [
              "<Figure size 432x288 with 2 Axes>"
            ]
          },
          "metadata": {
            "tags": []
          }
        }
      ]
    },
    {
      "cell_type": "code",
      "metadata": {
        "colab": {
          "base_uri": "https://localhost:8080/"
        },
        "id": "QqVdzGa1sRVX",
        "outputId": "4093b19e-06db-4286-d7d9-35092dad2748"
      },
      "source": [
        "print(\"Accuracy for MLP model 1 on test data: {}%\".format(round((model_MLP_1.evaluate(X_test, y_test)[1]*100),2)))"
      ],
      "execution_count": null,
      "outputs": [
        {
          "output_type": "stream",
          "text": [
            "305/305 [==============================] - 0s 909us/step - loss: 0.1792 - accuracy: 0.9424\n",
            "Accuracy for MLP model 1 on test data: 94.24%\n"
          ],
          "name": "stdout"
        }
      ]
    },
    {
      "cell_type": "markdown",
      "metadata": {
        "id": "EZDvMN8Krtr7"
      },
      "source": [
        "#### Prediction Model MLP 2"
      ]
    },
    {
      "cell_type": "markdown",
      "metadata": {
        "id": "HaCCsmc-xjxO"
      },
      "source": [
        ""
      ]
    },
    {
      "cell_type": "code",
      "metadata": {
        "colab": {
          "base_uri": "https://localhost:8080/",
          "height": 288
        },
        "id": "XzRNnB7MryJd",
        "outputId": "8c8e511b-cc18-4542-e60a-66a37358decc"
      },
      "source": [
        "from sklearn.metrics import confusion_matrix\n",
        "y_pred = model_MLP_2.predict(X_test)\n",
        "threshold = 0.6\n",
        "y_pred = [1 if i >= threshold else 0 for i in y_pred]\n",
        "plt.title(\"MLP Model 2 Confusion Matrix for Test Data\", fontdict={'fontsize':18})\n",
        "ax = sns.heatmap(confusion_matrix(y_test, y_pred), annot=True, fmt=\"d\")"
      ],
      "execution_count": null,
      "outputs": [
        {
          "output_type": "display_data",
          "data": {
            "image/png": "[encoded data removed]",
            "text/plain": [
              "<Figure size 432x288 with 2 Axes>"
            ]
          },
          "metadata": {
            "tags": []
          }
        }
      ]
    },
    {
      "cell_type": "code",
      "metadata": {
        "colab": {
          "base_uri": "https://localhost:8080/"
        },
        "id": "FI-bzMaasBQ5",
        "outputId": "6df1504a-8a52-4316-e7c4-4677f7313f31"
      },
      "source": [
        "print(\"Accuracy for MLP model 2 on test data: {}%\".format(round((model_MLP_2.evaluate(X_test, y_test)[1]*100),2)))"
      ],
      "execution_count": null,
      "outputs": [
        {
          "output_type": "stream",
          "text": [
            "305/305 [==============================] - 0s 816us/step - loss: 0.1052 - accuracy: 0.9766\n",
            "Accuracy for MLP model 2 on test data: 97.66%\n"
          ],
          "name": "stdout"
        }
      ]
    },
    {
      "cell_type": "markdown",
      "metadata": {
        "id": "QaEQyk0zya51"
      },
      "source": [
        ""
      ]
    },
    {
      "cell_type": "markdown",
      "metadata": {
        "id": "Ud6ZKmFSrn9P"
      },
      "source": [
        "#### Prediction Model MLP 3"
      ]
    },
    {
      "cell_type": "code",
      "metadata": {
        "colab": {
          "base_uri": "https://localhost:8080/",
          "height": 288
        },
        "id": "J4t4RVyygtXX",
        "outputId": "5d01543f-e9d4-4994-d209-7d0fb7626796"
      },
      "source": [
        "from sklearn.metrics import confusion_matrix\n",
        "y_pred = model_MLP_3.predict(X_test)\n",
        "threshold = 0.6\n",
        "y_pred = [1 if i >= threshold else 0 for i in y_pred]\n",
        "plt.title(\"MLP Model 3 Confusion Matrix for Test Data\", fontdict={'fontsize':18})\n",
        "ax = sns.heatmap(confusion_matrix(y_test, y_pred), annot=True, fmt=\"d\")"
      ],
      "execution_count": null,
      "outputs": [
        {
          "output_type": "display_data",
          "data": {
            "image/png": "[encoded data removed]",
            "text/plain": [
              "<Figure size 432x288 with 2 Axes>"
            ]
          },
          "metadata": {
            "tags": []
          }
        }
      ]
    },
    {
      "cell_type": "code",
      "metadata": {
        "colab": {
          "base_uri": "https://localhost:8080/"
        },
        "id": "ObSred3BdMMN",
        "outputId": "026caf4f-0596-4f05-cc61-31f764c45700"
      },
      "source": [
        "print(\"Accuracy for MLP model 3 on test data: {}%\".format(round((model_MLP_3.evaluate(X_test, y_test)[1]*100),2)))"
      ],
      "execution_count": null,
      "outputs": [
        {
          "output_type": "stream",
          "text": [
            "305/305 [==============================] - 0s 977us/step - loss: 0.1687 - accuracy: 0.9915\n",
            "Accuracy for MLP model 3 on test data: 99.15%\n"
          ],
          "name": "stdout"
        }
      ]
    },
    {
      "cell_type": "markdown",
      "metadata": {
        "id": "CGJFJrOHscNj"
      },
      "source": [
        "#### Prediction Model MLP 4"
      ]
    },
    {
      "cell_type": "code",
      "metadata": {
        "colab": {
          "base_uri": "https://localhost:8080/",
          "height": 288
        },
        "id": "diZgEJFmskAy",
        "outputId": "7fbf3e6d-3052-4395-8fb8-4d721fb50c54"
      },
      "source": [
        "from sklearn.metrics import confusion_matrix\n",
        "y_pred = model_MLP_4.predict(X_test)\n",
        "threshold = 0.6\n",
        "y_pred = [1 if i >= threshold else 0 for i in y_pred]\n",
        "plt.title(\"MLP Model 4 Confusion Matrix for Test Data\", fontdict={'fontsize':18})\n",
        "ax = sns.heatmap(confusion_matrix(y_test, y_pred), annot=True, fmt=\"d\")"
      ],
      "execution_count": null,
      "outputs": [
        {
          "output_type": "display_data",
          "data": {
            "image/png": "[encoded data removed]",
            "text/plain": [
              "<Figure size 432x288 with 2 Axes>"
            ]
          },
          "metadata": {
            "tags": []
          }
        }
      ]
    },
    {
      "cell_type": "code",
      "metadata": {
        "colab": {
          "base_uri": "https://localhost:8080/"
        },
        "id": "nld0s-9Vsrss",
        "outputId": "a02de428-0a5b-42f2-a718-03eb7f6a3db3"
      },
      "source": [
        "print(\"Accuracy for MLP model 4 on test data: {}%\".format(round((model_MLP_4.evaluate(X_test, y_test)[1]*100),2)))"
      ],
      "execution_count": null,
      "outputs": [
        {
          "output_type": "stream",
          "text": [
            "305/305 [==============================] - 0s 926us/step - loss: 0.5258 - accuracy: 0.7899\n",
            "Accuracy for MLP model 4 on test data: 78.99%\n"
          ],
          "name": "stdout"
        }
      ]
    },
    {
      "cell_type": "markdown",
      "metadata": {
        "id": "syOUpqBLj6uW"
      },
      "source": [
        "# LSTM - 4 Models\n",
        "- Model 1\n",
        "  + Hidden layers: 3\n",
        "  + Units: 16, 32, 32, ,16, 1\n",
        "  + Activation: sigmoid\n",
        "  + Epoch: 30\n",
        "  + Batch Size: 16\n",
        "  + Early stopping \n",
        "- Model 2\n",
        "  + Hidden layers: 2\n",
        "  + Units: 64, 32, 16, 1\n",
        "  + Activation: tanh\n",
        "  + Epoch: 30\n",
        "  + Batch Size: 16\n",
        "  + Early stopping \n",
        "- Model 3\n",
        "  + Hidden layers: 2\n",
        "  + Units: 64, 32, 16, 1\n",
        "  + Activation: ReLU\n",
        "  + Epoch: 15\n",
        "  + Batch Size: 9\n",
        "  + Early stopping \n",
        "- Model 4\n",
        "  + Hidden layers: 2\n",
        "  + Units: 90, 81, 63, 45, 27, 9, 1\n",
        "  + Activation: Sigmoid\n",
        "  + Epoch: 100\n",
        "  + Batch Size: 81\n",
        "  + Early stopping "
      ]
    },
    {
      "cell_type": "markdown",
      "metadata": {
        "id": "af1cDlYChf4E"
      },
      "source": [
        "##### Preparing Data"
      ]
    },
    {
      "cell_type": "code",
      "metadata": {
        "colab": {
          "base_uri": "https://localhost:8080/",
          "height": 450
        },
        "id": "1s7on4CtZmSG",
        "outputId": "d5538346-27a8-4576-f2b3-e6464d711ba9"
      },
      "source": [
        "import pandas as pd\n",
        "datatest = pd.read_csv(\"datatest.txt\")\n",
        "datatest2 = pd.read_csv(\"datatest2.txt\")\n",
        "datatraining = pd.read_csv(\"datatraining.txt\")\n",
        "# set index\n",
        "datatest = datatest.set_index('date')\n",
        "datatest2 = datatest2.set_index('date')\n",
        "datatraining = datatraining.set_index('date')\n",
        "datatraining"
      ],
      "execution_count": 73,
      "outputs": [
        {
          "output_type": "execute_result",
          "data": {
            "text/html": [
              "<div>\n",
              "<style scoped>\n",
              "    .dataframe tbody tr th:only-of-type {\n",
              "        vertical-align: middle;\n",
              "    }\n",
              "\n",
              "    .dataframe tbody tr th {\n",
              "        vertical-align: top;\n",
              "    }\n",
              "\n",
              "    .dataframe thead th {\n",
              "        text-align: right;\n",
              "    }\n",
              "</style>\n",
              "<table border=\"1\" class=\"dataframe\">\n",
              "  <thead>\n",
              "    <tr style=\"text-align: right;\">\n",
              "      <th></th>\n",
              "      <th>Temperature</th>\n",
              "      <th>Humidity</th>\n",
              "      <th>Light</th>\n",
              "      <th>CO2</th>\n",
              "      <th>HumidityRatio</th>\n",
              "      <th>Occupancy</th>\n",
              "    </tr>\n",
              "    <tr>\n",
              "      <th>date</th>\n",
              "      <th></th>\n",
              "      <th></th>\n",
              "      <th></th>\n",
              "      <th></th>\n",
              "      <th></th>\n",
              "      <th></th>\n",
              "    </tr>\n",
              "  </thead>\n",
              "  <tbody>\n",
              "    <tr>\n",
              "      <th>2015-02-04 17:51:00</th>\n",
              "      <td>23.18</td>\n",
              "      <td>27.2720</td>\n",
              "      <td>426.0</td>\n",
              "      <td>721.250000</td>\n",
              "      <td>0.004793</td>\n",
              "      <td>1</td>\n",
              "    </tr>\n",
              "    <tr>\n",
              "      <th>2015-02-04 17:51:59</th>\n",
              "      <td>23.15</td>\n",
              "      <td>27.2675</td>\n",
              "      <td>429.5</td>\n",
              "      <td>714.000000</td>\n",
              "      <td>0.004783</td>\n",
              "      <td>1</td>\n",
              "    </tr>\n",
              "    <tr>\n",
              "      <th>2015-02-04 17:53:00</th>\n",
              "      <td>23.15</td>\n",
              "      <td>27.2450</td>\n",
              "      <td>426.0</td>\n",
              "      <td>713.500000</td>\n",
              "      <td>0.004779</td>\n",
              "      <td>1</td>\n",
              "    </tr>\n",
              "    <tr>\n",
              "      <th>2015-02-04 17:54:00</th>\n",
              "      <td>23.15</td>\n",
              "      <td>27.2000</td>\n",
              "      <td>426.0</td>\n",
              "      <td>708.250000</td>\n",
              "      <td>0.004772</td>\n",
              "      <td>1</td>\n",
              "    </tr>\n",
              "    <tr>\n",
              "      <th>2015-02-04 17:55:00</th>\n",
              "      <td>23.10</td>\n",
              "      <td>27.2000</td>\n",
              "      <td>426.0</td>\n",
              "      <td>704.500000</td>\n",
              "      <td>0.004757</td>\n",
              "      <td>1</td>\n",
              "    </tr>\n",
              "    <tr>\n",
              "      <th>...</th>\n",
              "      <td>...</td>\n",
              "      <td>...</td>\n",
              "      <td>...</td>\n",
              "      <td>...</td>\n",
              "      <td>...</td>\n",
              "      <td>...</td>\n",
              "    </tr>\n",
              "    <tr>\n",
              "      <th>2015-02-10 09:29:00</th>\n",
              "      <td>21.05</td>\n",
              "      <td>36.0975</td>\n",
              "      <td>433.0</td>\n",
              "      <td>787.250000</td>\n",
              "      <td>0.005579</td>\n",
              "      <td>1</td>\n",
              "    </tr>\n",
              "    <tr>\n",
              "      <th>2015-02-10 09:29:59</th>\n",
              "      <td>21.05</td>\n",
              "      <td>35.9950</td>\n",
              "      <td>433.0</td>\n",
              "      <td>789.500000</td>\n",
              "      <td>0.005563</td>\n",
              "      <td>1</td>\n",
              "    </tr>\n",
              "    <tr>\n",
              "      <th>2015-02-10 09:30:59</th>\n",
              "      <td>21.10</td>\n",
              "      <td>36.0950</td>\n",
              "      <td>433.0</td>\n",
              "      <td>798.500000</td>\n",
              "      <td>0.005596</td>\n",
              "      <td>1</td>\n",
              "    </tr>\n",
              "    <tr>\n",
              "      <th>2015-02-10 09:32:00</th>\n",
              "      <td>21.10</td>\n",
              "      <td>36.2600</td>\n",
              "      <td>433.0</td>\n",
              "      <td>820.333333</td>\n",
              "      <td>0.005621</td>\n",
              "      <td>1</td>\n",
              "    </tr>\n",
              "    <tr>\n",
              "      <th>2015-02-10 09:33:00</th>\n",
              "      <td>21.10</td>\n",
              "      <td>36.2000</td>\n",
              "      <td>447.0</td>\n",
              "      <td>821.000000</td>\n",
              "      <td>0.005612</td>\n",
              "      <td>1</td>\n",
              "    </tr>\n",
              "  </tbody>\n",
              "</table>\n",
              "<p>8143 rows × 6 columns</p>\n",
              "</div>"
            ],
            "text/plain": [
              "                     Temperature  Humidity  ...  HumidityRatio  Occupancy\n",
              "date                                        ...                          \n",
              "2015-02-04 17:51:00        23.18   27.2720  ...       0.004793          1\n",
              "2015-02-04 17:51:59        23.15   27.2675  ...       0.004783          1\n",
              "2015-02-04 17:53:00        23.15   27.2450  ...       0.004779          1\n",
              "2015-02-04 17:54:00        23.15   27.2000  ...       0.004772          1\n",
              "2015-02-04 17:55:00        23.10   27.2000  ...       0.004757          1\n",
              "...                          ...       ...  ...            ...        ...\n",
              "2015-02-10 09:29:00        21.05   36.0975  ...       0.005579          1\n",
              "2015-02-10 09:29:59        21.05   35.9950  ...       0.005563          1\n",
              "2015-02-10 09:30:59        21.10   36.0950  ...       0.005596          1\n",
              "2015-02-10 09:32:00        21.10   36.2600  ...       0.005621          1\n",
              "2015-02-10 09:33:00        21.10   36.2000  ...       0.005612          1\n",
              "\n",
              "[8143 rows x 6 columns]"
            ]
          },
          "metadata": {
            "tags": []
          },
          "execution_count": 73
        }
      ]
    },
    {
      "cell_type": "code",
      "metadata": {
        "id": "iAhXTDoPYWk8"
      },
      "source": [
        "from sklearn.preprocessing import MinMaxScaler\n",
        "import numpy as np\n",
        "\n",
        "#\n",
        "scaler = MinMaxScaler()\n",
        "occupancy_scaler = MinMaxScaler()\n",
        "columns = ['Temperature', 'Humidity', 'Light', 'CO2', 'HumidityRatio']\n",
        "#\n",
        "scaler.fit(np.array(datatraining[columns].to_numpy()))\n",
        "#\n",
        "datatest[columns] = scaler.transform(np.array(datatest[columns]))\n",
        "datatest2[columns] = scaler.transform(np.array(datatest2[columns]))\n",
        "datatraining[columns] = scaler.transform(np.array(datatraining[columns]))"
      ],
      "execution_count": 74,
      "outputs": []
    },
    {
      "cell_type": "code",
      "metadata": {
        "id": "3hBcm87_YeQR"
      },
      "source": [
        "def reshape_X_y_(X, y, time_steps=1):\n",
        "    Xs, ys = [], []\n",
        "    for i in range(len(X) - time_steps):\n",
        "        v = X.iloc[i:(i + time_steps)].values\n",
        "        Xs.append(v)        \n",
        "        ys.append(y.iloc[i + time_steps])\n",
        "    return np.array(Xs), np.array(ys)"
      ],
      "execution_count": 75,
      "outputs": []
    },
    {
      "cell_type": "code",
      "metadata": {
        "id": "eEcmk28VYfvn"
      },
      "source": [
        "time_steps = 10\n",
        "\n",
        "# reshape to [samples, time_steps, n_features]\n",
        "\n",
        "X_train, y_train = reshape_X_y_(datatraining, datatraining.Occupancy, time_steps)\n",
        "X_validation, y_validation = reshape_X_y_(datatest, datatest.Occupancy, time_steps)\n",
        "X_test, y_test = reshape_X_y_(datatest2, datatest2.Occupancy, time_steps)"
      ],
      "execution_count": 76,
      "outputs": []
    },
    {
      "cell_type": "code",
      "metadata": {
        "colab": {
          "base_uri": "https://localhost:8080/"
        },
        "id": "pMPTjvixc4dd",
        "outputId": "25c212ba-6415-4009-92cb-955974baf1a8"
      },
      "source": [
        "X_train.shape[2]"
      ],
      "execution_count": 84,
      "outputs": [
        {
          "output_type": "execute_result",
          "data": {
            "text/plain": [
              "6"
            ]
          },
          "metadata": {
            "tags": []
          },
          "execution_count": 84
        }
      ]
    },
    {
      "cell_type": "code",
      "metadata": {
        "id": "0qbk8XhrcpOp"
      },
      "source": [
        "X_train = np.asarray(X_train.astype(np.float64))\n",
        "y_train = np.asarray(y_train.astype(np.float64))\n",
        "\n",
        "\n",
        "X_validation = np.asarray(X_validation.astype(np.float64))\n",
        "y_validation = np.asarray(y_validation.astype(np.float64))\n",
        "\n",
        "X_test = np.asarray(X_test.astype(np.float64))\n",
        "y_test = np.asarray(y_test.astype(np.float64))"
      ],
      "execution_count": 78,
      "outputs": []
    },
    {
      "cell_type": "code",
      "metadata": {
        "colab": {
          "base_uri": "https://localhost:8080/"
        },
        "id": "G87TuajIpSxK",
        "outputId": "25eb96a7-bdab-4a39-cb13-499e9ace5fc6"
      },
      "source": [
        "#\n",
        "print('Train:')\n",
        "print(X_train.shape)\n",
        "print(y_train.shape)\n",
        "print('Validation:')\n",
        "print(X_validation.shape)\n",
        "print(y_validation.shape)\n",
        "print('Test:')\n",
        "print(X_test.shape)\n",
        "print(y_test.shape)"
      ],
      "execution_count": 80,
      "outputs": [
        {
          "output_type": "stream",
          "text": [
            "Train:\n",
            "(8133, 10, 6)\n",
            "(8133,)\n",
            "Validation:\n",
            "(2655, 10, 6)\n",
            "(2655,)\n",
            "Test:\n",
            "(9742, 10, 6)\n",
            "(9742,)\n"
          ],
          "name": "stdout"
        }
      ]
    },
    {
      "cell_type": "markdown",
      "metadata": {
        "id": "lW3a_9mDh1CI"
      },
      "source": [
        "#### LSTM Model 0 - Example Model"
      ]
    },
    {
      "cell_type": "code",
      "metadata": {
        "id": "vtre2W7Kh300"
      },
      "source": [
        "from keras import backend as K \n",
        "K.clear_session()\n",
        "from keras.layers.recurrent import LSTM\n",
        "from keras.models import Sequential\n",
        "from keras.layers.core import Dense, Activation, Dropout"
      ],
      "execution_count": 90,
      "outputs": []
    },
    {
      "cell_type": "code",
      "metadata": {
        "colab": {
          "base_uri": "https://localhost:8080/"
        },
        "id": "kCE6JksEvBDg",
        "outputId": "927a77dc-5e64-46bc-aea8-2a43cedab209"
      },
      "source": [
        "# this is Example LSTM Model\n",
        "data_dim = 6\n",
        "timesteps = 10\n",
        "num_classes = 1\n",
        "\n",
        "# expected input data shape: (batch_size, timesteps, data_dim)\n",
        "model = Sequential()\n",
        "model.add(LSTM(16, return_sequences=True,\n",
        "               input_shape=(timesteps, data_dim)))  # returns a sequence of vectors of dimension 32\n",
        "model.add(LSTM(16, return_sequences=True))  # returns a sequence of vectors of dimension 32\n",
        "model.add(LSTM(16))  # return a single vector of dimension 32\n",
        "model.add(Dense(1, activation='softmax'))\n",
        "\n",
        "model.compile(loss='categorical_crossentropy',\n",
        "              optimizer='rmsprop',\n",
        "              metrics=['accuracy'])\n",
        "print(model.summary())"
      ],
      "execution_count": 87,
      "outputs": [
        {
          "output_type": "stream",
          "text": [
            "Model: \"sequential_2\"\n",
            "_________________________________________________________________\n",
            "Layer (type)                 Output Shape              Param #   \n",
            "=================================================================\n",
            "lstm_6 (LSTM)                (None, 10, 16)            1472      \n",
            "_________________________________________________________________\n",
            "lstm_7 (LSTM)                (None, 10, 16)            2112      \n",
            "_________________________________________________________________\n",
            "lstm_8 (LSTM)                (None, 16)                2112      \n",
            "_________________________________________________________________\n",
            "dense_2 (Dense)              (None, 1)                 17        \n",
            "=================================================================\n",
            "Total params: 5,713\n",
            "Trainable params: 5,713\n",
            "Non-trainable params: 0\n",
            "_________________________________________________________________\n",
            "None\n"
          ],
          "name": "stdout"
        }
      ]
    },
    {
      "cell_type": "code",
      "metadata": {
        "colab": {
          "base_uri": "https://localhost:8080/"
        },
        "id": "4fSW22wZbcur",
        "outputId": "9de2db56-ab9c-45c3-aca7-c35b7d99aa70"
      },
      "source": [
        "# simple early stopping\n",
        "from keras.callbacks import EarlyStopping\n",
        "from keras.callbacks import ModelCheckpoint\n",
        "es = EarlyStopping(monitor='val_loss', mode='min', verbose=1)\n",
        "mc = ModelCheckpoint('best_model_LSTM_0_.h5', monitor='val_accuracy', mode='auto', verbose=1, save_best_only=True)\n",
        "#\n",
        "history_LSTM_model_0 = model.fit(X_train, y_train, epochs=30, batch_size=16, validation_data=(X_validation, y_validation), callbacks=[es, mc])"
      ],
      "execution_count": 91,
      "outputs": [
        {
          "output_type": "stream",
          "text": [
            "Epoch 1/30\n",
            "509/509 [==============================] - 7s 13ms/step - loss: 0.0000e+00 - accuracy: 0.2114 - val_loss: 0.0000e+00 - val_accuracy: 0.3623\n",
            "\n",
            "Epoch 00001: val_accuracy improved from -inf to 0.36234, saving model to best_model_LSTM_0_.h5\n",
            "Epoch 2/30\n",
            "509/509 [==============================] - 7s 13ms/step - loss: 0.0000e+00 - accuracy: 0.2114 - val_loss: 0.0000e+00 - val_accuracy: 0.3623\n",
            "\n",
            "Epoch 00002: val_accuracy did not improve from 0.36234\n",
            "Epoch 00002: early stopping\n"
          ],
          "name": "stdout"
        }
      ]
    },
    {
      "cell_type": "markdown",
      "metadata": {
        "id": "cTWj2FIhigdB"
      },
      "source": [
        "### LSTM Model 1"
      ]
    },
    {
      "cell_type": "code",
      "metadata": {
        "id": "aIeWx-4QiwaH"
      },
      "source": [
        "K.clear_session()"
      ],
      "execution_count": 92,
      "outputs": []
    },
    {
      "cell_type": "code",
      "metadata": {
        "colab": {
          "base_uri": "https://localhost:8080/"
        },
        "id": "Qj7ls8dSkWaJ",
        "outputId": "2f7462dc-0682-42b8-d1f2-c8361f7d6e07"
      },
      "source": [
        "from keras.layers.recurrent import LSTM\n",
        "from keras.models import Sequential\n",
        "from keras.layers.core import Dense, Activation, Dropout\n",
        "#\n",
        "data_dim = 6\n",
        "timesteps = 10\n",
        "num_classes = 1\n",
        "#\n",
        "model_LSTM_1 = Sequential()\n",
        "# 1st \n",
        "model_LSTM_1.add(LSTM(units = 16, return_sequences = True, input_shape = (timesteps, data_dim)))\n",
        "# 2nd\n",
        "model_LSTM_1.add(LSTM(units = 32, return_sequences = True))\n",
        "# 3rd\n",
        "model_LSTM_1.add(LSTM(units = 32, return_sequences = True))\n",
        "# 4th\n",
        "model_LSTM_1.add(LSTM(units = 16))\n",
        "# output layer\n",
        "model_LSTM_1.add(Dense(units = 1, activation='sigmoid'))\n",
        "\n",
        "model_LSTM_1.compile(optimizer = 'adam', loss = 'mean_squared_error', metrics=['accuracy'])\n",
        "print(model_LSTM_1.summary())"
      ],
      "execution_count": 93,
      "outputs": [
        {
          "output_type": "stream",
          "text": [
            "Model: \"sequential\"\n",
            "_________________________________________________________________\n",
            "Layer (type)                 Output Shape              Param #   \n",
            "=================================================================\n",
            "lstm (LSTM)                  (None, 10, 16)            1472      \n",
            "_________________________________________________________________\n",
            "lstm_1 (LSTM)                (None, 10, 32)            6272      \n",
            "_________________________________________________________________\n",
            "lstm_2 (LSTM)                (None, 10, 32)            8320      \n",
            "_________________________________________________________________\n",
            "lstm_3 (LSTM)                (None, 16)                3136      \n",
            "_________________________________________________________________\n",
            "dense (Dense)                (None, 1)                 17        \n",
            "=================================================================\n",
            "Total params: 19,217\n",
            "Trainable params: 19,217\n",
            "Non-trainable params: 0\n",
            "_________________________________________________________________\n",
            "None\n"
          ],
          "name": "stdout"
        }
      ]
    },
    {
      "cell_type": "code",
      "metadata": {
        "colab": {
          "base_uri": "https://localhost:8080/"
        },
        "id": "smFVRdCxlFe-",
        "outputId": "080c064c-c0eb-4fb0-efc5-2dfcf0c0bf26"
      },
      "source": [
        "# simple early stopping\n",
        "from keras.callbacks import EarlyStopping\n",
        "from keras.callbacks import ModelCheckpoint\n",
        "es = EarlyStopping(monitor='val_loss', mode='min', verbose=1)\n",
        "mc = ModelCheckpoint('best_model_LSTM_1_.h5', monitor='val_accuracy', mode='auto', verbose=1, save_best_only=True)\n",
        "\n",
        "# fit model\n",
        "history_LSTM_1 = model_LSTM_1.fit(X_train, y_train, epochs=30, batch_size=16, validation_data=(X_validation, y_validation), callbacks=[es, mc])"
      ],
      "execution_count": 94,
      "outputs": [
        {
          "output_type": "stream",
          "text": [
            "Epoch 1/30\n",
            "509/509 [==============================] - 17s 22ms/step - loss: 0.0666 - accuracy: 0.9298 - val_loss: 0.0295 - val_accuracy: 0.9676\n",
            "\n",
            "Epoch 00001: val_accuracy improved from -inf to 0.96761, saving model to best_model_LSTM_1_.h5\n",
            "Epoch 2/30\n",
            "509/509 [==============================] - 9s 18ms/step - loss: 0.0153 - accuracy: 0.9833 - val_loss: 0.0255 - val_accuracy: 0.9759\n",
            "\n",
            "Epoch 00002: val_accuracy improved from 0.96761 to 0.97589, saving model to best_model_LSTM_1_.h5\n",
            "Epoch 3/30\n",
            "509/509 [==============================] - 9s 18ms/step - loss: 0.0129 - accuracy: 0.9854 - val_loss: 0.0146 - val_accuracy: 0.9823\n",
            "\n",
            "Epoch 00003: val_accuracy improved from 0.97589 to 0.98230, saving model to best_model_LSTM_1_.h5\n",
            "Epoch 4/30\n",
            "509/509 [==============================] - 9s 18ms/step - loss: 0.0072 - accuracy: 0.9924 - val_loss: 0.0095 - val_accuracy: 0.9895\n",
            "\n",
            "Epoch 00004: val_accuracy improved from 0.98230 to 0.98945, saving model to best_model_LSTM_1_.h5\n",
            "Epoch 5/30\n",
            "509/509 [==============================] - 9s 18ms/step - loss: 0.0056 - accuracy: 0.9937 - val_loss: 0.0093 - val_accuracy: 0.9898\n",
            "\n",
            "Epoch 00005: val_accuracy improved from 0.98945 to 0.98983, saving model to best_model_LSTM_1_.h5\n",
            "Epoch 6/30\n",
            "509/509 [==============================] - 9s 18ms/step - loss: 0.0058 - accuracy: 0.9937 - val_loss: 0.0095 - val_accuracy: 0.9902\n",
            "\n",
            "Epoch 00006: val_accuracy improved from 0.98983 to 0.99021, saving model to best_model_LSTM_1_.h5\n",
            "Epoch 00006: early stopping\n"
          ],
          "name": "stdout"
        }
      ]
    },
    {
      "cell_type": "code",
      "metadata": {
        "colab": {
          "base_uri": "https://localhost:8080/",
          "height": 542
        },
        "id": "vA7ROZyQlocH",
        "outputId": "0d57425a-0aed-4987-996e-99d1562dd736"
      },
      "source": [
        "accuracy_LSTM_1 = history_LSTM_1.history['accuracy']\n",
        "val_accuracy_LSTM_1 = history_LSTM_1.history['val_accuracy']\n",
        "fig = go.Figure()\n",
        "fig.add_trace(go.Scatter(x=np.arange(len(accuracy_LSTM_1)), y=accuracy_LSTM_1,\n",
        "                    name='Training Accuracy Model LSTM 1', line=dict(color='royalblue')))\n",
        "fig.add_trace(go.Scatter(x=np.arange(len(val_accuracy_LSTM_1)), y=val_accuracy_LSTM_1,\n",
        "                    name='Validation Accuracy Model LSTM 1', line = dict(color='firebrick')))\n",
        "\n",
        "fig.update_layout(xaxis_title='Epochs',\n",
        "                  yaxis_title='Accuracy',\n",
        "                  title={'text': \"Training and Validation Accuracy for Model LSTM 1\",\n",
        "                                                'x':0.5,\n",
        "                                                'xanchor': 'center',\n",
        "                                                'yanchor': 'top'})\n",
        "iplot(fig)"
      ],
      "execution_count": 98,
      "outputs": [
        {
          "output_type": "display_data",
          "data": {
            "text/html": [
              "<html>\n",
              "<head><meta charset=\"utf-8\" /></head>\n",
              "<body>\n",
              "    <div>\n",
              "            <script src=\"https://cdnjs.cloudflare.com/ajax/libs/mathjax/2.7.5/MathJax.js?config=TeX-AMS-MML_SVG\"></script><script type=\"text/javascript\">if (window.MathJax) {MathJax.Hub.Config({SVG: {font: \"STIX-Web\"}});}</script>\n",
              "                <script type=\"text/javascript\">window.PlotlyConfig = {MathJaxConfig: 'local'};</script>\n",
              "        <script src=\"https://cdn.plot.ly/plotly-latest.min.js\"></script>    \n",
              "            <div id=\"519de34b-05e3-4b7e-bac5-d6322c897eb8\" class=\"plotly-graph-div\" style=\"height:525px; width:100%;\"></div>\n",
              "            <script type=\"text/javascript\">\n",
              "                \n",
              "                    window.PLOTLYENV=window.PLOTLYENV || {};\n",
              "                    \n",
              "                if (document.getElementById(\"519de34b-05e3-4b7e-bac5-d6322c897eb8\")) {\n",
              "                    Plotly.newPlot(\n",
              "                        '519de34b-05e3-4b7e-bac5-d6322c897eb8',\n",
              "                        [{\"line\": {\"color\": \"royalblue\"}, \"name\": \"Training Accuracy Model LSTM 1\", \"type\": \"scatter\", \"x\": [0, 1, 2, 3, 4, 5], \"y\": [0.9672937393188477, 0.9843845963478088, 0.9875814318656921, 0.9934833645820618, 0.9942210912704468, 0.9945899248123169]}, {\"line\": {\"color\": \"firebrick\"}, \"name\": \"Validation Accuracy Model LSTM 1\", \"type\": \"scatter\", \"x\": [0, 1, 2, 3, 4, 5], \"y\": [0.9676082730293274, 0.9758945107460022, 0.9822975397109985, 0.9894538521766663, 0.989830493927002, 0.9902071356773376]}],\n",
              "                        {\"template\": {\"data\": {\"bar\": [{\"error_x\": {\"color\": \"#2a3f5f\"}, \"error_y\": {\"color\": \"#2a3f5f\"}, \"marker\": {\"line\": {\"color\": \"#E5ECF6\", \"width\": 0.5}}, \"type\": \"bar\"}], \"barpolar\": [{\"marker\": {\"line\": {\"color\": \"#E5ECF6\", \"width\": 0.5}}, \"type\": \"barpolar\"}], \"carpet\": [{\"aaxis\": {\"endlinecolor\": \"#2a3f5f\", \"gridcolor\": \"white\", \"linecolor\": \"white\", \"minorgridcolor\": \"white\", \"startlinecolor\": \"#2a3f5f\"}, \"baxis\": {\"endlinecolor\": \"#2a3f5f\", \"gridcolor\": \"white\", \"linecolor\": \"white\", \"minorgridcolor\": \"white\", \"startlinecolor\": \"#2a3f5f\"}, \"type\": \"carpet\"}], \"choropleth\": [{\"colorbar\": {\"outlinewidth\": 0, \"ticks\": \"\"}, \"type\": \"choropleth\"}], \"contour\": [{\"colorbar\": {\"outlinewidth\": 0, \"ticks\": \"\"}, \"colorscale\": [[0.0, \"#0d0887\"], [0.1111111111111111, \"#46039f\"], [0.2222222222222222, \"#7201a8\"], [0.3333333333333333, \"#9c179e\"], [0.4444444444444444, \"#bd3786\"], [0.5555555555555556, \"#d8576b\"], [0.6666666666666666, \"#ed7953\"], [0.7777777777777778, \"#fb9f3a\"], [0.8888888888888888, \"#fdca26\"], [1.0, \"#f0f921\"]], \"type\": \"contour\"}], \"contourcarpet\": [{\"colorbar\": {\"outlinewidth\": 0, \"ticks\": \"\"}, \"type\": \"contourcarpet\"}], \"heatmap\": [{\"colorbar\": {\"outlinewidth\": 0, \"ticks\": \"\"}, \"colorscale\": [[0.0, \"#0d0887\"], [0.1111111111111111, \"#46039f\"], [0.2222222222222222, \"#7201a8\"], [0.3333333333333333, \"#9c179e\"], [0.4444444444444444, \"#bd3786\"], [0.5555555555555556, \"#d8576b\"], [0.6666666666666666, \"#ed7953\"], [0.7777777777777778, \"#fb9f3a\"], [0.8888888888888888, \"#fdca26\"], [1.0, \"#f0f921\"]], \"type\": \"heatmap\"}], \"heatmapgl\": [{\"colorbar\": {\"outlinewidth\": 0, \"ticks\": \"\"}, \"colorscale\": [[0.0, \"#0d0887\"], [0.1111111111111111, \"#46039f\"], [0.2222222222222222, \"#7201a8\"], [0.3333333333333333, \"#9c179e\"], [0.4444444444444444, \"#bd3786\"], [0.5555555555555556, \"#d8576b\"], [0.6666666666666666, \"#ed7953\"], [0.7777777777777778, \"#fb9f3a\"], [0.8888888888888888, \"#fdca26\"], [1.0, \"#f0f921\"]], \"type\": \"heatmapgl\"}], \"histogram\": [{\"marker\": {\"colorbar\": {\"outlinewidth\": 0, \"ticks\": \"\"}}, \"type\": \"histogram\"}], \"histogram2d\": [{\"colorbar\": {\"outlinewidth\": 0, \"ticks\": \"\"}, \"colorscale\": [[0.0, \"#0d0887\"], [0.1111111111111111, \"#46039f\"], [0.2222222222222222, \"#7201a8\"], [0.3333333333333333, \"#9c179e\"], [0.4444444444444444, \"#bd3786\"], [0.5555555555555556, \"#d8576b\"], [0.6666666666666666, \"#ed7953\"], [0.7777777777777778, \"#fb9f3a\"], [0.8888888888888888, \"#fdca26\"], [1.0, \"#f0f921\"]], \"type\": \"histogram2d\"}], \"histogram2dcontour\": [{\"colorbar\": {\"outlinewidth\": 0, \"ticks\": \"\"}, \"colorscale\": [[0.0, \"#0d0887\"], [0.1111111111111111, \"#46039f\"], [0.2222222222222222, \"#7201a8\"], [0.3333333333333333, \"#9c179e\"], [0.4444444444444444, \"#bd3786\"], [0.5555555555555556, \"#d8576b\"], [0.6666666666666666, \"#ed7953\"], [0.7777777777777778, \"#fb9f3a\"], [0.8888888888888888, \"#fdca26\"], [1.0, \"#f0f921\"]], \"type\": \"histogram2dcontour\"}], \"mesh3d\": [{\"colorbar\": {\"outlinewidth\": 0, \"ticks\": \"\"}, \"type\": \"mesh3d\"}], \"parcoords\": [{\"line\": {\"colorbar\": {\"outlinewidth\": 0, \"ticks\": \"\"}}, \"type\": \"parcoords\"}], \"pie\": [{\"automargin\": true, \"type\": \"pie\"}], \"scatter\": [{\"marker\": {\"colorbar\": {\"outlinewidth\": 0, \"ticks\": \"\"}}, \"type\": \"scatter\"}], \"scatter3d\": [{\"line\": {\"colorbar\": {\"outlinewidth\": 0, \"ticks\": \"\"}}, \"marker\": {\"colorbar\": {\"outlinewidth\": 0, \"ticks\": \"\"}}, \"type\": \"scatter3d\"}], \"scattercarpet\": [{\"marker\": {\"colorbar\": {\"outlinewidth\": 0, \"ticks\": \"\"}}, \"type\": \"scattercarpet\"}], \"scattergeo\": [{\"marker\": {\"colorbar\": {\"outlinewidth\": 0, \"ticks\": \"\"}}, \"type\": \"scattergeo\"}], \"scattergl\": [{\"marker\": {\"colorbar\": {\"outlinewidth\": 0, \"ticks\": \"\"}}, \"type\": \"scattergl\"}], \"scattermapbox\": [{\"marker\": {\"colorbar\": {\"outlinewidth\": 0, \"ticks\": \"\"}}, \"type\": \"scattermapbox\"}], \"scatterpolar\": [{\"marker\": {\"colorbar\": {\"outlinewidth\": 0, \"ticks\": \"\"}}, \"type\": \"scatterpolar\"}], \"scatterpolargl\": [{\"marker\": {\"colorbar\": {\"outlinewidth\": 0, \"ticks\": \"\"}}, \"type\": \"scatterpolargl\"}], \"scatterternary\": [{\"marker\": {\"colorbar\": {\"outlinewidth\": 0, \"ticks\": \"\"}}, \"type\": \"scatterternary\"}], \"surface\": [{\"colorbar\": {\"outlinewidth\": 0, \"ticks\": \"\"}, \"colorscale\": [[0.0, \"#0d0887\"], [0.1111111111111111, \"#46039f\"], [0.2222222222222222, \"#7201a8\"], [0.3333333333333333, \"#9c179e\"], [0.4444444444444444, \"#bd3786\"], [0.5555555555555556, \"#d8576b\"], [0.6666666666666666, \"#ed7953\"], [0.7777777777777778, \"#fb9f3a\"], [0.8888888888888888, \"#fdca26\"], [1.0, \"#f0f921\"]], \"type\": \"surface\"}], \"table\": [{\"cells\": {\"fill\": {\"color\": \"#EBF0F8\"}, \"line\": {\"color\": \"white\"}}, \"header\": {\"fill\": {\"color\": \"#C8D4E3\"}, \"line\": {\"color\": \"white\"}}, \"type\": \"table\"}]}, \"layout\": {\"annotationdefaults\": {\"arrowcolor\": \"#2a3f5f\", \"arrowhead\": 0, \"arrowwidth\": 1}, \"coloraxis\": {\"colorbar\": {\"outlinewidth\": 0, \"ticks\": \"\"}}, \"colorscale\": {\"diverging\": [[0, \"#8e0152\"], [0.1, \"#c51b7d\"], [0.2, \"#de77ae\"], [0.3, \"#f1b6da\"], [0.4, \"#fde0ef\"], [0.5, \"#f7f7f7\"], [0.6, \"#e6f5d0\"], [0.7, \"#b8e186\"], [0.8, \"#7fbc41\"], [0.9, \"#4d9221\"], [1, \"#276419\"]], \"sequential\": [[0.0, \"#0d0887\"], [0.1111111111111111, \"#46039f\"], [0.2222222222222222, \"#7201a8\"], [0.3333333333333333, \"#9c179e\"], [0.4444444444444444, \"#bd3786\"], [0.5555555555555556, \"#d8576b\"], [0.6666666666666666, \"#ed7953\"], [0.7777777777777778, \"#fb9f3a\"], [0.8888888888888888, \"#fdca26\"], [1.0, \"#f0f921\"]], \"sequentialminus\": [[0.0, \"#0d0887\"], [0.1111111111111111, \"#46039f\"], [0.2222222222222222, \"#7201a8\"], [0.3333333333333333, \"#9c179e\"], [0.4444444444444444, \"#bd3786\"], [0.5555555555555556, \"#d8576b\"], [0.6666666666666666, \"#ed7953\"], [0.7777777777777778, \"#fb9f3a\"], [0.8888888888888888, \"#fdca26\"], [1.0, \"#f0f921\"]]}, \"colorway\": [\"#636efa\", \"#EF553B\", \"#00cc96\", \"#ab63fa\", \"#FFA15A\", \"#19d3f3\", \"#FF6692\", \"#B6E880\", \"#FF97FF\", \"#FECB52\"], \"font\": {\"color\": \"#2a3f5f\"}, \"geo\": {\"bgcolor\": \"white\", \"lakecolor\": \"white\", \"landcolor\": \"#E5ECF6\", \"showlakes\": true, \"showland\": true, \"subunitcolor\": \"white\"}, \"hoverlabel\": {\"align\": \"left\"}, \"hovermode\": \"closest\", \"mapbox\": {\"style\": \"light\"}, \"paper_bgcolor\": \"white\", \"plot_bgcolor\": \"#E5ECF6\", \"polar\": {\"angularaxis\": {\"gridcolor\": \"white\", \"linecolor\": \"white\", \"ticks\": \"\"}, \"bgcolor\": \"#E5ECF6\", \"radialaxis\": {\"gridcolor\": \"white\", \"linecolor\": \"white\", \"ticks\": \"\"}}, \"scene\": {\"xaxis\": {\"backgroundcolor\": \"#E5ECF6\", \"gridcolor\": \"white\", \"gridwidth\": 2, \"linecolor\": \"white\", \"showbackground\": true, \"ticks\": \"\", \"zerolinecolor\": \"white\"}, \"yaxis\": {\"backgroundcolor\": \"#E5ECF6\", \"gridcolor\": \"white\", \"gridwidth\": 2, \"linecolor\": \"white\", \"showbackground\": true, \"ticks\": \"\", \"zerolinecolor\": \"white\"}, \"zaxis\": {\"backgroundcolor\": \"#E5ECF6\", \"gridcolor\": \"white\", \"gridwidth\": 2, \"linecolor\": \"white\", \"showbackground\": true, \"ticks\": \"\", \"zerolinecolor\": \"white\"}}, \"shapedefaults\": {\"line\": {\"color\": \"#2a3f5f\"}}, \"ternary\": {\"aaxis\": {\"gridcolor\": \"white\", \"linecolor\": \"white\", \"ticks\": \"\"}, \"baxis\": {\"gridcolor\": \"white\", \"linecolor\": \"white\", \"ticks\": \"\"}, \"bgcolor\": \"#E5ECF6\", \"caxis\": {\"gridcolor\": \"white\", \"linecolor\": \"white\", \"ticks\": \"\"}}, \"title\": {\"x\": 0.05}, \"xaxis\": {\"automargin\": true, \"gridcolor\": \"white\", \"linecolor\": \"white\", \"ticks\": \"\", \"title\": {\"standoff\": 15}, \"zerolinecolor\": \"white\", \"zerolinewidth\": 2}, \"yaxis\": {\"automargin\": true, \"gridcolor\": \"white\", \"linecolor\": \"white\", \"ticks\": \"\", \"title\": {\"standoff\": 15}, \"zerolinecolor\": \"white\", \"zerolinewidth\": 2}}}, \"title\": {\"text\": \"Training and Validation Accuracy for Model LSTM 1\", \"x\": 0.5, \"xanchor\": \"center\", \"yanchor\": \"top\"}, \"xaxis\": {\"title\": {\"text\": \"Epochs\"}}, \"yaxis\": {\"title\": {\"text\": \"Accuracy\"}}},\n",
              "                        {\"responsive\": true}\n",
              "                    ).then(function(){\n",
              "                            \n",
              "var gd = document.getElementById('519de34b-05e3-4b7e-bac5-d6322c897eb8');\n",
              "var x = new MutationObserver(function (mutations, observer) {{\n",
              "        var display = window.getComputedStyle(gd).display;\n",
              "        if (!display || display === 'none') {{\n",
              "            console.log([gd, 'removed!']);\n",
              "            Plotly.purge(gd);\n",
              "            observer.disconnect();\n",
              "        }}\n",
              "}});\n",
              "\n",
              "// Listen for the removal of the full notebook cells\n",
              "var notebookContainer = gd.closest('#notebook-container');\n",
              "if (notebookContainer) {{\n",
              "    x.observe(notebookContainer, {childList: true});\n",
              "}}\n",
              "\n",
              "// Listen for the clearing of the current output cell\n",
              "var outputEl = gd.closest('.output');\n",
              "if (outputEl) {{\n",
              "    x.observe(outputEl, {childList: true});\n",
              "}}\n",
              "\n",
              "                        })\n",
              "                };\n",
              "                \n",
              "            </script>\n",
              "        </div>\n",
              "</body>\n",
              "</html>"
            ]
          },
          "metadata": {
            "tags": []
          }
        }
      ]
    },
    {
      "cell_type": "markdown",
      "metadata": {
        "id": "bNhGSnt7ipDm"
      },
      "source": [
        "### LSTM Model 2"
      ]
    },
    {
      "cell_type": "code",
      "metadata": {
        "id": "6J4DByNDiraG"
      },
      "source": [
        "K.clear_session()"
      ],
      "execution_count": 99,
      "outputs": []
    },
    {
      "cell_type": "code",
      "metadata": {
        "colab": {
          "base_uri": "https://localhost:8080/"
        },
        "id": "uxmylKKQRMQb",
        "outputId": "43d191d7-622b-4fec-8fb8-ec843e75dac5"
      },
      "source": [
        "model_LSTM_2 = Sequential()\n",
        "# 1st \n",
        "model_LSTM_2.add(LSTM(units = 64, return_sequences = True, input_shape = (timesteps, data_dim)))\n",
        "# 2nd\n",
        "model_LSTM_2.add(LSTM(units = 32, return_sequences = True))\n",
        "# 3rd\n",
        "model_LSTM_2.add(LSTM(units = 16))\n",
        "# output layer\n",
        "model_LSTM_2.add(Dense(units = 1, activation='tanh'))\n",
        "\n",
        "model_LSTM_2.compile(optimizer = 'adam', loss = 'mean_squared_error', metrics=['accuracy'])\n",
        "print(model_LSTM_2.summary())"
      ],
      "execution_count": 100,
      "outputs": [
        {
          "output_type": "stream",
          "text": [
            "Model: \"sequential\"\n",
            "_________________________________________________________________\n",
            "Layer (type)                 Output Shape              Param #   \n",
            "=================================================================\n",
            "lstm (LSTM)                  (None, 10, 64)            18176     \n",
            "_________________________________________________________________\n",
            "lstm_1 (LSTM)                (None, 10, 32)            12416     \n",
            "_________________________________________________________________\n",
            "lstm_2 (LSTM)                (None, 16)                3136      \n",
            "_________________________________________________________________\n",
            "dense (Dense)                (None, 1)                 17        \n",
            "=================================================================\n",
            "Total params: 33,745\n",
            "Trainable params: 33,745\n",
            "Non-trainable params: 0\n",
            "_________________________________________________________________\n",
            "None\n"
          ],
          "name": "stdout"
        }
      ]
    },
    {
      "cell_type": "code",
      "metadata": {
        "colab": {
          "base_uri": "https://localhost:8080/"
        },
        "id": "l3VHoLc-R35o",
        "outputId": "8ad097b7-2a45-454f-f4d9-f60f81f3eb3b"
      },
      "source": [
        "es = EarlyStopping(monitor='val_loss', mode='min', verbose=1)\n",
        "mc = ModelCheckpoint('best_model_LSTM_2_.h5', monitor='val_accuracy', mode='auto', verbose=1, save_best_only=True)\n",
        "#\n",
        "history_LSTM_2 = model_LSTM_2.fit(X_train, y_train, epochs=30, batch_size=16, validation_data=(X_validation, y_validation), callbacks=[es, mc])"
      ],
      "execution_count": 101,
      "outputs": [
        {
          "output_type": "stream",
          "text": [
            "Epoch 1/30\n",
            "509/509 [==============================] - 14s 18ms/step - loss: 0.0299 - accuracy: 0.9655 - val_loss: 0.0190 - val_accuracy: 0.9766\n",
            "\n",
            "Epoch 00001: val_accuracy improved from -inf to 0.97665, saving model to best_model_LSTM_2_.h5\n",
            "Epoch 2/30\n",
            "509/509 [==============================] - 8s 15ms/step - loss: 0.0122 - accuracy: 0.9862 - val_loss: 0.0203 - val_accuracy: 0.9834\n",
            "\n",
            "Epoch 00002: val_accuracy improved from 0.97665 to 0.98343, saving model to best_model_LSTM_2_.h5\n",
            "Epoch 00002: early stopping\n"
          ],
          "name": "stdout"
        }
      ]
    },
    {
      "cell_type": "code",
      "metadata": {
        "colab": {
          "base_uri": "https://localhost:8080/",
          "height": 542
        },
        "id": "rfdEw1ozSDZU",
        "outputId": "6624e560-1fe4-4995-e3a0-3c252c8978e5"
      },
      "source": [
        "accuracy_LSTM_2 = history_LSTM_2.history['accuracy']\n",
        "val_accuracy_LSTM_2 = history_LSTM_2.history['val_accuracy']\n",
        "fig = go.Figure()\n",
        "fig.add_trace(go.Scatter(x=np.arange(len(accuracy_LSTM_2)), y=accuracy_LSTM_2,\n",
        "                    name='Training Accuracy Model LSTM 2', line=dict(color='royalblue')))\n",
        "fig.add_trace(go.Scatter(x=np.arange(len(val_accuracy_LSTM_2)), y=val_accuracy_LSTM_2,\n",
        "                    name='Validation Accuracy Model LSTM 2', line = dict(color='firebrick')))\n",
        "\n",
        "fig.update_layout(xaxis_title='Epochs',\n",
        "                  yaxis_title='Accuracy',\n",
        "                  title={'text': \"Training and Validation Accuracy for Model LSTM 2\",\n",
        "                                                'x':0.5,\n",
        "                                                'xanchor': 'center',\n",
        "                                                'yanchor': 'top'})\n",
        "iplot(fig)"
      ],
      "execution_count": 102,
      "outputs": [
        {
          "output_type": "display_data",
          "data": {
            "text/html": [
              "<html>\n",
              "<head><meta charset=\"utf-8\" /></head>\n",
              "<body>\n",
              "    <div>\n",
              "            <script src=\"https://cdnjs.cloudflare.com/ajax/libs/mathjax/2.7.5/MathJax.js?config=TeX-AMS-MML_SVG\"></script><script type=\"text/javascript\">if (window.MathJax) {MathJax.Hub.Config({SVG: {font: \"STIX-Web\"}});}</script>\n",
              "                <script type=\"text/javascript\">window.PlotlyConfig = {MathJaxConfig: 'local'};</script>\n",
              "        <script src=\"https://cdn.plot.ly/plotly-latest.min.js\"></script>    \n",
              "            <div id=\"bdbe76a3-abbf-4cd9-9954-4381cf24c436\" class=\"plotly-graph-div\" style=\"height:525px; width:100%;\"></div>\n",
              "            <script type=\"text/javascript\">\n",
              "                \n",
              "                    window.PLOTLYENV=window.PLOTLYENV || {};\n",
              "                    \n",
              "                if (document.getElementById(\"bdbe76a3-abbf-4cd9-9954-4381cf24c436\")) {\n",
              "                    Plotly.newPlot(\n",
              "                        'bdbe76a3-abbf-4cd9-9954-4381cf24c436',\n",
              "                        [{\"line\": {\"color\": \"royalblue\"}, \"name\": \"Training Accuracy Model LSTM 2\", \"type\": \"scatter\", \"x\": [0, 1], \"y\": [0.9811877608299255, 0.9895487427711487]}, {\"line\": {\"color\": \"firebrick\"}, \"name\": \"Validation Accuracy Model LSTM 2\", \"type\": \"scatter\", \"x\": [0, 1], \"y\": [0.9766478538513184, 0.9834275245666504]}],\n",
              "                        {\"template\": {\"data\": {\"bar\": [{\"error_x\": {\"color\": \"#2a3f5f\"}, \"error_y\": {\"color\": \"#2a3f5f\"}, \"marker\": {\"line\": {\"color\": \"#E5ECF6\", \"width\": 0.5}}, \"type\": \"bar\"}], \"barpolar\": [{\"marker\": {\"line\": {\"color\": \"#E5ECF6\", \"width\": 0.5}}, \"type\": \"barpolar\"}], \"carpet\": [{\"aaxis\": {\"endlinecolor\": \"#2a3f5f\", \"gridcolor\": \"white\", \"linecolor\": \"white\", \"minorgridcolor\": \"white\", \"startlinecolor\": \"#2a3f5f\"}, \"baxis\": {\"endlinecolor\": \"#2a3f5f\", \"gridcolor\": \"white\", \"linecolor\": \"white\", \"minorgridcolor\": \"white\", \"startlinecolor\": \"#2a3f5f\"}, \"type\": \"carpet\"}], \"choropleth\": [{\"colorbar\": {\"outlinewidth\": 0, \"ticks\": \"\"}, \"type\": \"choropleth\"}], \"contour\": [{\"colorbar\": {\"outlinewidth\": 0, \"ticks\": \"\"}, \"colorscale\": [[0.0, \"#0d0887\"], [0.1111111111111111, \"#46039f\"], [0.2222222222222222, \"#7201a8\"], [0.3333333333333333, \"#9c179e\"], [0.4444444444444444, \"#bd3786\"], [0.5555555555555556, \"#d8576b\"], [0.6666666666666666, \"#ed7953\"], [0.7777777777777778, \"#fb9f3a\"], [0.8888888888888888, \"#fdca26\"], [1.0, \"#f0f921\"]], \"type\": \"contour\"}], \"contourcarpet\": [{\"colorbar\": {\"outlinewidth\": 0, \"ticks\": \"\"}, \"type\": \"contourcarpet\"}], \"heatmap\": [{\"colorbar\": {\"outlinewidth\": 0, \"ticks\": \"\"}, \"colorscale\": [[0.0, \"#0d0887\"], [0.1111111111111111, \"#46039f\"], [0.2222222222222222, \"#7201a8\"], [0.3333333333333333, \"#9c179e\"], [0.4444444444444444, \"#bd3786\"], [0.5555555555555556, \"#d8576b\"], [0.6666666666666666, \"#ed7953\"], [0.7777777777777778, \"#fb9f3a\"], [0.8888888888888888, \"#fdca26\"], [1.0, \"#f0f921\"]], \"type\": \"heatmap\"}], \"heatmapgl\": [{\"colorbar\": {\"outlinewidth\": 0, \"ticks\": \"\"}, \"colorscale\": [[0.0, \"#0d0887\"], [0.1111111111111111, \"#46039f\"], [0.2222222222222222, \"#7201a8\"], [0.3333333333333333, \"#9c179e\"], [0.4444444444444444, \"#bd3786\"], [0.5555555555555556, \"#d8576b\"], [0.6666666666666666, \"#ed7953\"], [0.7777777777777778, \"#fb9f3a\"], [0.8888888888888888, \"#fdca26\"], [1.0, \"#f0f921\"]], \"type\": \"heatmapgl\"}], \"histogram\": [{\"marker\": {\"colorbar\": {\"outlinewidth\": 0, \"ticks\": \"\"}}, \"type\": \"histogram\"}], \"histogram2d\": [{\"colorbar\": {\"outlinewidth\": 0, \"ticks\": \"\"}, \"colorscale\": [[0.0, \"#0d0887\"], [0.1111111111111111, \"#46039f\"], [0.2222222222222222, \"#7201a8\"], [0.3333333333333333, \"#9c179e\"], [0.4444444444444444, \"#bd3786\"], [0.5555555555555556, \"#d8576b\"], [0.6666666666666666, \"#ed7953\"], [0.7777777777777778, \"#fb9f3a\"], [0.8888888888888888, \"#fdca26\"], [1.0, \"#f0f921\"]], \"type\": \"histogram2d\"}], \"histogram2dcontour\": [{\"colorbar\": {\"outlinewidth\": 0, \"ticks\": \"\"}, \"colorscale\": [[0.0, \"#0d0887\"], [0.1111111111111111, \"#46039f\"], [0.2222222222222222, \"#7201a8\"], [0.3333333333333333, \"#9c179e\"], [0.4444444444444444, \"#bd3786\"], [0.5555555555555556, \"#d8576b\"], [0.6666666666666666, \"#ed7953\"], [0.7777777777777778, \"#fb9f3a\"], [0.8888888888888888, \"#fdca26\"], [1.0, \"#f0f921\"]], \"type\": \"histogram2dcontour\"}], \"mesh3d\": [{\"colorbar\": {\"outlinewidth\": 0, \"ticks\": \"\"}, \"type\": \"mesh3d\"}], \"parcoords\": [{\"line\": {\"colorbar\": {\"outlinewidth\": 0, \"ticks\": \"\"}}, \"type\": \"parcoords\"}], \"pie\": [{\"automargin\": true, \"type\": \"pie\"}], \"scatter\": [{\"marker\": {\"colorbar\": {\"outlinewidth\": 0, \"ticks\": \"\"}}, \"type\": \"scatter\"}], \"scatter3d\": [{\"line\": {\"colorbar\": {\"outlinewidth\": 0, \"ticks\": \"\"}}, \"marker\": {\"colorbar\": {\"outlinewidth\": 0, \"ticks\": \"\"}}, \"type\": \"scatter3d\"}], \"scattercarpet\": [{\"marker\": {\"colorbar\": {\"outlinewidth\": 0, \"ticks\": \"\"}}, \"type\": \"scattercarpet\"}], \"scattergeo\": [{\"marker\": {\"colorbar\": {\"outlinewidth\": 0, \"ticks\": \"\"}}, \"type\": \"scattergeo\"}], \"scattergl\": [{\"marker\": {\"colorbar\": {\"outlinewidth\": 0, \"ticks\": \"\"}}, \"type\": \"scattergl\"}], \"scattermapbox\": [{\"marker\": {\"colorbar\": {\"outlinewidth\": 0, \"ticks\": \"\"}}, \"type\": \"scattermapbox\"}], \"scatterpolar\": [{\"marker\": {\"colorbar\": {\"outlinewidth\": 0, \"ticks\": \"\"}}, \"type\": \"scatterpolar\"}], \"scatterpolargl\": [{\"marker\": {\"colorbar\": {\"outlinewidth\": 0, \"ticks\": \"\"}}, \"type\": \"scatterpolargl\"}], \"scatterternary\": [{\"marker\": {\"colorbar\": {\"outlinewidth\": 0, \"ticks\": \"\"}}, \"type\": \"scatterternary\"}], \"surface\": [{\"colorbar\": {\"outlinewidth\": 0, \"ticks\": \"\"}, \"colorscale\": [[0.0, \"#0d0887\"], [0.1111111111111111, \"#46039f\"], [0.2222222222222222, \"#7201a8\"], [0.3333333333333333, \"#9c179e\"], [0.4444444444444444, \"#bd3786\"], [0.5555555555555556, \"#d8576b\"], [0.6666666666666666, \"#ed7953\"], [0.7777777777777778, \"#fb9f3a\"], [0.8888888888888888, \"#fdca26\"], [1.0, \"#f0f921\"]], \"type\": \"surface\"}], \"table\": [{\"cells\": {\"fill\": {\"color\": \"#EBF0F8\"}, \"line\": {\"color\": \"white\"}}, \"header\": {\"fill\": {\"color\": \"#C8D4E3\"}, \"line\": {\"color\": \"white\"}}, \"type\": \"table\"}]}, \"layout\": {\"annotationdefaults\": {\"arrowcolor\": \"#2a3f5f\", \"arrowhead\": 0, \"arrowwidth\": 1}, \"coloraxis\": {\"colorbar\": {\"outlinewidth\": 0, \"ticks\": \"\"}}, \"colorscale\": {\"diverging\": [[0, \"#8e0152\"], [0.1, \"#c51b7d\"], [0.2, \"#de77ae\"], [0.3, \"#f1b6da\"], [0.4, \"#fde0ef\"], [0.5, \"#f7f7f7\"], [0.6, \"#e6f5d0\"], [0.7, \"#b8e186\"], [0.8, \"#7fbc41\"], [0.9, \"#4d9221\"], [1, \"#276419\"]], \"sequential\": [[0.0, \"#0d0887\"], [0.1111111111111111, \"#46039f\"], [0.2222222222222222, \"#7201a8\"], [0.3333333333333333, \"#9c179e\"], [0.4444444444444444, \"#bd3786\"], [0.5555555555555556, \"#d8576b\"], [0.6666666666666666, \"#ed7953\"], [0.7777777777777778, \"#fb9f3a\"], [0.8888888888888888, \"#fdca26\"], [1.0, \"#f0f921\"]], \"sequentialminus\": [[0.0, \"#0d0887\"], [0.1111111111111111, \"#46039f\"], [0.2222222222222222, \"#7201a8\"], [0.3333333333333333, \"#9c179e\"], [0.4444444444444444, \"#bd3786\"], [0.5555555555555556, \"#d8576b\"], [0.6666666666666666, \"#ed7953\"], [0.7777777777777778, \"#fb9f3a\"], [0.8888888888888888, \"#fdca26\"], [1.0, \"#f0f921\"]]}, \"colorway\": [\"#636efa\", \"#EF553B\", \"#00cc96\", \"#ab63fa\", \"#FFA15A\", \"#19d3f3\", \"#FF6692\", \"#B6E880\", \"#FF97FF\", \"#FECB52\"], \"font\": {\"color\": \"#2a3f5f\"}, \"geo\": {\"bgcolor\": \"white\", \"lakecolor\": \"white\", \"landcolor\": \"#E5ECF6\", \"showlakes\": true, \"showland\": true, \"subunitcolor\": \"white\"}, \"hoverlabel\": {\"align\": \"left\"}, \"hovermode\": \"closest\", \"mapbox\": {\"style\": \"light\"}, \"paper_bgcolor\": \"white\", \"plot_bgcolor\": \"#E5ECF6\", \"polar\": {\"angularaxis\": {\"gridcolor\": \"white\", \"linecolor\": \"white\", \"ticks\": \"\"}, \"bgcolor\": \"#E5ECF6\", \"radialaxis\": {\"gridcolor\": \"white\", \"linecolor\": \"white\", \"ticks\": \"\"}}, \"scene\": {\"xaxis\": {\"backgroundcolor\": \"#E5ECF6\", \"gridcolor\": \"white\", \"gridwidth\": 2, \"linecolor\": \"white\", \"showbackground\": true, \"ticks\": \"\", \"zerolinecolor\": \"white\"}, \"yaxis\": {\"backgroundcolor\": \"#E5ECF6\", \"gridcolor\": \"white\", \"gridwidth\": 2, \"linecolor\": \"white\", \"showbackground\": true, \"ticks\": \"\", \"zerolinecolor\": \"white\"}, \"zaxis\": {\"backgroundcolor\": \"#E5ECF6\", \"gridcolor\": \"white\", \"gridwidth\": 2, \"linecolor\": \"white\", \"showbackground\": true, \"ticks\": \"\", \"zerolinecolor\": \"white\"}}, \"shapedefaults\": {\"line\": {\"color\": \"#2a3f5f\"}}, \"ternary\": {\"aaxis\": {\"gridcolor\": \"white\", \"linecolor\": \"white\", \"ticks\": \"\"}, \"baxis\": {\"gridcolor\": \"white\", \"linecolor\": \"white\", \"ticks\": \"\"}, \"bgcolor\": \"#E5ECF6\", \"caxis\": {\"gridcolor\": \"white\", \"linecolor\": \"white\", \"ticks\": \"\"}}, \"title\": {\"x\": 0.05}, \"xaxis\": {\"automargin\": true, \"gridcolor\": \"white\", \"linecolor\": \"white\", \"ticks\": \"\", \"title\": {\"standoff\": 15}, \"zerolinecolor\": \"white\", \"zerolinewidth\": 2}, \"yaxis\": {\"automargin\": true, \"gridcolor\": \"white\", \"linecolor\": \"white\", \"ticks\": \"\", \"title\": {\"standoff\": 15}, \"zerolinecolor\": \"white\", \"zerolinewidth\": 2}}}, \"title\": {\"text\": \"Training and Validation Accuracy for Model LSTM 2\", \"x\": 0.5, \"xanchor\": \"center\", \"yanchor\": \"top\"}, \"xaxis\": {\"title\": {\"text\": \"Epochs\"}}, \"yaxis\": {\"title\": {\"text\": \"Accuracy\"}}},\n",
              "                        {\"responsive\": true}\n",
              "                    ).then(function(){\n",
              "                            \n",
              "var gd = document.getElementById('bdbe76a3-abbf-4cd9-9954-4381cf24c436');\n",
              "var x = new MutationObserver(function (mutations, observer) {{\n",
              "        var display = window.getComputedStyle(gd).display;\n",
              "        if (!display || display === 'none') {{\n",
              "            console.log([gd, 'removed!']);\n",
              "            Plotly.purge(gd);\n",
              "            observer.disconnect();\n",
              "        }}\n",
              "}});\n",
              "\n",
              "// Listen for the removal of the full notebook cells\n",
              "var notebookContainer = gd.closest('#notebook-container');\n",
              "if (notebookContainer) {{\n",
              "    x.observe(notebookContainer, {childList: true});\n",
              "}}\n",
              "\n",
              "// Listen for the clearing of the current output cell\n",
              "var outputEl = gd.closest('.output');\n",
              "if (outputEl) {{\n",
              "    x.observe(outputEl, {childList: true});\n",
              "}}\n",
              "\n",
              "                        })\n",
              "                };\n",
              "                \n",
              "            </script>\n",
              "        </div>\n",
              "</body>\n",
              "</html>"
            ]
          },
          "metadata": {
            "tags": []
          }
        }
      ]
    },
    {
      "cell_type": "markdown",
      "metadata": {
        "id": "wo-Epvf9i3mL"
      },
      "source": [
        "### LSTM Model 3"
      ]
    },
    {
      "cell_type": "code",
      "metadata": {
        "id": "GSJBSLJyi5ZS"
      },
      "source": [
        "K.clear_session()"
      ],
      "execution_count": 103,
      "outputs": []
    },
    {
      "cell_type": "code",
      "metadata": {
        "colab": {
          "base_uri": "https://localhost:8080/"
        },
        "id": "mz5Bt9QjV27L",
        "outputId": "f9fc1fc0-b5cc-48db-e8eb-8e43d1b7749a"
      },
      "source": [
        "model_LSTM_3 = Sequential()\n",
        "# 1st \n",
        "model_LSTM_3.add(LSTM(units = 64, return_sequences = True, input_shape = (timesteps, data_dim)))\n",
        "model_LSTM_3.add(Dropout(0.2))\n",
        "# 2nd\n",
        "model_LSTM_3.add(LSTM(units = 32, return_sequences = True))\n",
        "model_LSTM_3.add(Dropout(0.2))\n",
        "# 3rd\n",
        "model_LSTM_3.add(LSTM(units = 16))\n",
        "model_LSTM_3.add(Dropout(0.2))\n",
        "# output layer\n",
        "model_LSTM_3.add(Dense(units = 1, activation='relu'))\n",
        "model_LSTM_3.add(Dropout(0.2))\n",
        "\n",
        "model_LSTM_3.compile(optimizer = 'adam', loss = 'mean_squared_error', metrics=['accuracy'])\n",
        "print(model_LSTM_3.summary())"
      ],
      "execution_count": 104,
      "outputs": [
        {
          "output_type": "stream",
          "text": [
            "Model: \"sequential\"\n",
            "_________________________________________________________________\n",
            "Layer (type)                 Output Shape              Param #   \n",
            "=================================================================\n",
            "lstm (LSTM)                  (None, 10, 64)            18176     \n",
            "_________________________________________________________________\n",
            "dropout (Dropout)            (None, 10, 64)            0         \n",
            "_________________________________________________________________\n",
            "lstm_1 (LSTM)                (None, 10, 32)            12416     \n",
            "_________________________________________________________________\n",
            "dropout_1 (Dropout)          (None, 10, 32)            0         \n",
            "_________________________________________________________________\n",
            "lstm_2 (LSTM)                (None, 16)                3136      \n",
            "_________________________________________________________________\n",
            "dropout_2 (Dropout)          (None, 16)                0         \n",
            "_________________________________________________________________\n",
            "dense (Dense)                (None, 1)                 17        \n",
            "_________________________________________________________________\n",
            "dropout_3 (Dropout)          (None, 1)                 0         \n",
            "=================================================================\n",
            "Total params: 33,745\n",
            "Trainable params: 33,745\n",
            "Non-trainable params: 0\n",
            "_________________________________________________________________\n",
            "None\n"
          ],
          "name": "stdout"
        }
      ]
    },
    {
      "cell_type": "code",
      "metadata": {
        "colab": {
          "base_uri": "https://localhost:8080/"
        },
        "id": "ONyxc7WdWmFx",
        "outputId": "7b6cc713-3d4e-432e-c37c-d1cc8d29cb7a"
      },
      "source": [
        "es = EarlyStopping(monitor='val_loss', mode='min', verbose=1)\n",
        "mc = ModelCheckpoint('best_model_LSTM_3_.h5', monitor='val_accuracy', mode='auto', verbose=1, save_best_only=True)\n",
        "#\n",
        "history_LSTM_3 = model_LSTM_3.fit(X_train, y_train, epochs=15, batch_size=9, validation_data=(X_validation, y_validation), callbacks=[es, mc])"
      ],
      "execution_count": 105,
      "outputs": [
        {
          "output_type": "stream",
          "text": [
            "Epoch 1/15\n",
            "904/904 [==============================] - 20s 17ms/step - loss: 0.2122 - accuracy: 0.7878 - val_loss: 0.3623 - val_accuracy: 0.6377\n",
            "\n",
            "Epoch 00001: val_accuracy improved from -inf to 0.63766, saving model to best_model_LSTM_3_.h5\n",
            "Epoch 2/15\n",
            "904/904 [==============================] - 14s 15ms/step - loss: 0.2146 - accuracy: 0.7854 - val_loss: 0.3623 - val_accuracy: 0.6377\n",
            "\n",
            "Epoch 00002: val_accuracy did not improve from 0.63766\n",
            "Epoch 00002: early stopping\n"
          ],
          "name": "stdout"
        }
      ]
    },
    {
      "cell_type": "code",
      "metadata": {
        "colab": {
          "base_uri": "https://localhost:8080/",
          "height": 542
        },
        "id": "AD2xOCRlWJKv",
        "outputId": "e5eae3d9-eab1-49cb-a754-615a67a6d3fe"
      },
      "source": [
        "accuracy_LSTM_3 = history_LSTM_3.history['accuracy']\n",
        "val_accuracy_LSTM_3 = history_LSTM_3.history['val_accuracy']\n",
        "fig = go.Figure()\n",
        "fig.add_trace(go.Scatter(x=np.arange(len(accuracy_LSTM_3)), y=accuracy_LSTM_3,\n",
        "                    name='Training Accuracy Model LSTM 3', line=dict(color='royalblue')))\n",
        "fig.add_trace(go.Scatter(x=np.arange(len(val_accuracy_LSTM_3)), y=val_accuracy_LSTM_3,\n",
        "                    name='Validation Accuracy Model LSTM 3', line = dict(color='firebrick')))\n",
        "\n",
        "fig.update_layout(xaxis_title='Epochs',\n",
        "                  yaxis_title='Accuracy',\n",
        "                  title={'text': \"Training and Validation Accuracy for Model LSTM 3\",\n",
        "                                                'x':0.5,\n",
        "                                                'xanchor': 'center',\n",
        "                                                'yanchor': 'top'})\n",
        "iplot(fig)"
      ],
      "execution_count": 106,
      "outputs": [
        {
          "output_type": "display_data",
          "data": {
            "text/html": [
              "<html>\n",
              "<head><meta charset=\"utf-8\" /></head>\n",
              "<body>\n",
              "    <div>\n",
              "            <script src=\"https://cdnjs.cloudflare.com/ajax/libs/mathjax/2.7.5/MathJax.js?config=TeX-AMS-MML_SVG\"></script><script type=\"text/javascript\">if (window.MathJax) {MathJax.Hub.Config({SVG: {font: \"STIX-Web\"}});}</script>\n",
              "                <script type=\"text/javascript\">window.PlotlyConfig = {MathJaxConfig: 'local'};</script>\n",
              "        <script src=\"https://cdn.plot.ly/plotly-latest.min.js\"></script>    \n",
              "            <div id=\"71c1167f-ffb5-4a91-9647-5be6a2ca32a3\" class=\"plotly-graph-div\" style=\"height:525px; width:100%;\"></div>\n",
              "            <script type=\"text/javascript\">\n",
              "                \n",
              "                    window.PLOTLYENV=window.PLOTLYENV || {};\n",
              "                    \n",
              "                if (document.getElementById(\"71c1167f-ffb5-4a91-9647-5be6a2ca32a3\")) {\n",
              "                    Plotly.newPlot(\n",
              "                        '71c1167f-ffb5-4a91-9647-5be6a2ca32a3',\n",
              "                        [{\"line\": {\"color\": \"royalblue\"}, \"name\": \"Training Accuracy Model LSTM 3\", \"type\": \"scatter\", \"x\": [0, 1], \"y\": [0.7886388897895813, 0.7886388897895813]}, {\"line\": {\"color\": \"firebrick\"}, \"name\": \"Validation Accuracy Model LSTM 3\", \"type\": \"scatter\", \"x\": [0, 1], \"y\": [0.637664794921875, 0.637664794921875]}],\n",
              "                        {\"template\": {\"data\": {\"bar\": [{\"error_x\": {\"color\": \"#2a3f5f\"}, \"error_y\": {\"color\": \"#2a3f5f\"}, \"marker\": {\"line\": {\"color\": \"#E5ECF6\", \"width\": 0.5}}, \"type\": \"bar\"}], \"barpolar\": [{\"marker\": {\"line\": {\"color\": \"#E5ECF6\", \"width\": 0.5}}, \"type\": \"barpolar\"}], \"carpet\": [{\"aaxis\": {\"endlinecolor\": \"#2a3f5f\", \"gridcolor\": \"white\", \"linecolor\": \"white\", \"minorgridcolor\": \"white\", \"startlinecolor\": \"#2a3f5f\"}, \"baxis\": {\"endlinecolor\": \"#2a3f5f\", \"gridcolor\": \"white\", \"linecolor\": \"white\", \"minorgridcolor\": \"white\", \"startlinecolor\": \"#2a3f5f\"}, \"type\": \"carpet\"}], \"choropleth\": [{\"colorbar\": {\"outlinewidth\": 0, \"ticks\": \"\"}, \"type\": \"choropleth\"}], \"contour\": [{\"colorbar\": {\"outlinewidth\": 0, \"ticks\": \"\"}, \"colorscale\": [[0.0, \"#0d0887\"], [0.1111111111111111, \"#46039f\"], [0.2222222222222222, \"#7201a8\"], [0.3333333333333333, \"#9c179e\"], [0.4444444444444444, \"#bd3786\"], [0.5555555555555556, \"#d8576b\"], [0.6666666666666666, \"#ed7953\"], [0.7777777777777778, \"#fb9f3a\"], [0.8888888888888888, \"#fdca26\"], [1.0, \"#f0f921\"]], \"type\": \"contour\"}], \"contourcarpet\": [{\"colorbar\": {\"outlinewidth\": 0, \"ticks\": \"\"}, \"type\": \"contourcarpet\"}], \"heatmap\": [{\"colorbar\": {\"outlinewidth\": 0, \"ticks\": \"\"}, \"colorscale\": [[0.0, \"#0d0887\"], [0.1111111111111111, \"#46039f\"], [0.2222222222222222, \"#7201a8\"], [0.3333333333333333, \"#9c179e\"], [0.4444444444444444, \"#bd3786\"], [0.5555555555555556, \"#d8576b\"], [0.6666666666666666, \"#ed7953\"], [0.7777777777777778, \"#fb9f3a\"], [0.8888888888888888, \"#fdca26\"], [1.0, \"#f0f921\"]], \"type\": \"heatmap\"}], \"heatmapgl\": [{\"colorbar\": {\"outlinewidth\": 0, \"ticks\": \"\"}, \"colorscale\": [[0.0, \"#0d0887\"], [0.1111111111111111, \"#46039f\"], [0.2222222222222222, \"#7201a8\"], [0.3333333333333333, \"#9c179e\"], [0.4444444444444444, \"#bd3786\"], [0.5555555555555556, \"#d8576b\"], [0.6666666666666666, \"#ed7953\"], [0.7777777777777778, \"#fb9f3a\"], [0.8888888888888888, \"#fdca26\"], [1.0, \"#f0f921\"]], \"type\": \"heatmapgl\"}], \"histogram\": [{\"marker\": {\"colorbar\": {\"outlinewidth\": 0, \"ticks\": \"\"}}, \"type\": \"histogram\"}], \"histogram2d\": [{\"colorbar\": {\"outlinewidth\": 0, \"ticks\": \"\"}, \"colorscale\": [[0.0, \"#0d0887\"], [0.1111111111111111, \"#46039f\"], [0.2222222222222222, \"#7201a8\"], [0.3333333333333333, \"#9c179e\"], [0.4444444444444444, \"#bd3786\"], [0.5555555555555556, \"#d8576b\"], [0.6666666666666666, \"#ed7953\"], [0.7777777777777778, \"#fb9f3a\"], [0.8888888888888888, \"#fdca26\"], [1.0, \"#f0f921\"]], \"type\": \"histogram2d\"}], \"histogram2dcontour\": [{\"colorbar\": {\"outlinewidth\": 0, \"ticks\": \"\"}, \"colorscale\": [[0.0, \"#0d0887\"], [0.1111111111111111, \"#46039f\"], [0.2222222222222222, \"#7201a8\"], [0.3333333333333333, \"#9c179e\"], [0.4444444444444444, \"#bd3786\"], [0.5555555555555556, \"#d8576b\"], [0.6666666666666666, \"#ed7953\"], [0.7777777777777778, \"#fb9f3a\"], [0.8888888888888888, \"#fdca26\"], [1.0, \"#f0f921\"]], \"type\": \"histogram2dcontour\"}], \"mesh3d\": [{\"colorbar\": {\"outlinewidth\": 0, \"ticks\": \"\"}, \"type\": \"mesh3d\"}], \"parcoords\": [{\"line\": {\"colorbar\": {\"outlinewidth\": 0, \"ticks\": \"\"}}, \"type\": \"parcoords\"}], \"pie\": [{\"automargin\": true, \"type\": \"pie\"}], \"scatter\": [{\"marker\": {\"colorbar\": {\"outlinewidth\": 0, \"ticks\": \"\"}}, \"type\": \"scatter\"}], \"scatter3d\": [{\"line\": {\"colorbar\": {\"outlinewidth\": 0, \"ticks\": \"\"}}, \"marker\": {\"colorbar\": {\"outlinewidth\": 0, \"ticks\": \"\"}}, \"type\": \"scatter3d\"}], \"scattercarpet\": [{\"marker\": {\"colorbar\": {\"outlinewidth\": 0, \"ticks\": \"\"}}, \"type\": \"scattercarpet\"}], \"scattergeo\": [{\"marker\": {\"colorbar\": {\"outlinewidth\": 0, \"ticks\": \"\"}}, \"type\": \"scattergeo\"}], \"scattergl\": [{\"marker\": {\"colorbar\": {\"outlinewidth\": 0, \"ticks\": \"\"}}, \"type\": \"scattergl\"}], \"scattermapbox\": [{\"marker\": {\"colorbar\": {\"outlinewidth\": 0, \"ticks\": \"\"}}, \"type\": \"scattermapbox\"}], \"scatterpolar\": [{\"marker\": {\"colorbar\": {\"outlinewidth\": 0, \"ticks\": \"\"}}, \"type\": \"scatterpolar\"}], \"scatterpolargl\": [{\"marker\": {\"colorbar\": {\"outlinewidth\": 0, \"ticks\": \"\"}}, \"type\": \"scatterpolargl\"}], \"scatterternary\": [{\"marker\": {\"colorbar\": {\"outlinewidth\": 0, \"ticks\": \"\"}}, \"type\": \"scatterternary\"}], \"surface\": [{\"colorbar\": {\"outlinewidth\": 0, \"ticks\": \"\"}, \"colorscale\": [[0.0, \"#0d0887\"], [0.1111111111111111, \"#46039f\"], [0.2222222222222222, \"#7201a8\"], [0.3333333333333333, \"#9c179e\"], [0.4444444444444444, \"#bd3786\"], [0.5555555555555556, \"#d8576b\"], [0.6666666666666666, \"#ed7953\"], [0.7777777777777778, \"#fb9f3a\"], [0.8888888888888888, \"#fdca26\"], [1.0, \"#f0f921\"]], \"type\": \"surface\"}], \"table\": [{\"cells\": {\"fill\": {\"color\": \"#EBF0F8\"}, \"line\": {\"color\": \"white\"}}, \"header\": {\"fill\": {\"color\": \"#C8D4E3\"}, \"line\": {\"color\": \"white\"}}, \"type\": \"table\"}]}, \"layout\": {\"annotationdefaults\": {\"arrowcolor\": \"#2a3f5f\", \"arrowhead\": 0, \"arrowwidth\": 1}, \"coloraxis\": {\"colorbar\": {\"outlinewidth\": 0, \"ticks\": \"\"}}, \"colorscale\": {\"diverging\": [[0, \"#8e0152\"], [0.1, \"#c51b7d\"], [0.2, \"#de77ae\"], [0.3, \"#f1b6da\"], [0.4, \"#fde0ef\"], [0.5, \"#f7f7f7\"], [0.6, \"#e6f5d0\"], [0.7, \"#b8e186\"], [0.8, \"#7fbc41\"], [0.9, \"#4d9221\"], [1, \"#276419\"]], \"sequential\": [[0.0, \"#0d0887\"], [0.1111111111111111, \"#46039f\"], [0.2222222222222222, \"#7201a8\"], [0.3333333333333333, \"#9c179e\"], [0.4444444444444444, \"#bd3786\"], [0.5555555555555556, \"#d8576b\"], [0.6666666666666666, \"#ed7953\"], [0.7777777777777778, \"#fb9f3a\"], [0.8888888888888888, \"#fdca26\"], [1.0, \"#f0f921\"]], \"sequentialminus\": [[0.0, \"#0d0887\"], [0.1111111111111111, \"#46039f\"], [0.2222222222222222, \"#7201a8\"], [0.3333333333333333, \"#9c179e\"], [0.4444444444444444, \"#bd3786\"], [0.5555555555555556, \"#d8576b\"], [0.6666666666666666, \"#ed7953\"], [0.7777777777777778, \"#fb9f3a\"], [0.8888888888888888, \"#fdca26\"], [1.0, \"#f0f921\"]]}, \"colorway\": [\"#636efa\", \"#EF553B\", \"#00cc96\", \"#ab63fa\", \"#FFA15A\", \"#19d3f3\", \"#FF6692\", \"#B6E880\", \"#FF97FF\", \"#FECB52\"], \"font\": {\"color\": \"#2a3f5f\"}, \"geo\": {\"bgcolor\": \"white\", \"lakecolor\": \"white\", \"landcolor\": \"#E5ECF6\", \"showlakes\": true, \"showland\": true, \"subunitcolor\": \"white\"}, \"hoverlabel\": {\"align\": \"left\"}, \"hovermode\": \"closest\", \"mapbox\": {\"style\": \"light\"}, \"paper_bgcolor\": \"white\", \"plot_bgcolor\": \"#E5ECF6\", \"polar\": {\"angularaxis\": {\"gridcolor\": \"white\", \"linecolor\": \"white\", \"ticks\": \"\"}, \"bgcolor\": \"#E5ECF6\", \"radialaxis\": {\"gridcolor\": \"white\", \"linecolor\": \"white\", \"ticks\": \"\"}}, \"scene\": {\"xaxis\": {\"backgroundcolor\": \"#E5ECF6\", \"gridcolor\": \"white\", \"gridwidth\": 2, \"linecolor\": \"white\", \"showbackground\": true, \"ticks\": \"\", \"zerolinecolor\": \"white\"}, \"yaxis\": {\"backgroundcolor\": \"#E5ECF6\", \"gridcolor\": \"white\", \"gridwidth\": 2, \"linecolor\": \"white\", \"showbackground\": true, \"ticks\": \"\", \"zerolinecolor\": \"white\"}, \"zaxis\": {\"backgroundcolor\": \"#E5ECF6\", \"gridcolor\": \"white\", \"gridwidth\": 2, \"linecolor\": \"white\", \"showbackground\": true, \"ticks\": \"\", \"zerolinecolor\": \"white\"}}, \"shapedefaults\": {\"line\": {\"color\": \"#2a3f5f\"}}, \"ternary\": {\"aaxis\": {\"gridcolor\": \"white\", \"linecolor\": \"white\", \"ticks\": \"\"}, \"baxis\": {\"gridcolor\": \"white\", \"linecolor\": \"white\", \"ticks\": \"\"}, \"bgcolor\": \"#E5ECF6\", \"caxis\": {\"gridcolor\": \"white\", \"linecolor\": \"white\", \"ticks\": \"\"}}, \"title\": {\"x\": 0.05}, \"xaxis\": {\"automargin\": true, \"gridcolor\": \"white\", \"linecolor\": \"white\", \"ticks\": \"\", \"title\": {\"standoff\": 15}, \"zerolinecolor\": \"white\", \"zerolinewidth\": 2}, \"yaxis\": {\"automargin\": true, \"gridcolor\": \"white\", \"linecolor\": \"white\", \"ticks\": \"\", \"title\": {\"standoff\": 15}, \"zerolinecolor\": \"white\", \"zerolinewidth\": 2}}}, \"title\": {\"text\": \"Training and Validation Accuracy for Model LSTM 3\", \"x\": 0.5, \"xanchor\": \"center\", \"yanchor\": \"top\"}, \"xaxis\": {\"title\": {\"text\": \"Epochs\"}}, \"yaxis\": {\"title\": {\"text\": \"Accuracy\"}}},\n",
              "                        {\"responsive\": true}\n",
              "                    ).then(function(){\n",
              "                            \n",
              "var gd = document.getElementById('71c1167f-ffb5-4a91-9647-5be6a2ca32a3');\n",
              "var x = new MutationObserver(function (mutations, observer) {{\n",
              "        var display = window.getComputedStyle(gd).display;\n",
              "        if (!display || display === 'none') {{\n",
              "            console.log([gd, 'removed!']);\n",
              "            Plotly.purge(gd);\n",
              "            observer.disconnect();\n",
              "        }}\n",
              "}});\n",
              "\n",
              "// Listen for the removal of the full notebook cells\n",
              "var notebookContainer = gd.closest('#notebook-container');\n",
              "if (notebookContainer) {{\n",
              "    x.observe(notebookContainer, {childList: true});\n",
              "}}\n",
              "\n",
              "// Listen for the clearing of the current output cell\n",
              "var outputEl = gd.closest('.output');\n",
              "if (outputEl) {{\n",
              "    x.observe(outputEl, {childList: true});\n",
              "}}\n",
              "\n",
              "                        })\n",
              "                };\n",
              "                \n",
              "            </script>\n",
              "        </div>\n",
              "</body>\n",
              "</html>"
            ]
          },
          "metadata": {
            "tags": []
          }
        }
      ]
    },
    {
      "cell_type": "markdown",
      "metadata": {
        "id": "gJQr_2GPi7aG"
      },
      "source": [
        "### LSTM Model 4"
      ]
    },
    {
      "cell_type": "code",
      "metadata": {
        "id": "DEzM1clMi9Co"
      },
      "source": [
        "K.clear_session()"
      ],
      "execution_count": 107,
      "outputs": []
    },
    {
      "cell_type": "code",
      "metadata": {
        "colab": {
          "base_uri": "https://localhost:8080/"
        },
        "id": "qzxSMvEESfOh",
        "outputId": "65696b2f-11a6-4922-b906-7adcf4fa666b"
      },
      "source": [
        "model_LSTM_4 = Sequential()\n",
        "# 1st \n",
        "model_LSTM_4.add(LSTM(units = 90, return_sequences = True, input_shape = (timesteps, data_dim)))\n",
        "# 2nd\n",
        "model_LSTM_4.add(LSTM(units = 81, return_sequences = True))\n",
        "# 3rd\n",
        "model_LSTM_4.add(LSTM(units = 63, return_sequences = True))\n",
        "# 4th\n",
        "model_LSTM_4.add(LSTM(units = 45, return_sequences = True))\n",
        "# 5th\n",
        "model_LSTM_4.add(LSTM(units = 27, return_sequences = True))\n",
        "# 6th\n",
        "model_LSTM_4.add(LSTM(units = 9))\n",
        "# output layer\n",
        "model_LSTM_4.add(Dense(units = 1, activation='sigmoid'))\n",
        "\n",
        "model_LSTM_4.compile(optimizer = 'adam', loss = 'mean_squared_error', metrics=['accuracy'])\n",
        "print(model_LSTM_4.summary())"
      ],
      "execution_count": 109,
      "outputs": [
        {
          "output_type": "stream",
          "text": [
            "Model: \"sequential_1\"\n",
            "_________________________________________________________________\n",
            "Layer (type)                 Output Shape              Param #   \n",
            "=================================================================\n",
            "lstm_6 (LSTM)                (None, 10, 90)            34920     \n",
            "_________________________________________________________________\n",
            "lstm_7 (LSTM)                (None, 10, 81)            55728     \n",
            "_________________________________________________________________\n",
            "lstm_8 (LSTM)                (None, 10, 63)            36540     \n",
            "_________________________________________________________________\n",
            "lstm_9 (LSTM)                (None, 10, 45)            19620     \n",
            "_________________________________________________________________\n",
            "lstm_10 (LSTM)               (None, 10, 27)            7884      \n",
            "_________________________________________________________________\n",
            "lstm_11 (LSTM)               (None, 9)                 1332      \n",
            "_________________________________________________________________\n",
            "dense_1 (Dense)              (None, 1)                 10        \n",
            "=================================================================\n",
            "Total params: 156,034\n",
            "Trainable params: 156,034\n",
            "Non-trainable params: 0\n",
            "_________________________________________________________________\n",
            "None\n"
          ],
          "name": "stdout"
        }
      ]
    },
    {
      "cell_type": "code",
      "metadata": {
        "colab": {
          "base_uri": "https://localhost:8080/"
        },
        "id": "bR3nHZtcTGmA",
        "outputId": "97737d2d-15f8-4db7-ca9f-5561e4dc47e7"
      },
      "source": [
        "es = EarlyStopping(monitor='val_loss', mode='min', verbose=1)\n",
        "mc = ModelCheckpoint('best_model_LSTM_4_.h5', monitor='val_accuracy', mode='auto', verbose=1, save_best_only=True)\n",
        "#\n",
        "history_LSTM_4 = model_LSTM_4.fit(X_train, y_train, epochs=100, batch_size=81, validation_data=(X_validation, y_validation), callbacks=[es, mc])"
      ],
      "execution_count": 110,
      "outputs": [
        {
          "output_type": "stream",
          "text": [
            "Epoch 1/100\n",
            "101/101 [==============================] - 18s 84ms/step - loss: 0.1167 - accuracy: 0.8558 - val_loss: 0.0378 - val_accuracy: 0.9589\n",
            "\n",
            "Epoch 00001: val_accuracy improved from -inf to 0.95895, saving model to best_model_LSTM_4_.h5\n",
            "Epoch 2/100\n",
            "101/101 [==============================] - 6s 61ms/step - loss: 0.0180 - accuracy: 0.9814 - val_loss: 0.0310 - val_accuracy: 0.9665\n",
            "\n",
            "Epoch 00002: val_accuracy improved from 0.95895 to 0.96648, saving model to best_model_LSTM_4_.h5\n",
            "Epoch 3/100\n",
            "101/101 [==============================] - 6s 61ms/step - loss: 0.0192 - accuracy: 0.9794 - val_loss: 0.0275 - val_accuracy: 0.9687\n",
            "\n",
            "Epoch 00003: val_accuracy improved from 0.96648 to 0.96874, saving model to best_model_LSTM_4_.h5\n",
            "Epoch 4/100\n",
            "101/101 [==============================] - 6s 61ms/step - loss: 0.0152 - accuracy: 0.9808 - val_loss: 0.0254 - val_accuracy: 0.9718\n",
            "\n",
            "Epoch 00004: val_accuracy improved from 0.96874 to 0.97175, saving model to best_model_LSTM_4_.h5\n",
            "Epoch 5/100\n",
            "101/101 [==============================] - 6s 62ms/step - loss: 0.0118 - accuracy: 0.9869 - val_loss: 0.0375 - val_accuracy: 0.9733\n",
            "\n",
            "Epoch 00005: val_accuracy improved from 0.97175 to 0.97326, saving model to best_model_LSTM_4_.h5\n",
            "Epoch 00005: early stopping\n"
          ],
          "name": "stdout"
        }
      ]
    },
    {
      "cell_type": "code",
      "metadata": {
        "colab": {
          "base_uri": "https://localhost:8080/",
          "height": 542
        },
        "id": "ujtlVU19TmYu",
        "outputId": "1b24c9b8-7cab-4f0e-dbcf-b002bb69f798"
      },
      "source": [
        "accuracy_LSTM_4 = history_LSTM_4.history['accuracy']\n",
        "val_accuracy_LSTM_4 = history_LSTM_4.history['val_accuracy']\n",
        "fig = go.Figure()\n",
        "fig.add_trace(go.Scatter(x=np.arange(len(accuracy_LSTM_4)), y=accuracy_LSTM_4,\n",
        "                    name='Training Accuracy Model LSTM 4', line=dict(color='royalblue')))\n",
        "fig.add_trace(go.Scatter(x=np.arange(len(val_accuracy_LSTM_4)), y=val_accuracy_LSTM_4,\n",
        "                    name='Validation Accuracy Model LSTM 4', line = dict(color='firebrick')))\n",
        "\n",
        "fig.update_layout(xaxis_title='Epochs',\n",
        "                  yaxis_title='Accuracy',\n",
        "                  title={'text': \"Training and Validation Accuracy for Model LSTM 4\",\n",
        "                                                'x':0.5,\n",
        "                                                'xanchor': 'center',\n",
        "                                                'yanchor': 'top'})\n",
        "iplot(fig)"
      ],
      "execution_count": 111,
      "outputs": [
        {
          "output_type": "display_data",
          "data": {
            "text/html": [
              "<html>\n",
              "<head><meta charset=\"utf-8\" /></head>\n",
              "<body>\n",
              "    <div>\n",
              "            <script src=\"https://cdnjs.cloudflare.com/ajax/libs/mathjax/2.7.5/MathJax.js?config=TeX-AMS-MML_SVG\"></script><script type=\"text/javascript\">if (window.MathJax) {MathJax.Hub.Config({SVG: {font: \"STIX-Web\"}});}</script>\n",
              "                <script type=\"text/javascript\">window.PlotlyConfig = {MathJaxConfig: 'local'};</script>\n",
              "        <script src=\"https://cdn.plot.ly/plotly-latest.min.js\"></script>    \n",
              "            <div id=\"e04b0d46-ec3b-48ab-b5bb-46351e8e54f9\" class=\"plotly-graph-div\" style=\"height:525px; width:100%;\"></div>\n",
              "            <script type=\"text/javascript\">\n",
              "                \n",
              "                    window.PLOTLYENV=window.PLOTLYENV || {};\n",
              "                    \n",
              "                if (document.getElementById(\"e04b0d46-ec3b-48ab-b5bb-46351e8e54f9\")) {\n",
              "                    Plotly.newPlot(\n",
              "                        'e04b0d46-ec3b-48ab-b5bb-46351e8e54f9',\n",
              "                        [{\"line\": {\"color\": \"royalblue\"}, \"name\": \"Training Accuracy Model LSTM 4\", \"type\": \"scatter\", \"x\": [0, 1, 2, 3, 4], \"y\": [0.9364318251609802, 0.977744996547699, 0.9802041053771973, 0.9829091429710388, 0.985737144947052]}, {\"line\": {\"color\": \"firebrick\"}, \"name\": \"Validation Accuracy Model LSTM 4\", \"type\": \"scatter\", \"x\": [0, 1, 2, 3, 4], \"y\": [0.9589453935623169, 0.9664783477783203, 0.9687382578849792, 0.9717513918876648, 0.9732580184936523]}],\n",
              "                        {\"template\": {\"data\": {\"bar\": [{\"error_x\": {\"color\": \"#2a3f5f\"}, \"error_y\": {\"color\": \"#2a3f5f\"}, \"marker\": {\"line\": {\"color\": \"#E5ECF6\", \"width\": 0.5}}, \"type\": \"bar\"}], \"barpolar\": [{\"marker\": {\"line\": {\"color\": \"#E5ECF6\", \"width\": 0.5}}, \"type\": \"barpolar\"}], \"carpet\": [{\"aaxis\": {\"endlinecolor\": \"#2a3f5f\", \"gridcolor\": \"white\", \"linecolor\": \"white\", \"minorgridcolor\": \"white\", \"startlinecolor\": \"#2a3f5f\"}, \"baxis\": {\"endlinecolor\": \"#2a3f5f\", \"gridcolor\": \"white\", \"linecolor\": \"white\", \"minorgridcolor\": \"white\", \"startlinecolor\": \"#2a3f5f\"}, \"type\": \"carpet\"}], \"choropleth\": [{\"colorbar\": {\"outlinewidth\": 0, \"ticks\": \"\"}, \"type\": \"choropleth\"}], \"contour\": [{\"colorbar\": {\"outlinewidth\": 0, \"ticks\": \"\"}, \"colorscale\": [[0.0, \"#0d0887\"], [0.1111111111111111, \"#46039f\"], [0.2222222222222222, \"#7201a8\"], [0.3333333333333333, \"#9c179e\"], [0.4444444444444444, \"#bd3786\"], [0.5555555555555556, \"#d8576b\"], [0.6666666666666666, \"#ed7953\"], [0.7777777777777778, \"#fb9f3a\"], [0.8888888888888888, \"#fdca26\"], [1.0, \"#f0f921\"]], \"type\": \"contour\"}], \"contourcarpet\": [{\"colorbar\": {\"outlinewidth\": 0, \"ticks\": \"\"}, \"type\": \"contourcarpet\"}], \"heatmap\": [{\"colorbar\": {\"outlinewidth\": 0, \"ticks\": \"\"}, \"colorscale\": [[0.0, \"#0d0887\"], [0.1111111111111111, \"#46039f\"], [0.2222222222222222, \"#7201a8\"], [0.3333333333333333, \"#9c179e\"], [0.4444444444444444, \"#bd3786\"], [0.5555555555555556, \"#d8576b\"], [0.6666666666666666, \"#ed7953\"], [0.7777777777777778, \"#fb9f3a\"], [0.8888888888888888, \"#fdca26\"], [1.0, \"#f0f921\"]], \"type\": \"heatmap\"}], \"heatmapgl\": [{\"colorbar\": {\"outlinewidth\": 0, \"ticks\": \"\"}, \"colorscale\": [[0.0, \"#0d0887\"], [0.1111111111111111, \"#46039f\"], [0.2222222222222222, \"#7201a8\"], [0.3333333333333333, \"#9c179e\"], [0.4444444444444444, \"#bd3786\"], [0.5555555555555556, \"#d8576b\"], [0.6666666666666666, \"#ed7953\"], [0.7777777777777778, \"#fb9f3a\"], [0.8888888888888888, \"#fdca26\"], [1.0, \"#f0f921\"]], \"type\": \"heatmapgl\"}], \"histogram\": [{\"marker\": {\"colorbar\": {\"outlinewidth\": 0, \"ticks\": \"\"}}, \"type\": \"histogram\"}], \"histogram2d\": [{\"colorbar\": {\"outlinewidth\": 0, \"ticks\": \"\"}, \"colorscale\": [[0.0, \"#0d0887\"], [0.1111111111111111, \"#46039f\"], [0.2222222222222222, \"#7201a8\"], [0.3333333333333333, \"#9c179e\"], [0.4444444444444444, \"#bd3786\"], [0.5555555555555556, \"#d8576b\"], [0.6666666666666666, \"#ed7953\"], [0.7777777777777778, \"#fb9f3a\"], [0.8888888888888888, \"#fdca26\"], [1.0, \"#f0f921\"]], \"type\": \"histogram2d\"}], \"histogram2dcontour\": [{\"colorbar\": {\"outlinewidth\": 0, \"ticks\": \"\"}, \"colorscale\": [[0.0, \"#0d0887\"], [0.1111111111111111, \"#46039f\"], [0.2222222222222222, \"#7201a8\"], [0.3333333333333333, \"#9c179e\"], [0.4444444444444444, \"#bd3786\"], [0.5555555555555556, \"#d8576b\"], [0.6666666666666666, \"#ed7953\"], [0.7777777777777778, \"#fb9f3a\"], [0.8888888888888888, \"#fdca26\"], [1.0, \"#f0f921\"]], \"type\": \"histogram2dcontour\"}], \"mesh3d\": [{\"colorbar\": {\"outlinewidth\": 0, \"ticks\": \"\"}, \"type\": \"mesh3d\"}], \"parcoords\": [{\"line\": {\"colorbar\": {\"outlinewidth\": 0, \"ticks\": \"\"}}, \"type\": \"parcoords\"}], \"pie\": [{\"automargin\": true, \"type\": \"pie\"}], \"scatter\": [{\"marker\": {\"colorbar\": {\"outlinewidth\": 0, \"ticks\": \"\"}}, \"type\": \"scatter\"}], \"scatter3d\": [{\"line\": {\"colorbar\": {\"outlinewidth\": 0, \"ticks\": \"\"}}, \"marker\": {\"colorbar\": {\"outlinewidth\": 0, \"ticks\": \"\"}}, \"type\": \"scatter3d\"}], \"scattercarpet\": [{\"marker\": {\"colorbar\": {\"outlinewidth\": 0, \"ticks\": \"\"}}, \"type\": \"scattercarpet\"}], \"scattergeo\": [{\"marker\": {\"colorbar\": {\"outlinewidth\": 0, \"ticks\": \"\"}}, \"type\": \"scattergeo\"}], \"scattergl\": [{\"marker\": {\"colorbar\": {\"outlinewidth\": 0, \"ticks\": \"\"}}, \"type\": \"scattergl\"}], \"scattermapbox\": [{\"marker\": {\"colorbar\": {\"outlinewidth\": 0, \"ticks\": \"\"}}, \"type\": \"scattermapbox\"}], \"scatterpolar\": [{\"marker\": {\"colorbar\": {\"outlinewidth\": 0, \"ticks\": \"\"}}, \"type\": \"scatterpolar\"}], \"scatterpolargl\": [{\"marker\": {\"colorbar\": {\"outlinewidth\": 0, \"ticks\": \"\"}}, \"type\": \"scatterpolargl\"}], \"scatterternary\": [{\"marker\": {\"colorbar\": {\"outlinewidth\": 0, \"ticks\": \"\"}}, \"type\": \"scatterternary\"}], \"surface\": [{\"colorbar\": {\"outlinewidth\": 0, \"ticks\": \"\"}, \"colorscale\": [[0.0, \"#0d0887\"], [0.1111111111111111, \"#46039f\"], [0.2222222222222222, \"#7201a8\"], [0.3333333333333333, \"#9c179e\"], [0.4444444444444444, \"#bd3786\"], [0.5555555555555556, \"#d8576b\"], [0.6666666666666666, \"#ed7953\"], [0.7777777777777778, \"#fb9f3a\"], [0.8888888888888888, \"#fdca26\"], [1.0, \"#f0f921\"]], \"type\": \"surface\"}], \"table\": [{\"cells\": {\"fill\": {\"color\": \"#EBF0F8\"}, \"line\": {\"color\": \"white\"}}, \"header\": {\"fill\": {\"color\": \"#C8D4E3\"}, \"line\": {\"color\": \"white\"}}, \"type\": \"table\"}]}, \"layout\": {\"annotationdefaults\": {\"arrowcolor\": \"#2a3f5f\", \"arrowhead\": 0, \"arrowwidth\": 1}, \"coloraxis\": {\"colorbar\": {\"outlinewidth\": 0, \"ticks\": \"\"}}, \"colorscale\": {\"diverging\": [[0, \"#8e0152\"], [0.1, \"#c51b7d\"], [0.2, \"#de77ae\"], [0.3, \"#f1b6da\"], [0.4, \"#fde0ef\"], [0.5, \"#f7f7f7\"], [0.6, \"#e6f5d0\"], [0.7, \"#b8e186\"], [0.8, \"#7fbc41\"], [0.9, \"#4d9221\"], [1, \"#276419\"]], \"sequential\": [[0.0, \"#0d0887\"], [0.1111111111111111, \"#46039f\"], [0.2222222222222222, \"#7201a8\"], [0.3333333333333333, \"#9c179e\"], [0.4444444444444444, \"#bd3786\"], [0.5555555555555556, \"#d8576b\"], [0.6666666666666666, \"#ed7953\"], [0.7777777777777778, \"#fb9f3a\"], [0.8888888888888888, \"#fdca26\"], [1.0, \"#f0f921\"]], \"sequentialminus\": [[0.0, \"#0d0887\"], [0.1111111111111111, \"#46039f\"], [0.2222222222222222, \"#7201a8\"], [0.3333333333333333, \"#9c179e\"], [0.4444444444444444, \"#bd3786\"], [0.5555555555555556, \"#d8576b\"], [0.6666666666666666, \"#ed7953\"], [0.7777777777777778, \"#fb9f3a\"], [0.8888888888888888, \"#fdca26\"], [1.0, \"#f0f921\"]]}, \"colorway\": [\"#636efa\", \"#EF553B\", \"#00cc96\", \"#ab63fa\", \"#FFA15A\", \"#19d3f3\", \"#FF6692\", \"#B6E880\", \"#FF97FF\", \"#FECB52\"], \"font\": {\"color\": \"#2a3f5f\"}, \"geo\": {\"bgcolor\": \"white\", \"lakecolor\": \"white\", \"landcolor\": \"#E5ECF6\", \"showlakes\": true, \"showland\": true, \"subunitcolor\": \"white\"}, \"hoverlabel\": {\"align\": \"left\"}, \"hovermode\": \"closest\", \"mapbox\": {\"style\": \"light\"}, \"paper_bgcolor\": \"white\", \"plot_bgcolor\": \"#E5ECF6\", \"polar\": {\"angularaxis\": {\"gridcolor\": \"white\", \"linecolor\": \"white\", \"ticks\": \"\"}, \"bgcolor\": \"#E5ECF6\", \"radialaxis\": {\"gridcolor\": \"white\", \"linecolor\": \"white\", \"ticks\": \"\"}}, \"scene\": {\"xaxis\": {\"backgroundcolor\": \"#E5ECF6\", \"gridcolor\": \"white\", \"gridwidth\": 2, \"linecolor\": \"white\", \"showbackground\": true, \"ticks\": \"\", \"zerolinecolor\": \"white\"}, \"yaxis\": {\"backgroundcolor\": \"#E5ECF6\", \"gridcolor\": \"white\", \"gridwidth\": 2, \"linecolor\": \"white\", \"showbackground\": true, \"ticks\": \"\", \"zerolinecolor\": \"white\"}, \"zaxis\": {\"backgroundcolor\": \"#E5ECF6\", \"gridcolor\": \"white\", \"gridwidth\": 2, \"linecolor\": \"white\", \"showbackground\": true, \"ticks\": \"\", \"zerolinecolor\": \"white\"}}, \"shapedefaults\": {\"line\": {\"color\": \"#2a3f5f\"}}, \"ternary\": {\"aaxis\": {\"gridcolor\": \"white\", \"linecolor\": \"white\", \"ticks\": \"\"}, \"baxis\": {\"gridcolor\": \"white\", \"linecolor\": \"white\", \"ticks\": \"\"}, \"bgcolor\": \"#E5ECF6\", \"caxis\": {\"gridcolor\": \"white\", \"linecolor\": \"white\", \"ticks\": \"\"}}, \"title\": {\"x\": 0.05}, \"xaxis\": {\"automargin\": true, \"gridcolor\": \"white\", \"linecolor\": \"white\", \"ticks\": \"\", \"title\": {\"standoff\": 15}, \"zerolinecolor\": \"white\", \"zerolinewidth\": 2}, \"yaxis\": {\"automargin\": true, \"gridcolor\": \"white\", \"linecolor\": \"white\", \"ticks\": \"\", \"title\": {\"standoff\": 15}, \"zerolinecolor\": \"white\", \"zerolinewidth\": 2}}}, \"title\": {\"text\": \"Training and Validation Accuracy for Model LSTM 4\", \"x\": 0.5, \"xanchor\": \"center\", \"yanchor\": \"top\"}, \"xaxis\": {\"title\": {\"text\": \"Epochs\"}}, \"yaxis\": {\"title\": {\"text\": \"Accuracy\"}}},\n",
              "                        {\"responsive\": true}\n",
              "                    ).then(function(){\n",
              "                            \n",
              "var gd = document.getElementById('e04b0d46-ec3b-48ab-b5bb-46351e8e54f9');\n",
              "var x = new MutationObserver(function (mutations, observer) {{\n",
              "        var display = window.getComputedStyle(gd).display;\n",
              "        if (!display || display === 'none') {{\n",
              "            console.log([gd, 'removed!']);\n",
              "            Plotly.purge(gd);\n",
              "            observer.disconnect();\n",
              "        }}\n",
              "}});\n",
              "\n",
              "// Listen for the removal of the full notebook cells\n",
              "var notebookContainer = gd.closest('#notebook-container');\n",
              "if (notebookContainer) {{\n",
              "    x.observe(notebookContainer, {childList: true});\n",
              "}}\n",
              "\n",
              "// Listen for the clearing of the current output cell\n",
              "var outputEl = gd.closest('.output');\n",
              "if (outputEl) {{\n",
              "    x.observe(outputEl, {childList: true});\n",
              "}}\n",
              "\n",
              "                        })\n",
              "                };\n",
              "                \n",
              "            </script>\n",
              "        </div>\n",
              "</body>\n",
              "</html>"
            ]
          },
          "metadata": {
            "tags": []
          }
        }
      ]
    },
    {
      "cell_type": "code",
      "metadata": {
        "colab": {
          "base_uri": "https://localhost:8080/",
          "height": 542
        },
        "id": "yaMVvWQWXWCH",
        "outputId": "9e089196-6b99-46a2-b858-5a6b5814bdff"
      },
      "source": [
        "loss1 = history_LSTM_1.history['loss']\n",
        "val_loss1 = history_LSTM_1.history['val_loss']\n",
        "loss2 = history_LSTM_2.history['loss']\n",
        "val_loss2 = history_LSTM_2.history['val_loss']\n",
        "loss3 = history_LSTM_3.history['loss']\n",
        "val_loss3 = history_LSTM_3.history['val_loss']\n",
        "loss4 = history_LSTM_4.history['loss']\n",
        "val_loss4 = history_LSTM_4.history['val_loss']\n",
        "\n",
        "\n",
        "fig = go.Figure()\n",
        "fig.add_trace(go.Scatter(x=np.arange(len(loss1)), y=loss1,\n",
        "                    name='Training Loss Model LSTM 1', line=dict(color='royalblue')))\n",
        "fig.add_trace(go.Scatter(x=np.arange(len(val_loss1)), y=val_loss1,\n",
        "                    name='Validation Loss Model LSTM 1', line = dict(color='firebrick')))\n",
        "\n",
        "fig.add_trace(go.Scatter(x=np.arange(len(loss2)), y=loss2,\n",
        "                    name='Training Loss Model LSTM 2', line=dict(color='royalblue', dash='dash')))\n",
        "fig.add_trace(go.Scatter(x=np.arange(len(val_loss2)), y=val_loss2,\n",
        "                    name='Validation Loss Model LSTM 2', line = dict(color='firebrick', dash='dash')))\n",
        "\n",
        "fig.add_trace(go.Scatter(x=np.arange(len(loss3)), y=loss3,\n",
        "                    name='Training Loss Model LSTM 3', line=dict(color='royalblue', dash='dot')))\n",
        "fig.add_trace(go.Scatter(x=np.arange(len(val_loss3)), y=val_loss3,\n",
        "                    name='Validation Loss Model LSTM 3', line = dict(color='firebrick', dash='dot')))\n",
        "\n",
        "fig.add_trace(go.Scatter(x=np.arange(len(loss4)), y=loss4,\n",
        "                    name='Training Loss Model LSTM 4', line=dict(color='royalblue', dash='longdashdot')))\n",
        "fig.add_trace(go.Scatter(x=np.arange(len(val_loss4)), y=val_loss4,\n",
        "                    name='Validation Loss Model LSTM 4', line = dict(color='firebrick', dash='longdashdot')))\n",
        "\n",
        "\n",
        "fig.update_layout(xaxis_title='Epochs',\n",
        "                  yaxis_title='Loss',\n",
        "                  title={'text': \"Training and Validation Losses for Different Models\",\n",
        "                                                'x':0.5,\n",
        "                                                'xanchor': 'center',\n",
        "                                                'yanchor': 'top'})\n",
        "iplot(fig)"
      ],
      "execution_count": 112,
      "outputs": [
        {
          "output_type": "display_data",
          "data": {
            "text/html": [
              "<html>\n",
              "<head><meta charset=\"utf-8\" /></head>\n",
              "<body>\n",
              "    <div>\n",
              "            <script src=\"https://cdnjs.cloudflare.com/ajax/libs/mathjax/2.7.5/MathJax.js?config=TeX-AMS-MML_SVG\"></script><script type=\"text/javascript\">if (window.MathJax) {MathJax.Hub.Config({SVG: {font: \"STIX-Web\"}});}</script>\n",
              "                <script type=\"text/javascript\">window.PlotlyConfig = {MathJaxConfig: 'local'};</script>\n",
              "        <script src=\"https://cdn.plot.ly/plotly-latest.min.js\"></script>    \n",
              "            <div id=\"91cedf04-c67b-4da1-8d23-f7763fdfa3d5\" class=\"plotly-graph-div\" style=\"height:525px; width:100%;\"></div>\n",
              "            <script type=\"text/javascript\">\n",
              "                \n",
              "                    window.PLOTLYENV=window.PLOTLYENV || {};\n",
              "                    \n",
              "                if (document.getElementById(\"91cedf04-c67b-4da1-8d23-f7763fdfa3d5\")) {\n",
              "                    Plotly.newPlot(\n",
              "                        '91cedf04-c67b-4da1-8d23-f7763fdfa3d5',\n",
              "                        [{\"line\": {\"color\": \"royalblue\"}, \"name\": \"Training Loss Model LSTM 1\", \"type\": \"scatter\", \"x\": [0, 1, 2, 3, 4, 5], \"y\": [0.03154580667614937, 0.014017486944794655, 0.010635298676788807, 0.006146678235381842, 0.005219175014644861, 0.004966712556779385]}, {\"line\": {\"color\": \"firebrick\"}, \"name\": \"Validation Loss Model LSTM 1\", \"type\": \"scatter\", \"x\": [0, 1, 2, 3, 4, 5], \"y\": [0.02948113903403282, 0.025507068261504173, 0.014636127278208733, 0.009499570354819298, 0.009348570369184017, 0.009505748748779297]}, {\"line\": {\"color\": \"royalblue\", \"dash\": \"dash\"}, \"name\": \"Training Loss Model LSTM 2\", \"type\": \"scatter\", \"x\": [0, 1], \"y\": [0.01643485762178898, 0.00878151599317789]}, {\"line\": {\"color\": \"firebrick\", \"dash\": \"dash\"}, \"name\": \"Validation Loss Model LSTM 2\", \"type\": \"scatter\", \"x\": [0, 1], \"y\": [0.019018566235899925, 0.020346416160464287]}, {\"line\": {\"color\": \"royalblue\", \"dash\": \"dot\"}, \"name\": \"Training Loss Model LSTM 3\", \"type\": \"scatter\", \"x\": [0, 1], \"y\": [0.21136121451854706, 0.2113611251115799]}, {\"line\": {\"color\": \"firebrick\", \"dash\": \"dot\"}, \"name\": \"Validation Loss Model LSTM 3\", \"type\": \"scatter\", \"x\": [0, 1], \"y\": [0.362335205078125, 0.362335205078125]}, {\"line\": {\"color\": \"royalblue\", \"dash\": \"longdashdot\"}, \"name\": \"Training Loss Model LSTM 4\", \"type\": \"scatter\", \"x\": [0, 1, 2, 3, 4], \"y\": [0.056856054812669754, 0.021027686074376106, 0.017752401530742645, 0.0145590640604496, 0.012609022669494152]}, {\"line\": {\"color\": \"firebrick\", \"dash\": \"longdashdot\"}, \"name\": \"Validation Loss Model LSTM 4\", \"type\": \"scatter\", \"x\": [0, 1, 2, 3, 4], \"y\": [0.03781123459339142, 0.030992167070508003, 0.027525519952178, 0.02539808116853237, 0.03751860186457634]}],\n",
              "                        {\"template\": {\"data\": {\"bar\": [{\"error_x\": {\"color\": \"#2a3f5f\"}, \"error_y\": {\"color\": \"#2a3f5f\"}, \"marker\": {\"line\": {\"color\": \"#E5ECF6\", \"width\": 0.5}}, \"type\": \"bar\"}], \"barpolar\": [{\"marker\": {\"line\": {\"color\": \"#E5ECF6\", \"width\": 0.5}}, \"type\": \"barpolar\"}], \"carpet\": [{\"aaxis\": {\"endlinecolor\": \"#2a3f5f\", \"gridcolor\": \"white\", \"linecolor\": \"white\", \"minorgridcolor\": \"white\", \"startlinecolor\": \"#2a3f5f\"}, \"baxis\": {\"endlinecolor\": \"#2a3f5f\", \"gridcolor\": \"white\", \"linecolor\": \"white\", \"minorgridcolor\": \"white\", \"startlinecolor\": \"#2a3f5f\"}, \"type\": \"carpet\"}], \"choropleth\": [{\"colorbar\": {\"outlinewidth\": 0, \"ticks\": \"\"}, \"type\": \"choropleth\"}], \"contour\": [{\"colorbar\": {\"outlinewidth\": 0, \"ticks\": \"\"}, \"colorscale\": [[0.0, \"#0d0887\"], [0.1111111111111111, \"#46039f\"], [0.2222222222222222, \"#7201a8\"], [0.3333333333333333, \"#9c179e\"], [0.4444444444444444, \"#bd3786\"], [0.5555555555555556, \"#d8576b\"], [0.6666666666666666, \"#ed7953\"], [0.7777777777777778, \"#fb9f3a\"], [0.8888888888888888, \"#fdca26\"], [1.0, \"#f0f921\"]], \"type\": \"contour\"}], \"contourcarpet\": [{\"colorbar\": {\"outlinewidth\": 0, \"ticks\": \"\"}, \"type\": \"contourcarpet\"}], \"heatmap\": [{\"colorbar\": {\"outlinewidth\": 0, \"ticks\": \"\"}, \"colorscale\": [[0.0, \"#0d0887\"], [0.1111111111111111, \"#46039f\"], [0.2222222222222222, \"#7201a8\"], [0.3333333333333333, \"#9c179e\"], [0.4444444444444444, \"#bd3786\"], [0.5555555555555556, \"#d8576b\"], [0.6666666666666666, \"#ed7953\"], [0.7777777777777778, \"#fb9f3a\"], [0.8888888888888888, \"#fdca26\"], [1.0, \"#f0f921\"]], \"type\": \"heatmap\"}], \"heatmapgl\": [{\"colorbar\": {\"outlinewidth\": 0, \"ticks\": \"\"}, \"colorscale\": [[0.0, \"#0d0887\"], [0.1111111111111111, \"#46039f\"], [0.2222222222222222, \"#7201a8\"], [0.3333333333333333, \"#9c179e\"], [0.4444444444444444, \"#bd3786\"], [0.5555555555555556, \"#d8576b\"], [0.6666666666666666, \"#ed7953\"], [0.7777777777777778, \"#fb9f3a\"], [0.8888888888888888, \"#fdca26\"], [1.0, \"#f0f921\"]], \"type\": \"heatmapgl\"}], \"histogram\": [{\"marker\": {\"colorbar\": {\"outlinewidth\": 0, \"ticks\": \"\"}}, \"type\": \"histogram\"}], \"histogram2d\": [{\"colorbar\": {\"outlinewidth\": 0, \"ticks\": \"\"}, \"colorscale\": [[0.0, \"#0d0887\"], [0.1111111111111111, \"#46039f\"], [0.2222222222222222, \"#7201a8\"], [0.3333333333333333, \"#9c179e\"], [0.4444444444444444, \"#bd3786\"], [0.5555555555555556, \"#d8576b\"], [0.6666666666666666, \"#ed7953\"], [0.7777777777777778, \"#fb9f3a\"], [0.8888888888888888, \"#fdca26\"], [1.0, \"#f0f921\"]], \"type\": \"histogram2d\"}], \"histogram2dcontour\": [{\"colorbar\": {\"outlinewidth\": 0, \"ticks\": \"\"}, \"colorscale\": [[0.0, \"#0d0887\"], [0.1111111111111111, \"#46039f\"], [0.2222222222222222, \"#7201a8\"], [0.3333333333333333, \"#9c179e\"], [0.4444444444444444, \"#bd3786\"], [0.5555555555555556, \"#d8576b\"], [0.6666666666666666, \"#ed7953\"], [0.7777777777777778, \"#fb9f3a\"], [0.8888888888888888, \"#fdca26\"], [1.0, \"#f0f921\"]], \"type\": \"histogram2dcontour\"}], \"mesh3d\": [{\"colorbar\": {\"outlinewidth\": 0, \"ticks\": \"\"}, \"type\": \"mesh3d\"}], \"parcoords\": [{\"line\": {\"colorbar\": {\"outlinewidth\": 0, \"ticks\": \"\"}}, \"type\": \"parcoords\"}], \"pie\": [{\"automargin\": true, \"type\": \"pie\"}], \"scatter\": [{\"marker\": {\"colorbar\": {\"outlinewidth\": 0, \"ticks\": \"\"}}, \"type\": \"scatter\"}], \"scatter3d\": [{\"line\": {\"colorbar\": {\"outlinewidth\": 0, \"ticks\": \"\"}}, \"marker\": {\"colorbar\": {\"outlinewidth\": 0, \"ticks\": \"\"}}, \"type\": \"scatter3d\"}], \"scattercarpet\": [{\"marker\": {\"colorbar\": {\"outlinewidth\": 0, \"ticks\": \"\"}}, \"type\": \"scattercarpet\"}], \"scattergeo\": [{\"marker\": {\"colorbar\": {\"outlinewidth\": 0, \"ticks\": \"\"}}, \"type\": \"scattergeo\"}], \"scattergl\": [{\"marker\": {\"colorbar\": {\"outlinewidth\": 0, \"ticks\": \"\"}}, \"type\": \"scattergl\"}], \"scattermapbox\": [{\"marker\": {\"colorbar\": {\"outlinewidth\": 0, \"ticks\": \"\"}}, \"type\": \"scattermapbox\"}], \"scatterpolar\": [{\"marker\": {\"colorbar\": {\"outlinewidth\": 0, \"ticks\": \"\"}}, \"type\": \"scatterpolar\"}], \"scatterpolargl\": [{\"marker\": {\"colorbar\": {\"outlinewidth\": 0, \"ticks\": \"\"}}, \"type\": \"scatterpolargl\"}], \"scatterternary\": [{\"marker\": {\"colorbar\": {\"outlinewidth\": 0, \"ticks\": \"\"}}, \"type\": \"scatterternary\"}], \"surface\": [{\"colorbar\": {\"outlinewidth\": 0, \"ticks\": \"\"}, \"colorscale\": [[0.0, \"#0d0887\"], [0.1111111111111111, \"#46039f\"], [0.2222222222222222, \"#7201a8\"], [0.3333333333333333, \"#9c179e\"], [0.4444444444444444, \"#bd3786\"], [0.5555555555555556, \"#d8576b\"], [0.6666666666666666, \"#ed7953\"], [0.7777777777777778, \"#fb9f3a\"], [0.8888888888888888, \"#fdca26\"], [1.0, \"#f0f921\"]], \"type\": \"surface\"}], \"table\": [{\"cells\": {\"fill\": {\"color\": \"#EBF0F8\"}, \"line\": {\"color\": \"white\"}}, \"header\": {\"fill\": {\"color\": \"#C8D4E3\"}, \"line\": {\"color\": \"white\"}}, \"type\": \"table\"}]}, \"layout\": {\"annotationdefaults\": {\"arrowcolor\": \"#2a3f5f\", \"arrowhead\": 0, \"arrowwidth\": 1}, \"coloraxis\": {\"colorbar\": {\"outlinewidth\": 0, \"ticks\": \"\"}}, \"colorscale\": {\"diverging\": [[0, \"#8e0152\"], [0.1, \"#c51b7d\"], [0.2, \"#de77ae\"], [0.3, \"#f1b6da\"], [0.4, \"#fde0ef\"], [0.5, \"#f7f7f7\"], [0.6, \"#e6f5d0\"], [0.7, \"#b8e186\"], [0.8, \"#7fbc41\"], [0.9, \"#4d9221\"], [1, \"#276419\"]], \"sequential\": [[0.0, \"#0d0887\"], [0.1111111111111111, \"#46039f\"], [0.2222222222222222, \"#7201a8\"], [0.3333333333333333, \"#9c179e\"], [0.4444444444444444, \"#bd3786\"], [0.5555555555555556, \"#d8576b\"], [0.6666666666666666, \"#ed7953\"], [0.7777777777777778, \"#fb9f3a\"], [0.8888888888888888, \"#fdca26\"], [1.0, \"#f0f921\"]], \"sequentialminus\": [[0.0, \"#0d0887\"], [0.1111111111111111, \"#46039f\"], [0.2222222222222222, \"#7201a8\"], [0.3333333333333333, \"#9c179e\"], [0.4444444444444444, \"#bd3786\"], [0.5555555555555556, \"#d8576b\"], [0.6666666666666666, \"#ed7953\"], [0.7777777777777778, \"#fb9f3a\"], [0.8888888888888888, \"#fdca26\"], [1.0, \"#f0f921\"]]}, \"colorway\": [\"#636efa\", \"#EF553B\", \"#00cc96\", \"#ab63fa\", \"#FFA15A\", \"#19d3f3\", \"#FF6692\", \"#B6E880\", \"#FF97FF\", \"#FECB52\"], \"font\": {\"color\": \"#2a3f5f\"}, \"geo\": {\"bgcolor\": \"white\", \"lakecolor\": \"white\", \"landcolor\": \"#E5ECF6\", \"showlakes\": true, \"showland\": true, \"subunitcolor\": \"white\"}, \"hoverlabel\": {\"align\": \"left\"}, \"hovermode\": \"closest\", \"mapbox\": {\"style\": \"light\"}, \"paper_bgcolor\": \"white\", \"plot_bgcolor\": \"#E5ECF6\", \"polar\": {\"angularaxis\": {\"gridcolor\": \"white\", \"linecolor\": \"white\", \"ticks\": \"\"}, \"bgcolor\": \"#E5ECF6\", \"radialaxis\": {\"gridcolor\": \"white\", \"linecolor\": \"white\", \"ticks\": \"\"}}, \"scene\": {\"xaxis\": {\"backgroundcolor\": \"#E5ECF6\", \"gridcolor\": \"white\", \"gridwidth\": 2, \"linecolor\": \"white\", \"showbackground\": true, \"ticks\": \"\", \"zerolinecolor\": \"white\"}, \"yaxis\": {\"backgroundcolor\": \"#E5ECF6\", \"gridcolor\": \"white\", \"gridwidth\": 2, \"linecolor\": \"white\", \"showbackground\": true, \"ticks\": \"\", \"zerolinecolor\": \"white\"}, \"zaxis\": {\"backgroundcolor\": \"#E5ECF6\", \"gridcolor\": \"white\", \"gridwidth\": 2, \"linecolor\": \"white\", \"showbackground\": true, \"ticks\": \"\", \"zerolinecolor\": \"white\"}}, \"shapedefaults\": {\"line\": {\"color\": \"#2a3f5f\"}}, \"ternary\": {\"aaxis\": {\"gridcolor\": \"white\", \"linecolor\": \"white\", \"ticks\": \"\"}, \"baxis\": {\"gridcolor\": \"white\", \"linecolor\": \"white\", \"ticks\": \"\"}, \"bgcolor\": \"#E5ECF6\", \"caxis\": {\"gridcolor\": \"white\", \"linecolor\": \"white\", \"ticks\": \"\"}}, \"title\": {\"x\": 0.05}, \"xaxis\": {\"automargin\": true, \"gridcolor\": \"white\", \"linecolor\": \"white\", \"ticks\": \"\", \"title\": {\"standoff\": 15}, \"zerolinecolor\": \"white\", \"zerolinewidth\": 2}, \"yaxis\": {\"automargin\": true, \"gridcolor\": \"white\", \"linecolor\": \"white\", \"ticks\": \"\", \"title\": {\"standoff\": 15}, \"zerolinecolor\": \"white\", \"zerolinewidth\": 2}}}, \"title\": {\"text\": \"Training and Validation Losses for Different Models\", \"x\": 0.5, \"xanchor\": \"center\", \"yanchor\": \"top\"}, \"xaxis\": {\"title\": {\"text\": \"Epochs\"}}, \"yaxis\": {\"title\": {\"text\": \"Loss\"}}},\n",
              "                        {\"responsive\": true}\n",
              "                    ).then(function(){\n",
              "                            \n",
              "var gd = document.getElementById('91cedf04-c67b-4da1-8d23-f7763fdfa3d5');\n",
              "var x = new MutationObserver(function (mutations, observer) {{\n",
              "        var display = window.getComputedStyle(gd).display;\n",
              "        if (!display || display === 'none') {{\n",
              "            console.log([gd, 'removed!']);\n",
              "            Plotly.purge(gd);\n",
              "            observer.disconnect();\n",
              "        }}\n",
              "}});\n",
              "\n",
              "// Listen for the removal of the full notebook cells\n",
              "var notebookContainer = gd.closest('#notebook-container');\n",
              "if (notebookContainer) {{\n",
              "    x.observe(notebookContainer, {childList: true});\n",
              "}}\n",
              "\n",
              "// Listen for the clearing of the current output cell\n",
              "var outputEl = gd.closest('.output');\n",
              "if (outputEl) {{\n",
              "    x.observe(outputEl, {childList: true});\n",
              "}}\n",
              "\n",
              "                        })\n",
              "                };\n",
              "                \n",
              "            </script>\n",
              "        </div>\n",
              "</body>\n",
              "</html>"
            ]
          },
          "metadata": {
            "tags": []
          }
        }
      ]
    },
    {
      "cell_type": "markdown",
      "metadata": {
        "id": "H0tumFoodiYl"
      },
      "source": [
        "### Prediction and Evaluation"
      ]
    },
    {
      "cell_type": "markdown",
      "metadata": {
        "id": "Z0L1jHCkrJq5"
      },
      "source": [
        "#### Prediction Model LSTM 1"
      ]
    },
    {
      "cell_type": "code",
      "metadata": {
        "colab": {
          "base_uri": "https://localhost:8080/",
          "height": 288
        },
        "id": "8CxICaF4rPBw",
        "outputId": "15a49894-2147-4c11-ec7f-2fa88a47c7f0"
      },
      "source": [
        "from sklearn.metrics import confusion_matrix\n",
        "y_pred = model_LSTM_1.predict(X_test)\n",
        "threshold = 0.6\n",
        "y_pred = [1 if i >= threshold else 0 for i in y_pred]\n",
        "plt.title(\"LSTM Model 1 Confusion Matrix for Test Data\", fontdict={'fontsize':18})\n",
        "ax = sns.heatmap(confusion_matrix(y_test, y_pred), annot=True, fmt=\"d\")"
      ],
      "execution_count": 113,
      "outputs": [
        {
          "output_type": "display_data",
          "data": {
            "image/png": "[encoded data removed]",
            "text/plain": [
              "<Figure size 432x288 with 2 Axes>"
            ]
          },
          "metadata": {
            "tags": []
          }
        }
      ]
    },
    {
      "cell_type": "code",
      "metadata": {
        "colab": {
          "base_uri": "https://localhost:8080/"
        },
        "id": "hOfkVGACrUo3",
        "outputId": "cc1ccdf5-c8c4-4448-88ce-f32a89544927"
      },
      "source": [
        "print(\"Accuracy for LSTM Model 1 on test data: {}%\".format(round((model_LSTM_1.evaluate(X_test, y_test)[1]*100),2)))"
      ],
      "execution_count": null,
      "outputs": [
        {
          "output_type": "stream",
          "text": [
            "305/305 [==============================] - 1s 3ms/step - loss: 0.0635 - accuracy: 0.9153\n",
            "Accuracy for LSTM Model 1 on test data: 91.53%\n"
          ],
          "name": "stdout"
        }
      ]
    },
    {
      "cell_type": "markdown",
      "metadata": {
        "id": "LxwY2rGNq1q_"
      },
      "source": [
        "#### Prediction Model LSTM 2"
      ]
    },
    {
      "cell_type": "code",
      "metadata": {
        "colab": {
          "base_uri": "https://localhost:8080/",
          "height": 288
        },
        "id": "v9_AT4J_q5nV",
        "outputId": "d5a5305e-3c00-4766-ecb6-54eaa1a5a483"
      },
      "source": [
        "from sklearn.metrics import confusion_matrix\n",
        "y_pred = model_LSTM_2.predict(X_test)\n",
        "threshold = 0.6\n",
        "y_pred = [1 if i >= threshold else 0 for i in y_pred]\n",
        "plt.title(\"LSTM Model 2 Confusion Matrix for Test Data\", fontdict={'fontsize':18})\n",
        "ax = sns.heatmap(confusion_matrix(y_test, y_pred), annot=True, fmt=\"d\")"
      ],
      "execution_count": 114,
      "outputs": [
        {
          "output_type": "display_data",
          "data": {
            "image/png": "[encoded data removed]",
            "text/plain": [
              "<Figure size 432x288 with 2 Axes>"
            ]
          },
          "metadata": {
            "tags": []
          }
        }
      ]
    },
    {
      "cell_type": "code",
      "metadata": {
        "colab": {
          "base_uri": "https://localhost:8080/"
        },
        "id": "FA9YCBPVq5sE",
        "outputId": "ad56ce39-0f4e-48aa-8b5a-7d956664f839"
      },
      "source": [
        "print(\"Accuracy for LSTM Model 2 on test data: {}%\".format(round((model_LSTM_2.evaluate(X_test, y_test)[1]*100),2)))"
      ],
      "execution_count": 115,
      "outputs": [
        {
          "output_type": "stream",
          "text": [
            "305/305 [==============================] - 2s 5ms/step - loss: 0.0092 - accuracy: 0.9927\n",
            "Accuracy for LSTM Model 2 on test data: 99.27%\n"
          ],
          "name": "stdout"
        }
      ]
    },
    {
      "cell_type": "markdown",
      "metadata": {
        "id": "nrm6BzkyqiqZ"
      },
      "source": [
        "#### Prediction Model LSTM 3"
      ]
    },
    {
      "cell_type": "code",
      "metadata": {
        "colab": {
          "base_uri": "https://localhost:8080/",
          "height": 288
        },
        "id": "oPqwLPU3qqoQ",
        "outputId": "98026d4b-1eaa-4b54-95d7-aecbc6c6170f"
      },
      "source": [
        "from sklearn.metrics import confusion_matrix\n",
        "y_pred = model_LSTM_3.predict(X_test)\n",
        "threshold = 0.6\n",
        "y_pred = [1 if i >= threshold else 0 for i in y_pred]\n",
        "plt.title(\"LSTM Model 3 Confusion Matrix for Test Data\", fontdict={'fontsize':18})\n",
        "ax = sns.heatmap(confusion_matrix(y_test, y_pred), annot=True, fmt=\"d\")"
      ],
      "execution_count": 116,
      "outputs": [
        {
          "output_type": "display_data",
          "data": {
            "image/png": "[encoded data removed]",
            "text/plain": [
              "<Figure size 432x288 with 2 Axes>"
            ]
          },
          "metadata": {
            "tags": []
          }
        }
      ]
    },
    {
      "cell_type": "code",
      "metadata": {
        "colab": {
          "base_uri": "https://localhost:8080/"
        },
        "id": "8o_p54Yrqwgq",
        "outputId": "c75fb1ea-9286-43ce-cc14-4f91b6879ada"
      },
      "source": [
        "print(\"Accuracy for LSTM Model 3 on test data: {}%\".format(round((model_LSTM_3.evaluate(X_test, y_test)[1]*100),2)))"
      ],
      "execution_count": 117,
      "outputs": [
        {
          "output_type": "stream",
          "text": [
            "305/305 [==============================] - 3s 6ms/step - loss: 0.2093 - accuracy: 0.7907\n",
            "Accuracy for LSTM Model 3 on test data: 79.07%\n"
          ],
          "name": "stdout"
        }
      ]
    },
    {
      "cell_type": "markdown",
      "metadata": {
        "id": "GUPupvwqqdT-"
      },
      "source": [
        "#### Prediction Model LSTM 4"
      ]
    },
    {
      "cell_type": "code",
      "metadata": {
        "colab": {
          "base_uri": "https://localhost:8080/",
          "height": 288
        },
        "id": "LEb7AHi2XwSO",
        "outputId": "9726c771-5a6a-4ec5-8280-32f9800dfe47"
      },
      "source": [
        "from sklearn.metrics import confusion_matrix\n",
        "y_pred = model_LSTM_4.predict(X_test)\n",
        "threshold = 0.6\n",
        "y_pred = [1 if i >= threshold else 0 for i in y_pred]\n",
        "plt.title(\"LSTM Model 4 Confusion Matrix for Test Data\", fontdict={'fontsize':18})\n",
        "ax = sns.heatmap(confusion_matrix(y_test, y_pred), annot=True, fmt=\"d\")"
      ],
      "execution_count": 118,
      "outputs": [
        {
          "output_type": "display_data",
          "data": {
            "image/png": "[encoded data removed]",
            "text/plain": [
              "<Figure size 432x288 with 2 Axes>"
            ]
          },
          "metadata": {
            "tags": []
          }
        }
      ]
    },
    {
      "cell_type": "code",
      "metadata": {
        "colab": {
          "base_uri": "https://localhost:8080/"
        },
        "id": "xIVNfP-6ds90",
        "outputId": "ebcc37a1-2ef6-4788-c933-997badd0cb52"
      },
      "source": [
        "print(\"Accuracy for LSTM Model 4 on test data: {}%\".format(round((model_LSTM_4.evaluate(X_test, y_test)[1]*100),2)))"
      ],
      "execution_count": 119,
      "outputs": [
        {
          "output_type": "stream",
          "text": [
            "305/305 [==============================] - 3s 10ms/step - loss: 0.0183 - accuracy: 0.9875\n",
            "Accuracy for LSTM Model 4 on test data: 98.75%\n"
          ],
          "name": "stdout"
        }
      ]
    },
    {
      "cell_type": "markdown",
      "metadata": {
        "id": "pt9Bbx5bvlt8"
      },
      "source": [
        "# Summary"
      ]
    },
    {
      "cell_type": "code",
      "metadata": {
        "colab": {
          "base_uri": "https://localhost:8080/"
        },
        "id": "UIBr0HscwCYr",
        "outputId": "15d5ac9f-e555-4da8-8402-da3e89d5f3fd"
      },
      "source": [
        "print('MLP Model 1: ')\n",
        "print(f'--- Accuracy for MLP Model 1 on validation data: {val_accuracy_MLP_1[-1]*100:0.2f}% ---')\n",
        "print(\"--- Accuracy for MLP model 2 on test data: {}% ---\".format(round((model_MLP_1.evaluate(X_test, y_test)[1]*100),2)))"
      ],
      "execution_count": null,
      "outputs": [
        {
          "output_type": "stream",
          "text": [
            "MLP Model 1: \n",
            "--- Accuracy for MLP Model 1 on validation data: 91.89% ---\n",
            "305/305 [==============================] - 0s 968us/step - loss: 0.1792 - accuracy: 0.9424\n",
            "--- Accuracy for MLP model 2 on test data: 94.24% ---\n"
          ],
          "name": "stdout"
        }
      ]
    },
    {
      "cell_type": "code",
      "metadata": {
        "colab": {
          "base_uri": "https://localhost:8080/"
        },
        "id": "TEijllaIxpDR",
        "outputId": "ba3bf132-9843-48ff-fe1c-3886964cd504"
      },
      "source": [
        "print('MLP Model 2: ')\n",
        "print(f'--- Accuracy for MLP Model 2 on validation data: {val_accuracy_MLP_2[-1]*100:0.2f}% ---')\n",
        "print(\"--- Accuracy for MLP model 2 on test data: {}% ---\".format(round((model_MLP_2.evaluate(X_test, y_test)[1]*100),2)))"
      ],
      "execution_count": null,
      "outputs": [
        {
          "output_type": "stream",
          "text": [
            "MLP Model 2: \n",
            "--- Accuracy for MLP Model 2 on validation data: 97.86% ---\n",
            "305/305 [==============================] - 0s 973us/step - loss: 0.1052 - accuracy: 0.9766\n",
            "--- Accuracy for MLP model 2 on test data: 97.66% ---\n"
          ],
          "name": "stdout"
        }
      ]
    },
    {
      "cell_type": "code",
      "metadata": {
        "colab": {
          "base_uri": "https://localhost:8080/"
        },
        "id": "HwOYmXMOyduY",
        "outputId": "58a4fe61-04b8-4a58-8395-1f86baa53595"
      },
      "source": [
        "print('MLP Model 3: ')\n",
        "print(f'--- Accuracy for MLP Model 3 on validation data: {val_accuracy_MLP_3[-1]*100:0.2f}% ---')\n",
        "print(\"--- Accuracy for MLP model 3 on test data: {}% ---\".format(round((model_MLP_3.evaluate(X_test, y_test)[1]*100),2)))"
      ],
      "execution_count": null,
      "outputs": [
        {
          "output_type": "stream",
          "text": [
            "MLP Model 3: \n",
            "--- Accuracy for MLP Model 3 on validation data: 97.82% ---\n",
            "305/305 [==============================] - 0s 936us/step - loss: 0.1687 - accuracy: 0.9915\n",
            "--- Accuracy for MLP model 3 on test data: 99.15% ---\n"
          ],
          "name": "stdout"
        }
      ]
    },
    {
      "cell_type": "code",
      "metadata": {
        "colab": {
          "base_uri": "https://localhost:8080/"
        },
        "id": "1HrRIVA-zIsA",
        "outputId": "e1b99123-f005-4d73-8e96-c110a05d586b"
      },
      "source": [
        "print('MLP Model 4: ')\n",
        "print(f'--- Accuracy for MLP Model 4 on validation data: {val_accuracy_MLP_4[-1]*100:0.2f}% ---')\n",
        "print(\"--- Accuracy for MLP model 4 on test data: {}% ---\".format(round((model_MLP_4.evaluate(X_test, y_test)[1]*100),2)))"
      ],
      "execution_count": null,
      "outputs": [
        {
          "output_type": "stream",
          "text": [
            "MLP Model 4: \n",
            "--- Accuracy for MLP Model 4 on validation data: 63.53% ---\n",
            "305/305 [==============================] - 0s 912us/step - loss: 0.5258 - accuracy: 0.7899\n",
            "--- Accuracy for MLP model 4 on test data: 78.99% ---\n"
          ],
          "name": "stdout"
        }
      ]
    },
    {
      "cell_type": "code",
      "metadata": {
        "colab": {
          "base_uri": "https://localhost:8080/"
        },
        "id": "v1cZZXqJzN6l",
        "outputId": "0b94c2cf-cea6-49cd-a42c-3242da302bef"
      },
      "source": [
        "print('LSTM Model 1: ')\n",
        "print(f'--- Accuracy for LSTM Model 1 on validation data: {val_accuracy_LSTM_1[-1]*100:0.2f}% ---')\n",
        "print(\"--- Accuracy for LSTM model 1 on test data: {}% ---\".format(round((model_LSTM_1.evaluate(X_test, y_test)[1]*100),2)))"
      ],
      "execution_count": 121,
      "outputs": [
        {
          "output_type": "stream",
          "text": [
            "LSTM Model 1: \n",
            "--- Accuracy for LSTM Model 1 on validation data: 99.02% ---\n",
            "305/305 [==============================] - 2s 5ms/step - loss: 0.0046 - accuracy: 0.9951\n",
            "--- Accuracy for LSTM model 1 on test data: 99.51% ---\n"
          ],
          "name": "stdout"
        }
      ]
    },
    {
      "cell_type": "code",
      "metadata": {
        "colab": {
          "base_uri": "https://localhost:8080/"
        },
        "id": "NgLeM1-izalM",
        "outputId": "e6a29d50-d7d5-4dd4-94e0-4fb439052eea"
      },
      "source": [
        "print('LSTM Model 2: ')\n",
        "print(f'--- Accuracy for LSTM Model 2 on validation data: {val_accuracy_LSTM_2[-1]*100:0.2f}% ---')\n",
        "print(\"--- Accuracy for LSTM model 2 on test data: {}% ---\".format(round((model_LSTM_2.evaluate(X_test, y_test)[1]*100),2)))"
      ],
      "execution_count": 122,
      "outputs": [
        {
          "output_type": "stream",
          "text": [
            "LSTM Model 2: \n",
            "--- Accuracy for LSTM Model 2 on validation data: 98.34% ---\n",
            "305/305 [==============================] - 1s 5ms/step - loss: 0.0092 - accuracy: 0.9927\n",
            "--- Accuracy for LSTM model 2 on test data: 99.27% ---\n"
          ],
          "name": "stdout"
        }
      ]
    },
    {
      "cell_type": "code",
      "metadata": {
        "colab": {
          "base_uri": "https://localhost:8080/"
        },
        "id": "1lpuM_emz8Ad",
        "outputId": "f9f2a6fe-b8c5-4275-f7e1-676a27ea9dbd"
      },
      "source": [
        "print('LSTM Model 3: ')\n",
        "print(f'--- Accuracy for LSTM Model 3 on validation data: {val_accuracy_LSTM_3[-1]*100:0.2f}% ---')\n",
        "print(\"--- Accuracy for LSTM model 3 on test data: {}% ---\".format(round((model_LSTM_3.evaluate(X_test, y_test)[1]*100),2)))"
      ],
      "execution_count": 123,
      "outputs": [
        {
          "output_type": "stream",
          "text": [
            "LSTM Model 3: \n",
            "--- Accuracy for LSTM Model 3 on validation data: 63.77% ---\n",
            "305/305 [==============================] - 2s 5ms/step - loss: 0.2093 - accuracy: 0.7907\n",
            "--- Accuracy for LSTM model 3 on test data: 79.07% ---\n"
          ],
          "name": "stdout"
        }
      ]
    },
    {
      "cell_type": "code",
      "metadata": {
        "colab": {
          "base_uri": "https://localhost:8080/"
        },
        "id": "gFc89q820A3G",
        "outputId": "74db9275-af5a-41ab-8c3e-38985c24f3e2"
      },
      "source": [
        "print('LSTM Model 4: ')\n",
        "print(f'--- Accuracy for LSTM Model 4 on validation data: {val_accuracy_LSTM_4[-1]*100:0.2f}% ---')\n",
        "print(\"--- Accuracy for LSTM model 4 on test data: {}% ---\".format(round((model_LSTM_4.evaluate(X_test, y_test)[1]*100),2)))"
      ],
      "execution_count": 124,
      "outputs": [
        {
          "output_type": "stream",
          "text": [
            "LSTM Model 4: \n",
            "--- Accuracy for LSTM Model 4 on validation data: 97.33% ---\n",
            "305/305 [==============================] - 3s 10ms/step - loss: 0.0183 - accuracy: 0.9875\n",
            "--- Accuracy for LSTM model 4 on test data: 98.75% ---\n"
          ],
          "name": "stdout"
        }
      ]
    },
    {
      "cell_type": "code",
      "metadata": {
        "id": "YqmlYbW-0FuJ"
      },
      "source": [
        ""
      ],
      "execution_count": null,
      "outputs": []
    }
  ]
}